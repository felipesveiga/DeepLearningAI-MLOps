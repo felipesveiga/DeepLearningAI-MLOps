{
 "cells": [
  {
   "cell_type": "markdown",
   "id": "d3072dec-0b91-4215-9bbb-0760d71524c2",
   "metadata": {},
   "source": [
    "<div>\n",
    "    <h1 style='font-size:40px'>  Introduction to Model Serving</h1>\n",
    "</div>"
   ]
  },
  {
   "cell_type": "markdown",
   "id": "18c8ccb5-3353-4277-9d05-d785f1a9dad5",
   "metadata": {},
   "source": [
    "<h2 style='font-size:30px'> Introduction to Model Serving</h2>\n",
    "<div> \n",
    "    <ul style='font-size:20px'> \n",
    "        <li>\n",
    "        </li>\n",
    "    </ul>\n",
    " </div>"
   ]
  },
  {
   "cell_type": "code",
   "execution_count": 2,
   "id": "7e2e34e3-f9c9-4d82-be15-3f77a108e5f7",
   "metadata": {},
   "outputs": [
    {
     "name": "stdout",
     "output_type": "stream",
     "text": [
      "[master 191633f] Fazer o Lab\n",
      " 9 files changed, 1350 insertions(+), 23 deletions(-)\n",
      " create mode 100644 assignments/03_05/C3_W5_Lab_1_Shap_Values.ipynb\n",
      " create mode 100644 assignments/03_05/C3_W5_Lab_2_Permutation_Importance.ipynb\n",
      " create mode 100644 resources/NIPS-2017-a-unified-approach-to-interpreting-model-predictions-Paper.pdf\n",
      " create mode 100644 resources/NIPS-2017-a-unified-approach-to-interpreting-model-predictions-Paper.pdf:Zone.Identifier\n",
      " create mode 100644 resources/explainable-ai-for-trees.pdf\n",
      " create mode 100644 resources/explainable-ai-for-trees.pdf:Zone.Identifier\n",
      " create mode 100644 resources/tcav.pdf\n",
      " create mode 100644 resources/tcav.pdf:Zone.Identifier\n",
      "Enumerating objects: 16, done.\n",
      "Counting objects: 100% (16/16), done.\n",
      "Delta compression using up to 24 threads\n",
      "Compressing objects: 100% (11/11), done.\n",
      "Writing objects: 100% (12/12), 22.98 MiB | 7.59 MiB/s, done.\n",
      "Total 12 (delta 4), reused 1 (delta 0), pack-reused 0\n",
      "remote: Resolving deltas: 100% (4/4), completed with 4 local objects.\u001b[K\n",
      "To https://github.com/felipesveiga/DeepLearningAI-MLOps.git\n",
      "   562b17e..191633f  master -> master\n"
     ]
    }
   ],
   "source": [
    "! git add .\n",
    "! git commit -am 'Fazer o Lab'\n",
    "! git push"
   ]
  },
  {
   "cell_type": "markdown",
   "id": "2268c32f-babb-4ea7-ac18-24ba9bfa5820",
   "metadata": {},
   "source": [
    "<p style='color:red'> Vi SHapley Additive Explanations até o Quiz da seção; Fazer o Lab \n",
    "</p>"
   ]
  }
 ],
 "metadata": {
  "kernelspec": {
   "display_name": "Python 3 (ipykernel)",
   "language": "python",
   "name": "python3"
  },
  "language_info": {
   "codemirror_mode": {
    "name": "ipython",
    "version": 3
   },
   "file_extension": ".py",
   "mimetype": "text/x-python",
   "name": "python",
   "nbconvert_exporter": "python",
   "pygments_lexer": "ipython3",
   "version": "3.10.12"
  }
 },
 "nbformat": 4,
 "nbformat_minor": 5
}
