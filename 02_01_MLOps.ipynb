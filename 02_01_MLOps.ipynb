{
 "cells": [
  {
   "cell_type": "markdown",
   "id": "1e193b14-b65e-4730-9d96-e4d09ff564db",
   "metadata": {},
   "source": [
    "<h1 style='font-size:40px'> Introduction to Machine Learning Engineering in Production </h1>"
   ]
  },
  {
   "cell_type": "markdown",
   "id": "361a69ae-82a3-4bee-a73b-8c7b935e0c75",
   "metadata": {},
   "source": [
    "<h2 style='font-size:30px'> Overview</h2>\n",
    "<div> \n",
    "    <ul style='font-size:20px'>\n",
    "        <li> \n",
    "            Sistemas corporativos de IA são muito mais complexos do que os de projetos pessoais, ou acadêmicos. Além da parte óbvia de termos que coletar dados e treinar a IA, temos uma série de outras responsabilidades. O diagrama do curso 1 é um bom recurso para nos lembrar dessas coisas: \n",
    "            <center style='margin-top:20px'> \n",
    "                <img src='img/01_01_ml_requirements.png'>\n",
    "            </center>\n",
    "        </li>\n",
    "        <li style='margin-top:20px'>  \n",
    "            Um projeto produtivo de Data Science tem dados constantemente em mudança (data/concept drifts), o que requer monitoramento e re-treinamento constantes. Além disso, a necessidade de altas performances da IA perde um pouco de seu protagonismo, em nome de aspectos como velocidade de predição e interpretabilidade.\n",
    "        </li>\n",
    "        <li>\n",
    "            Como um produto, o modelo deve ter uma fairness bastante alta; todos os nossos clientes devem se sentir beneficiados com ele.\n",
    "        </li>\n",
    "    </ul>\n",
    "</div>"
   ]
  },
  {
   "cell_type": "markdown",
   "id": "ea8b35e3-50f0-4c92-b8c9-32252b4b0849",
   "metadata": {},
   "source": [
    "<h3 style='font-size:30px;font-style:italic'> Modern Software Development Aspects</h3>\n",
    "<div> \n",
    "    <ul style='font-size:20px'> \n",
    "        <li> \n",
    "            Como um produto de software, os Cientistas/Engenheiros devem levar em conta questões como escalabilidade, reprodutibilidade e segurança da sua aplicação.\n",
    "        </li>\n",
    "    </ul>\n",
    " </div>"
   ]
  },
  {
   "cell_type": "markdown",
   "id": "37a26dfa-adbf-4aee-818d-825c708f718c",
   "metadata": {},
   "source": [
    "<h3 style='font-size:30px;font-style:italic'> Manutenabilidade de Nosso Sistema</h3>\n",
    "<div> \n",
    "    <ul style='font-size:20px'> \n",
    "        <li> \n",
    "            Tendo em vista as inevitáveis mudanças em nossos dados, é totalmente normal termos que ajustar algum aspecto de nosso projeto, em momento futuro. Isso inclui hiperparâmetros, ETL e, até mesmo, mudança do escopo do trabalho!\n",
    "             <center style='margin-top:20px'> \n",
    "                <img src='img/02_01_maintainability.png'>\n",
    "            </center>\n",
    "        </li>\n",
    "    </ul>\n",
    " </div>"
   ]
  },
  {
   "cell_type": "markdown",
   "id": "b431dca6-9d8f-4b2d-93bc-f7fe581c0ac9",
   "metadata": {},
   "source": [
    "<h2 style='font-size:30px'> ML Pipelines</h2>\n",
    "<div> \n",
    "    <ul style='font-size:20px'> \n",
    "        <li> \n",
    "            Os projetos de Ciência de Dados podem ser representados por meio de Directed Acyclic Graphs (DAG's). Isso, porque não possuem ciclos e são projetados sempre visando o deployment do modelo.\n",
    "        </li>\n",
    "    </ul>\n",
    "    <figure>\n",
    "                <center style='margin-top:20px'> \n",
    "                    <img src='img/02_01_dag.png'>\n",
    "                    <figcaption> Ilustração de um DAG.</figcaption>\n",
    "                </center>\n",
    "            </figure>\n",
    " </div>"
   ]
  },
  {
   "cell_type": "markdown",
   "id": "ec72526f-bb44-4df1-a8d8-9ee02c6fad4e",
   "metadata": {},
   "source": [
    "<h3 style='font-size:30px;font-style:italic'> TensorFlow Extended</h3>\n",
    "<div> \n",
    "    <ul style='font-size:20px'> \n",
    "        <li> \n",
    "            O TFX é um framework open-source voltado à implantação de Pipelines de ML. Ele será uma ferramenta essencial na especialização.\n",
    "        </li>\n",
    "    </ul>\n",
    " </div>"
   ]
  },
  {
   "cell_type": "markdown",
   "id": "b0047481-1ac6-4374-ade6-198e0af76505",
   "metadata": {},
   "source": [
    "<div>\n",
    "    <hr>\n",
    "    <h1 style='font-size:40px'> Collecting Data </h1>\n",
    "</div>"
   ]
  },
  {
   "cell_type": "markdown",
   "id": "2b59d500-0068-410c-b996-8f265b98ec7a",
   "metadata": {},
   "source": [
    "<h2 style='font-size:30px'> Importance of Data</h2>\n",
    "<div> \n",
    "    <ul style='font-size:20px'> \n",
    "        <li> \n",
    "            Aqui, Crowe enfatiza, mais uma vez, a importância de garantirmos dados consistentes no treinamento de nossa IA. Também nos adverte de que os dados em produção devem cobrir o mesmo espaço de features que os de treinamento.\n",
    "        </li>\n",
    "    </ul>\n",
    " </div>"
   ]
  },
  {
   "cell_type": "markdown",
   "id": "7d475554-4dc2-46b4-863b-fccd42157b93",
   "metadata": {},
   "source": [
    "<h2 style='font-size:30px'> Example Application: Suggesting Runs</h2>\n",
    "<div> \n",
    "    <ul style='font-size:20px'> \n",
    "        <li> \n",
    "            Crowe demonstra as diversas necessidades/preocupações que envolvem um projeto de Ciência de Dados, com o exemplo de um app que sugere rotas de caminhada/corrida para seus usuários (ex: Nike Run).\n",
    "        </li>\n",
    "        <li>\n",
    "            Nada de muito novo foi apresetado. Gostei só de ele ter falado que é importante ter um plano de backup para falhas.\n",
    "        </li>\n",
    "    </ul>\n",
    " </div>"
   ]
  },
  {
   "cell_type": "markdown",
   "id": "b367362e-ab28-4141-8657-864c9df1539c",
   "metadata": {},
   "source": [
    "<h2 style='font-size:30px'> Responsible Data: Security, Privacy & Fairness</h2>\n",
    "<div> \n",
    "    <ul style='font-size:20px'> \n",
    "        <li> \n",
    "            Vamos aprender aqui boas-práticas de coleta de dados para nosso projeto.\n",
    "        </li>\n",
    "        <li>\n",
    "            Mais uma vez, somos apresentados a um exemplo que mostra a importância da fairness para o modelo. Usuários podem ter esteriótipos diferentes sobre uma cena de casamento, dependendo de sua cultura.\n",
    "        </li>\n",
    "    </ul>\n",
    " </div>"
   ]
  },
  {
   "cell_type": "markdown",
   "id": "73929989-7934-4f32-a063-d619537d108c",
   "metadata": {},
   "source": [
    "<h3 style='font-size:30px;font-style:italic'> Data Security and Privacy</h3>\n",
    "<div> \n",
    "    <ul style='font-size:20px'> \n",
    "        <li> \n",
    "            As empresas devem ter um tratamento transparente e ético sobre os dados de seus clientes.\n",
    "        </li>\n",
    "        <li>\n",
    "            O usuário deve ter o controle sobre quais dados ele quer expor.\n",
    "        </li>\n",
    "        <li>\n",
    "            É de responsabilidade da empresa ter um rigoroso controle de segurança sobre os dados armazenados.\n",
    "        </li>\n",
    "    </ul>\n",
    " </div>"
   ]
  },
  {
   "cell_type": "markdown",
   "id": "11aa3cb2-ed11-42e7-8da0-7049b41b5133",
   "metadata": {},
   "source": [
    "<h3 style='font-size:30px;font-style:italic'> Types of Human Raters</h3>\n",
    "<div> \n",
    "    <ul style='font-size:20px'> \n",
    "        <li> \n",
    "            Crowe chama as pessoas que criam as targets dos projetos de \"raters\". Como já vimos na spec, os raters podem ser tanto pessoas comuns, quanto especialistas, a depender do projeto.\n",
    "        </li>\n",
    "    </ul>\n",
    " </div>"
   ]
  },
  {
   "cell_type": "markdown",
   "id": "23d32019-a89a-4923-8569-4e8218401b4e",
   "metadata": {},
   "source": [
    "<div>\n",
    "    <hr>\n",
    "    <h1 style='font-size:40px'> Labeling Data </h1>\n",
    "</div>"
   ]
  },
  {
   "cell_type": "markdown",
   "id": "e89bbb53-0e0a-4eb2-ab6a-0890636e5775",
   "metadata": {},
   "source": [
    "<h2 style='font-size:30px'> Case Study: Degraded Model Performance</h2>\n",
    "<div> \n",
    "    <ul style='font-size:20px'> \n",
    "        <li> \n",
    "            A degradação de um modelo é algo inevitável. No contexto de negócio, isso pode ocorrer tanto de maneira gradual, quanto repentina.\n",
    "        </li>\n",
    "    </ul>\n",
    " </div>"
   ]
  },
  {
   "cell_type": "markdown",
   "id": "afa8c096-8dd7-434e-9b7a-b372eb2f6398",
   "metadata": {},
   "source": [
    "<h3 style='font-size:30px;font-style:italic'> Gradual Problems</h3>\n",
    "<div> \n",
    "    <ul style='font-size:20px'> \n",
    "        <li> \n",
    "            Mudanças graduais podem ter origem na alteração dos dados. Features podem adquirir novas distribuições, ou importâncias. Em séries temporais, uma tendência ou sazonalidade que não estavam previstas pela IA também podem ocorrer.\n",
    "        </li>\n",
    "        <li>\n",
    "            Em outros casos, as mudanças podem estar associadas a aspectos que vão além das features. Um sistema de recomendação, por exemplo, pode não estar ciente de novos padrões de consumo, ou de mudanças no negócio da sua empresa.\n",
    "        </li>\n",
    "    </ul>\n",
    " </div>"
   ]
  },
  {
   "cell_type": "markdown",
   "id": "4d44fa3f-2496-4a0a-9b29-fa83cdfe85d6",
   "metadata": {},
   "source": [
    "<h3 style='font-size:30px;font-style:italic'> Sudden Problems</h3>\n",
    "<div> \n",
    "    <ul style='font-size:20px'> \n",
    "        <li> \n",
    "            Problemas repentinos costumam estar associados a falhas de software ou hardware na sua aplicação. Às vezes, uma atualização defeituosa, falhas de componente, ou até mesmo perda de conectividade são as causas desses problemas.\n",
    "        </li>\n",
    "    </ul>\n",
    " </div>"
   ]
  },
  {
   "cell_type": "markdown",
   "id": "d79c3d70-9bcd-4fce-a92f-4e04b884d076",
   "metadata": {},
   "source": [
    "<h2 style='font-size:30px'> Data and Concept Change in Production ML</h2>\n",
    "<div> \n",
    "    <ul style='font-size:20px'> \n",
    "        <li> \n",
    "            Apesar de constantes no mundo de IA, Data e Concept Drifts ocorrem com intensidades diferentes, a depender do seu projeto.\n",
    "        </li>\n",
    "    </ul>\n",
    " </div>"
   ]
  },
  {
   "cell_type": "markdown",
   "id": "cb5f4a5a-4b99-42d9-ad8d-64fd34947c65",
   "metadata": {},
   "source": [
    "<h3 style='font-size:30px;font-style:italic'> Easy Problems</h3>\n",
    "<div> \n",
    "    <ul style='font-size:20px'> \n",
    "        <li> \n",
    "            Em cases mais simples, é difícil haver data/concept drifts radicais. Normalmente, o retreinamento do modelo se dará por conta de outras coisas, como melhores arquiteturas/dados, ou mudanças no software da aplicação.\n",
    "        </li>\n",
    "        <li>\n",
    "            Um exemplo de case seria um modelo cats x dogs. Normalmente, IA's que prevêm aspectos mais materiais da realidade estão sujeitas a menos drifts.\n",
    "        </li>\n",
    "    </ul>\n",
    " </div>"
   ]
  },
  {
   "cell_type": "markdown",
   "id": "b5f75221-54e2-4daa-9cc0-181b016c604d",
   "metadata": {},
   "source": [
    "<h3 style='font-size:30px;font-style:italic'> Hard Problems</h3>\n",
    "<div> \n",
    "    <ul style='font-size:20px'> \n",
    "        <li> \n",
    "            Situações mais complicadas envolvem previsões de comportamentos voláteis, ou que se alteram com o passar do tempo.\n",
    "        </li>\n",
    "        <li>\n",
    "            Nesses casos, os drifts são mais intensos e os aspectos que interferiram na mudança dos comportamentos podem sequer estar contidos no dataset. \n",
    "        </li>\n",
    "    </ul>\n",
    " </div>"
   ]
  },
  {
   "cell_type": "markdown",
   "id": "d3a875bb-4fe4-4754-b9d1-f12accca9b60",
   "metadata": {},
   "source": [
    "<p style='color:red'> Vi Case Study: Degraded Model Performance e Data and Concept Change in Production ML: Degraded Model Performance; Process Feedback and Human Labeling\n",
    "</p>"
   ]
  }
 ],
 "metadata": {
  "kernelspec": {
   "display_name": "Python 3 (ipykernel)",
   "language": "python",
   "name": "python3"
  },
  "language_info": {
   "codemirror_mode": {
    "name": "ipython",
    "version": 3
   },
   "file_extension": ".py",
   "mimetype": "text/x-python",
   "name": "python",
   "nbconvert_exporter": "python",
   "pygments_lexer": "ipython3",
   "version": "3.11.7"
  }
 },
 "nbformat": 4,
 "nbformat_minor": 5
}
