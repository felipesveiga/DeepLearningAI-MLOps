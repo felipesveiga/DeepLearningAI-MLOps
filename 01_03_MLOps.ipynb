{
 "cells": [
  {
   "cell_type": "markdown",
   "id": "75c1ef70-4c5e-48ad-955b-b3ed2eb06c9f",
   "metadata": {},
   "source": [
    "<h1 style='font-size:40px'> Define Data and Establish Baseline</h1>"
   ]
  },
  {
   "cell_type": "markdown",
   "id": "0ecba1bd-3069-43f9-b2c0-2e98b33b09b3",
   "metadata": {},
   "source": [
    "<h2 style='font-size:30px'> Why is data definition hard?</h2>\n",
    "<div> \n",
    "    <ul style='font-size:20px'> \n",
    "        <li> \n",
    "            A definição do y do modelo pode ser problemática não por conta de ambiguidades (uma instância poder ser de duas classes concomitantemente), e sim pelas diferentes maneiras que conseguimos corretamente criar as targets.\n",
    "        </li>\n",
    "        <li>\n",
    "            Isso é algo comum no campo de Computer Vision, em que as bounding boxes de imagens podem ser traçadas de inúmeras maneiras. A inconsistência nas marcações pode ser danosa à capacidade de aprendizado do modelo.\n",
    "            <center style='margin-top:20px'> \n",
    "                <img src='img/01_03_bounding_box.png'>\n",
    "            </center>\n",
    "        </li>\n",
    "    </ul>\n",
    " </div>"
   ]
  },
  {
   "cell_type": "markdown",
   "id": "c0f4840e-ec39-49c5-b871-f7a9a72323c8",
   "metadata": {},
   "source": [
    "<h2 style='font-size:30px'> More label ambiguity examples</h2>\n",
    "<div> \n",
    "    <ul style='font-size:20px'> \n",
    "        <li> \n",
    "           Tarefas envolvendo dados estruturados ainda envolvem certo grau de ambiguidade. Isso é comum, principalmente, quando tentamos prever comportamentos humanos.  \n",
    "        </li>\n",
    "        <li>\n",
    "            Exemplos desses casos são User ID Merges e detecção de fraudes, em que um dado $X$ é capaz de mapear $\\text{y}$'s distintos.\n",
    "        </li>\n",
    "    </ul>\n",
    " </div>"
   ]
  },
  {
   "cell_type": "code",
   "execution_count": 2,
   "id": "264a6d45-c0a3-4579-9499-36e6237888b4",
   "metadata": {},
   "outputs": [],
   "source": [
    "# 6:20"
   ]
  },
  {
   "cell_type": "markdown",
   "id": "7a46d28e-078f-44c6-b3c4-4f7f483e99e2",
   "metadata": {},
   "source": [
    "<p style='color:red'> Why is data definition hard?</p>"
   ]
  }
 ],
 "metadata": {
  "kernelspec": {
   "display_name": "Python 3 (ipykernel)",
   "language": "python",
   "name": "python3"
  },
  "language_info": {
   "codemirror_mode": {
    "name": "ipython",
    "version": 3
   },
   "file_extension": ".py",
   "mimetype": "text/x-python",
   "name": "python",
   "nbconvert_exporter": "python",
   "pygments_lexer": "ipython3",
   "version": "3.11.7"
  }
 },
 "nbformat": 4,
 "nbformat_minor": 5
}
