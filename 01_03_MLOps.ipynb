{
 "cells": [
  {
   "cell_type": "markdown",
   "id": "75c1ef70-4c5e-48ad-955b-b3ed2eb06c9f",
   "metadata": {},
   "source": [
    "<h1 style='font-size:40px'> Define Data and Establish Baseline</h1>"
   ]
  },
  {
   "cell_type": "markdown",
   "id": "0ecba1bd-3069-43f9-b2c0-2e98b33b09b3",
   "metadata": {},
   "source": [
    "<h2 style='font-size:30px'> Why is data definition hard?</h2>\n",
    "<div> \n",
    "    <ul style='font-size:20px'> \n",
    "        <li> \n",
    "            A definição do y do modelo pode ser problemática não por conta de ambiguidades (uma instância poder ser de duas classes concomitantemente), e sim pelas diferentes maneiras que conseguimos corretamente criar as targets.\n",
    "        </li>\n",
    "        <li>\n",
    "            Isso é algo comum no campo de Computer Vision, em que as bounding boxes de imagens podem ser traçadas de inúmeras maneiras. A inconsistência nas marcações pode ser danosa à capacidade de aprendizado do modelo.\n",
    "            <center style='margin-top:20px'> \n",
    "                <img src='img/01_03_bounding_box.png'>\n",
    "            </center>\n",
    "        </li>\n",
    "    </ul>\n",
    " </div>"
   ]
  },
  {
   "cell_type": "markdown",
   "id": "c0f4840e-ec39-49c5-b871-f7a9a72323c8",
   "metadata": {},
   "source": [
    "<h2 style='font-size:30px'> More label ambiguity examples</h2>\n",
    "<div> \n",
    "    <ul style='font-size:20px'> \n",
    "        <li> \n",
    "           Tarefas com dados estruturados ainda envolvem certo grau de ambiguidade. Isso é comum, principalmente, quando tentamos prever comportamentos humanos.  \n",
    "        </li>\n",
    "        <li>\n",
    "            Exemplos desses casos são User ID Merges e detecção de fraudes, em que um dado $X$ é capaz de mapear $\\text{y}$'s distintos.\n",
    "        </li>\n",
    "    </ul>\n",
    " </div>"
   ]
  },
  {
   "cell_type": "markdown",
   "id": "f1d845bb-c12b-4ff6-b1bc-8b74a8beb5f6",
   "metadata": {},
   "source": [
    "<h2 style='font-size:30px'> Major types of data problems</h2>\n",
    "<div> \n",
    "    <ul style='font-size:20px'> \n",
    "        <li> \n",
    "            As principais dificuldades de um projeto de Machine Learning são muito dependentes de suas características.\n",
    "        </li>\n",
    "    </ul>\n",
    " </div>"
   ]
  },
  {
   "cell_type": "markdown",
   "id": "6de1749a-6670-4925-b6f7-2fcad10af2a1",
   "metadata": {},
   "source": [
    "<h3 style='font-size:30px;font-style:italic'> Dados Estruturados x Não Estruturados</h3>\n",
    "<div> \n",
    "    <ul style='font-size:20px'> \n",
    "        <li> \n",
    "            Como já mencionado, dados estruturados são mais difíceis de serem interpretados por humanos. Isso pode fazer com que o processo de rotulagem das instâncias seja mais difícil, quando comparado com um projeto de dados não estruturados.\n",
    "        </li>\n",
    "        <li>\n",
    "            Dados estruturados são mais difíceis de serem expandidos (Data Augmentation) do que os não estruturados.\n",
    "        </li>\n",
    "        <li>\n",
    "            Projetos de dados não estruturados tipicamente demandam um maior poder computacional, por dependerem de Deep Learning.\n",
    "        </li>\n",
    "    </ul>\n",
    "</div>"
   ]
  },
  {
   "cell_type": "markdown",
   "id": "1db97e53-335a-46c3-b1f4-68aed0f8cfda",
   "metadata": {},
   "source": [
    "<h3 style='font-size:30px;font-style:italic'> Small data x Big Data</h3>\n",
    "<div> \n",
    "    <ul style='font-size:20px'> \n",
    "        <li> \n",
    "            Datasets menores possibilitam uma análise mais minuciosa, mas podem não ser o suficiente para a criação de modelos satisfatórios.\n",
    "        </li>\n",
    "        <li>\n",
    "            Dados menos numerosos permitem um trabalho de rotulagem mais controlável e padronizável também. Quanto maior o dataset, mais analistas precisaremos, aumentando o risco de incoerências das rotulagens de pessoa para pessoa.\n",
    "        </li>\n",
    "    </ul>\n",
    "</div>"
   ]
  },
  {
   "cell_type": "markdown",
   "id": "ba243be3-0e32-4033-bf49-11b3601adf83",
   "metadata": {},
   "source": [
    "<h3 style='font-size:30px;font-style:italic'> Dica de Carreira</h3>\n",
    "<div> \n",
    "    <ul style='font-size:20px'> \n",
    "        <li> \n",
    "            Ao longo de suas carreiras, os Cientistas de Dados tenderão a se especializar em projetos de determinadas características (Big Data de Dados Não Estruturados, por exemplo), em detrimento das outras. Por isso, sempre procure alocar profissionais com experiência em trabalhos similares ao da sua equipe, ao considerar expandi-la. \n",
    "        </li>\n",
    "    </ul>\n",
    "</div>"
   ]
  },
  {
   "cell_type": "markdown",
   "id": "b34a5d3d-9e77-4054-a820-781fa4764bf3",
   "metadata": {},
   "source": [
    "<h2 style='font-size:30px'> Small data and label consistency</h2>\n",
    "<div> \n",
    "    <ul style='font-size:20px'> \n",
    "        <li> \n",
    "           Andrew enfatiza mais uma vez a importância de termos políticas de rotulagem claras. A criação de conceitos $X\\to{y}$ ambíguos levará à criação de modelos de baixo desempenho.\n",
    "        </li>\n",
    "        <li>\n",
    "            A rigidez da criação das targets é essencial, principalmente em projetos envolvendo poucas instâncias (ex: load_iris).\n",
    "        </li>\n",
    "    </ul>\n",
    " </div>"
   ]
  },
  {
   "cell_type": "markdown",
   "id": "8ef9cde6-5c9e-4327-ab1f-2d3dbf89d854",
   "metadata": {},
   "source": [
    "<h2 style='font-size:30px'> Improving label consistency</h2>\n",
    "<div> \n",
    "    <ul style='font-size:20px'> \n",
    "        <li> \n",
    "            Ao iniciar os trabalhos de criação das targets, ponha vários rotuladores para definir as mesmas instâncias. Havendo divergência de opiniões, podemos nos reunir e tentar formalizar um acordo sobre como classificar os dados. \n",
    "        </li>\n",
    "        <li>\n",
    "            É possível que os categorizadores achem que $X$ não contém informações o bastante para chegar a uma conclusão. Nesse caso, vamos ter que buscar novas features. \n",
    "        </li>\n",
    "    </ul>\n",
    " </div>"
   ]
  },
  {
   "cell_type": "markdown",
   "id": "2827e0ef-6902-482d-8e50-87592202286e",
   "metadata": {},
   "source": [
    "<h3 style='font-size:30px;font-style:italic'> Métodos de Rotulagem</h3>\n",
    "<div> \n",
    "    <ul style='font-size:20px'> \n",
    "        <li> \n",
    "            Em algumas situações, os rotuladores poderão achar que a fusão de certas targets em uma só é mais apropriada.\n",
    "        </li>\n",
    "        <li>\n",
    "            Para instâncias de target ambígua/indefinida, criar um rótulo de indefinição pode ser uma solução mais apropriada. Isso evita danos ao treinamento do modelo, fazendo com que instâncias dessa categoria sejam encaminhadas a um humano (Partial Automation).\n",
    "        </li>\n",
    "        <li>\n",
    "            Em projetos de big data, crie os critérios de classificação com um pequeno grupo de rotuladores. Tendo regras consistentes, passe-as aos demais criadores de target para a geração oficial dos $y$'s.\n",
    "        </li>\n",
    "    </ul>\n",
    "</div>"
   ]
  },
  {
   "cell_type": "markdown",
   "id": "a5b31698-c6ca-4080-b593-3b614b49d8ea",
   "metadata": {},
   "source": [
    "<h2 style='font-size:30px'> Human level performance (HLP)</h2>\n",
    "<div> \n",
    "    <ul style='font-size:20px'> \n",
    "        <li> \n",
    "            Como vimos anteriormente, HLP é uma métrica respeitável na concepção de IA's. No entanto, alguns cuidados devem ser tomados ao usá-la.\n",
    "        </li>\n",
    "        <li>\n",
    "            Ao medirmos ela, devemos nos certificar de que o humano avaliado receba apenas exemplos claros de cada target. Isso porque a própria target de uma instância de características ambíguas - criada por outro humano - é pouco confiável para avaliarmos o desempenho de indivíduos.\n",
    "        </li>\n",
    "        <li>\n",
    "            Certifique-se também de criar convenções de target claras ao avaliar o humano. Muitas vezes, ele pode ter classificado a instância corretamente, mas seguindo uma notação diferente - isso é bastante comum em tarefas de Speech Recognition.\n",
    "        </li>\n",
    "    </ul>\n",
    "    <center style='margin-top:20px'> \n",
    "        <figure> \n",
    "            <img src='img/01_03_target_ambiguity.png'>\n",
    "            <figcaption> Targets distintas equivalentes podem danificar a avaliação de HLP</figcaption>\n",
    "        </figure>\n",
    "    </center>\n",
    "</div>"
   ]
  },
  {
   "cell_type": "markdown",
   "id": "22be2871-4ecd-4649-aa4b-13fa0e69ffc1",
   "metadata": {},
   "source": [
    "<h2 style='font-size:30px'> Raising HLP</h2>\n",
    "<div> \n",
    "    <ul style='font-size:20px'> \n",
    "        <li> \n",
    "            Como vimos anteriormente, a HLP de um determinado projeto pode ser prejudicada caso não haja uma convenção clara sobre as targets. \n",
    "        </li>\n",
    "        <li>\n",
    "            Havendo HLP's não muito boas, procure ver se podemos aprimorar a consistência das regras de categorização. Isso possivelmente vai possibilitar que humanos tenham desempenho melhor em rotular os dados. \n",
    "        </li>\n",
    "        <li>\n",
    "            Havendo melhora da performance humana, é esperado que o potencial máximo do modelo também seja incrementado!\n",
    "        </li>\n",
    "    </ul>\n",
    "</div>"
   ]
  },
  {
   "cell_type": "markdown",
   "id": "9ff5810c-96f5-41ad-a222-da6287da934f",
   "metadata": {},
   "source": [
    "<div> \n",
    "    <hr>\n",
    "    <h1 style='font-size:40px'> Label and Organize Data</h1>\n",
    "</div>"
   ]
  },
  {
   "cell_type": "markdown",
   "id": "cf9fb6f4-50d9-47d1-8e67-7fd9d259c474",
   "metadata": {},
   "source": [
    "<h2 style='font-size:30px'> Obtaining Data</h2>\n",
    "<div> \n",
    "    <ul style='font-size:20px'> \n",
    "        <li> \n",
    "            Como vimos ao longo do curso, um projeto de Ciência de Dados é uma cadeia cíclica. Nós conseguimos aprimorar nossas IA's com a geração de insights obtidos pelas várias análises de erros feitas.\n",
    "        </li>\n",
    "        <li>\n",
    "            Um problema comum em muitos projetos é o excesso de tempo gasto com a mera coleta de dados. Isso acontece, pelo desejo dos Cientistas de montar um dataset \"perfeito\" para o treinamento da IA.\n",
    "        </li>\n",
    "        <li>\n",
    "            Esse perfeccionismo leva ao atraso da execução da cadeia e a consequente geração de insights. Temos que nos lembrar que as primeiras iterações não requerem um dataset extenso, e a própria ideia de montar dados perfeitos no primeiro ciclo é inapropriada, pois não houve geração de insights sobre o que de fato o modelo precisa. \n",
    "            <center style='margin-top:20px'> \n",
    "                <img src='img/01_02_modeling_cycle.png'>\n",
    "            </center>\n",
    "        </li>\n",
    "    </ul>\n",
    "</div>"
   ]
  },
  {
   "cell_type": "markdown",
   "id": "1f970f1e-944c-4501-b8e0-fb5ff782c8b7",
   "metadata": {},
   "source": [
    "<h3 style='font-size:30px;font-style:italic'> Escolha da Fonte de Dados</h3>\n",
    "<div> \n",
    "    <ul style='font-size:20px'> \n",
    "        <li> \n",
    "            Certos projetos podem nos oferecer inúmeras fontes de obtenção de dados. Em meio a tantas opções, devemos ter a sapiência de escolher aquela mais apropriada ao trabalho e outras exigências. Podemos pensar em custos, quantidade e qualidade dos dados.\n",
    "        </li>\n",
    "        <li>\n",
    "            Por exemplo, levando em conta a importância de iterarmos rapidamente pelo ciclo da fase de modelagem, escolher a fonte que seja mais facilmente implantável talvez seja melhor.\n",
    "        </li>\n",
    "    </ul>\n",
    "</div>"
   ]
  },
  {
   "cell_type": "markdown",
   "id": "6d91d790-aca8-4826-894c-3a8904340cc6",
   "metadata": {},
   "source": [
    "<h3 style='font-size:30px;font-style:italic'> Labeling Data</h3>\n",
    "<div> \n",
    "    <ul style='font-size:20px'> \n",
    "        <li> \n",
    "            O tipo de pessoa responsável pela marcação do $y$ é muito dependente da natureza do projeto. Certas targets podem ser feitas por pessoas comuns, enquanto outras vão depender de um especialista. Andrew recomenda que, quando possível, nós participemos desse procedimento a fim de obtermos insights dos dados!\n",
    "        </li>\n",
    "        <li>\n",
    "            Ao iniciar uma nova iteração, evite expandir demais o seu dataset para impedir alterações muito bruscas nas distribuições dos dados (data-drifts). \n",
    "        </li>\n",
    "    </ul>\n",
    "</div>"
   ]
  },
  {
   "cell_type": "markdown",
   "id": "7a46d28e-078f-44c6-b3c4-4f7f483e99e2",
   "metadata": {},
   "source": [
    "<p style='color:red'> Data pipeline</p>"
   ]
  }
 ],
 "metadata": {
  "kernelspec": {
   "display_name": "Python 3 (ipykernel)",
   "language": "python",
   "name": "python3"
  },
  "language_info": {
   "codemirror_mode": {
    "name": "ipython",
    "version": 3
   },
   "file_extension": ".py",
   "mimetype": "text/x-python",
   "name": "python",
   "nbconvert_exporter": "python",
   "pygments_lexer": "ipython3",
   "version": "3.11.7"
  }
 },
 "nbformat": 4,
 "nbformat_minor": 5
}
