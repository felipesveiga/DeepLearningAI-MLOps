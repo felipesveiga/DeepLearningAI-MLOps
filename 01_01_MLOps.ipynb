{
 "cells": [
  {
   "cell_type": "markdown",
   "id": "bc823724-d5b5-4d68-bf54-1013b3aaabbc",
   "metadata": {},
   "source": [
    "<h1 style='font-size:40px'> The Machine Learning Project Lifecycle</h1>"
   ]
  },
  {
   "cell_type": "markdown",
   "id": "de3070b1-2e7a-4136-8a44-bff300961938",
   "metadata": {},
   "source": [
    "<h2 style='font-size:30px'> Welcome</h2>\n",
    "<div> \n",
    "    <ul style='font-size:20px'>\n",
    "        <li> \n",
    "            Aula introdutória sobre o curso, com a apresentação de alguns casos de atuação de um Engenheiro de Machine Learning. \n",
    "        </li>\n",
    "    </ul>\n",
    "</div>"
   ]
  },
  {
   "cell_type": "markdown",
   "id": "e0d3d9aa-e579-48fb-8d4c-ca24053ff606",
   "metadata": {},
   "source": [
    "<h3 style='font-size:30px;font-style:italic'> Concept Drift</h3>\n",
    "<div> \n",
    "    <ul style='font-size:20px'>\n",
    "        <li> \n",
    "            Consiste na mudança das propriedades dos dados no ambiente de produção. Isso é algo comum em tarefas de Computer Vision, em que as imagens em deployment têm características distintas com relação aos dados de treino/teste.\n",
    "        </li>\n",
    "        <li> \n",
    "            Andrew Ng deu como exemplo um modelo que detecta defeitos em celulares. A IA pode perder performance caso a iluminação das fotografias se altere - imagem da direita.\n",
    "            <center style='margin-top:20px'> \n",
    "                <img src='img/01_01_cellphones.png'>\n",
    "            </center>\n",
    "        </li>\n",
    "     </ul>\n",
    "</div>"
   ]
  },
  {
   "cell_type": "markdown",
   "id": "c43524c7-23d8-4dba-b90e-549d9f3b2a34",
   "metadata": {},
   "source": [
    "<h3 style='font-size:30px;font-style:italic'> Proof of Concept to Production Gap</h3>\n",
    "<div> \n",
    "    <ul style='font-size:20px'>\n",
    "        <li> \n",
    "            Esse fenômeno é a ausência de código/ferramentas que viabilizem a implantação da IA. Esses recursos podem ser das mais variadas naturezas, como sistemas de monitoramento, infraestrutura de deployment e ETL's.\n",
    "        </li>\n",
    "        <li> \n",
    "            Esse gap ocorre principalmente quando a equipe de Data Science se concentra demais na solução em Jupyter Notebook, se esquecendo de considerar os demais aspectos do projeto.\n",
    "            <center style='margin-top:20px'> \n",
    "                <img src='img/01_01_ml_requirements.png'>\n",
    "            </center>\n",
    "        </li>\n",
    "     </ul>\n",
    "</div>"
   ]
  },
  {
   "cell_type": "markdown",
   "id": "ddf1a20e-34b4-4d55-833f-be9162b04bf8",
   "metadata": {},
   "source": [
    "<h2 style='font-size:30px'> Steps of an ML Project</h2>\n",
    "<div> \n",
    "    <ul style='font-size:20px'>\n",
    "        <li> \n",
    "            O instrutor faz uma breve recapitulação das principais etapas de um projeto de ML. Um planejamento consistente sobre o que deverá ser feito é essencial a fim de evitar retrabalho.\n",
    "            <center style='margin-top:20px'>\n",
    "                <img src='img/01_01_ml_lifecycle.png'>\n",
    "            </center>\n",
    "        </li>\n",
    "    </ul>\n",
    "</div>"
   ]
  },
  {
   "cell_type": "markdown",
   "id": "be507801-a27d-4141-a67f-aa185047374b",
   "metadata": {},
   "source": [
    "<h2 style='font-size:30px'> Case study: speech recognition</h2>\n",
    "<div> \n",
    "    <ul style='font-size:20px'>\n",
    "        <li> \n",
    "            Andrew exemplifica o ciclo de um projeto de Machine Learning com um case de Speech Recognition.\n",
    "        </li>\n",
    "        <li>\n",
    "            Algo curioso que foi mencionado foi que Andrew prefere mais otimizar os dados e hiperparâmetros das IA's do que os códigos delas em seus projetos.\n",
    "            <center style='margin-top:20px'>\n",
    "                <img src='img/01_01_modelling.png'>\n",
    "            </center>\n",
    "        </li>\n",
    "    </ul>\n",
    "</div>"
   ]
  },
  {
   "cell_type": "markdown",
   "id": "77f88e87-6a2d-49f4-95f9-6209f9ab8061",
   "metadata": {},
   "source": [
    "<h2 style='font-size:30px'> Course outline</h2>\n",
    "<div> \n",
    "    <ul style='font-size:20px'>\n",
    "        <li> \n",
    "            Andrew apresenta a estrutura do primeiro curso da especialização. Ele propôs um cronograma que ensina o ciclo de ML de trás para frente. Portanto, vamos primeiro conhecer a fase de deployment, depois de modeling e, por último, de dados e scoping.\n",
    "        </li>\n",
    "    </ul>\n",
    "</div>"
   ]
  },
  {
   "cell_type": "markdown",
   "id": "b39377e1-57f4-4853-b58b-70fc7f990fd6",
   "metadata": {},
   "source": [
    "<h2 style='font-size:30px'> Key challenges</h2>\n",
    "<div> \n",
    "    <ul style='font-size:20px'>\n",
    "        <li> \n",
    "            Somos apresentados aqui aos principais desafios da disponibilização de um modelo de ML.\n",
    "        </li>\n",
    "        <li> \n",
    "            Andrew Ng segrega esses problemas em duas categorias principais: Dados&ML e Engenharia de Software.\n",
    "        </li>\n",
    "    </ul>\n",
    "</div>"
   ]
  },
  {
   "cell_type": "markdown",
   "id": "7dee4d73-444c-465c-9461-34ad7a39b1d5",
   "metadata": {},
   "source": [
    "<h3 style='font-size:30px;font-style:italic'> Dados&ML</h3>\n",
    "<div>\n",
    "    <ul style='font-size:20px'>\n",
    "        <li> \n",
    "            Essa categoria se refere a situações em que há uma mudança na natureza dos dados a qual o modelo é incapaz de reconhecer e se adaptar. Ela pode acontecer tanto de maneira gradativa, quanto repentinamente.\n",
    "        </li>\n",
    "        <li> \n",
    "            Essas alterações posssuem dois tipos:\n",
    "            <ul> \n",
    "                <li> \n",
    "                    <i>Concept Drift</i>: Mudança do mapeamento $\\text{X->y}$.\n",
    "                </li>\n",
    "                <li> \n",
    "                    <i>Data Drift</i>: Mudança nas distribuições de $\\text{X}$.\n",
    "                </li>\n",
    "            </ul>\n",
    "        </li>\n",
    "    </ul>\n",
    "</div>"
   ]
  },
  {
   "cell_type": "markdown",
   "id": "4bf3f154-e5f2-4b56-adfc-ff79b25f9800",
   "metadata": {},
   "source": [
    "<p style='color:red'> Key Challenges (11:40), mencionar os desafios de Eng. Software</p>"
   ]
  }
 ],
 "metadata": {
  "kernelspec": {
   "display_name": "Python 3 (ipykernel)",
   "language": "python",
   "name": "python3"
  },
  "language_info": {
   "codemirror_mode": {
    "name": "ipython",
    "version": 3
   },
   "file_extension": ".py",
   "mimetype": "text/x-python",
   "name": "python",
   "nbconvert_exporter": "python",
   "pygments_lexer": "ipython3",
   "version": "3.12.0"
  }
 },
 "nbformat": 4,
 "nbformat_minor": 5
}
