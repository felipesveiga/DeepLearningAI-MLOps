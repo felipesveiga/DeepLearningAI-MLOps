{
 "cells": [
  {
   "cell_type": "markdown",
   "id": "bc823724-d5b5-4d68-bf54-1013b3aaabbc",
   "metadata": {},
   "source": [
    "<h1 style='font-size:40px'> The Machine Learning Project Lifecycle</h1>"
   ]
  },
  {
   "cell_type": "markdown",
   "id": "de3070b1-2e7a-4136-8a44-bff300961938",
   "metadata": {},
   "source": [
    "<h2 style='font-size:30px'> Welcome</h2>\n",
    "<div> \n",
    "    <ul style='font-size:20px'>\n",
    "        <li> \n",
    "            Aula introdutória sobre o curso, com a apresentação de alguns casos de atuação de um Engenheiro de Machine Learning. \n",
    "        </li>\n",
    "    </ul>\n",
    "</div>"
   ]
  },
  {
   "cell_type": "markdown",
   "id": "e0d3d9aa-e579-48fb-8d4c-ca24053ff606",
   "metadata": {},
   "source": [
    "<h3 style='font-size:30px;font-style:italic'> Concept Drift</h3>\n",
    "<div> \n",
    "    <ul style='font-size:20px'>\n",
    "        <li> \n",
    "            Consiste na mudança das propriedades dos dados no ambiente de produção. Isso é algo comum em tarefas de Computer Vision, em que as imagens em deployment têm características distintas com relação aos dados de treino/teste.\n",
    "        </li>\n",
    "        <li> \n",
    "            Andrew Ng deu como exemplo um modelo que detecta defeitos em celulares. A IA pode perder performance caso a iluminação das fotografias se altere - imagem da direita.\n",
    "            <center style='margin-top:20px'> \n",
    "                <img src='img/01_01_cellphones.png'>\n",
    "            </center>\n",
    "        </li>\n",
    "     </ul>\n",
    "</div>"
   ]
  },
  {
   "cell_type": "markdown",
   "id": "c43524c7-23d8-4dba-b90e-549d9f3b2a34",
   "metadata": {},
   "source": [
    "<h3 style='font-size:30px;font-style:italic'> Proof of Concept to Production Gap</h3>\n",
    "<div> \n",
    "    <ul style='font-size:20px'>\n",
    "        <li> \n",
    "            Esse fenômeno é a ausência de código/ferramentas que viabilizem a implantação da IA. Esses recursos podem ser das mais variadas naturezas, como sistemas de monitoramento, infraestrutura de deployment e ETL's.\n",
    "        </li>\n",
    "        <li> \n",
    "            Esse gap ocorre principalmente quando a equipe de Data Science se concentra demais na solução em Jupyter Notebook, se esquecendo de considerar os demais aspectos do projeto.\n",
    "            <center style='margin-top:20px'> \n",
    "                <img src='img/01_01_ml_requirements.png'>\n",
    "            </center>\n",
    "        </li>\n",
    "     </ul>\n",
    "</div>"
   ]
  },
  {
   "cell_type": "markdown",
   "id": "4bf3f154-e5f2-4b56-adfc-ff79b25f9800",
   "metadata": {},
   "source": [
    "<p style='color:red'> Aula Steps of an ML Project</p>"
   ]
  }
 ],
 "metadata": {
  "kernelspec": {
   "display_name": "Python 3 (ipykernel)",
   "language": "python",
   "name": "python3"
  },
  "language_info": {
   "codemirror_mode": {
    "name": "ipython",
    "version": 3
   },
   "file_extension": ".py",
   "mimetype": "text/x-python",
   "name": "python",
   "nbconvert_exporter": "python",
   "pygments_lexer": "ipython3",
   "version": "3.12.0"
  }
 },
 "nbformat": 4,
 "nbformat_minor": 5
}
