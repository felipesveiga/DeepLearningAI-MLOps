{
 "cells": [
  {
   "cell_type": "markdown",
   "id": "5c953c61-623d-46dc-8f26-f09dab02e361",
   "metadata": {},
   "source": [
    "<div>\n",
    "    <h1 style='font-size:40px'> Dimensionality Reduction</h1>\n",
    "</div>"
   ]
  },
  {
   "cell_type": "markdown",
   "id": "1474b1a9-a5eb-4aa1-93e1-7a1be0d6d145",
   "metadata": {},
   "source": [
    "<h2 style='font-size:30px'> Dimensionality Effect on Performance</h2>\n",
    "<div> \n",
    "    <ul style='font-size:20px'> \n",
    "        <li>\n",
    "            Foi demonstrado nessa aula que utilizar datasets de dimensões exageradas pode levar ao overfitting dos modelos. Isso porque os algoritmos tenderão a capturar padrões muito particulares dos dados de treinamento, o que danificará a sua capacidade de generalização.\n",
    "        </li>\n",
    "    </ul>\n",
    " </div>"
   ]
  },
  {
   "cell_type": "markdown",
   "id": "8121bfc7-fbd3-40c7-861c-ce67645da843",
   "metadata": {
    "jp-MarkdownHeadingCollapsed": true
   },
   "source": [
    "<h2 style='font-size:30px'> Curse of Dimensionality</h2>\n",
    "<div> \n",
    "    <ul style='font-size:20px'> \n",
    "        <li>\n",
    "            Além de aumentar o risco de overfitting, a expansão horizontal do dataset faz com que os data points tendam a possuir mesmas distâncias entre si. Com isso, algortimos baseados em distância, como KNN e K-Means, podem ter problemas em discerni-los.\n",
    "        </li>\n",
    "        <li>\n",
    "            Também é válido mencionar que o acréscimo de features sem a adição de novas instâncias fará com que o espaço se torne cada vez mais esparso.\n",
    "        </li>\n",
    "        <li>\n",
    "            Esse fenômeno é nomeado como Curse of Dimensionality.\n",
    "        </li>\n",
    "    </ul>\n",
    " </div>"
   ]
  },
  {
   "cell_type": "markdown",
   "id": "5d9dd4f3-373b-433c-87fd-8a5aeac34e2f",
   "metadata": {
    "jp-MarkdownHeadingCollapsed": true
   },
   "source": [
    "<h2 style='font-size:30px'> Algorithmic Dimensionality Reduction</h2>\n",
    "<div> \n",
    "    <ul style='font-size:20px'> \n",
    "        <li>\n",
    "            No decorrer dos anos, foram desenvolvidas metodologias de redução de dimensionalidade dos datasets. Os mais famosos em Ciência de Dados seriam o PCA e t-SNE. \n",
    "        </li>\n",
    "        <li>\n",
    "            Alguns outros algoritmos que merecem menção são:\n",
    "            <ul> \n",
    "                <li>\n",
    "                    <i> Linear Discriminant Analysis:</i> Especializado em classificações. Propõe criar uma representação em uma dimensionalidade menor, maximizando as distâncias entre as classes.\n",
    "                </li>\n",
    "                <li> \n",
    "                    <i> Partial Least Squares:</i> Especializado em regressões. Cria uma projeção que maximiza a correlação entre o $y$ e o $X$ do novo espaço.\n",
    "                </li>\n",
    "            </ul>\n",
    "        </li>\n",
    "    </ul>\n",
    " </div>"
   ]
  },
  {
   "cell_type": "markdown",
   "id": "c002a948-23c4-4019-8356-5cf2d5f20ec9",
   "metadata": {
    "jp-MarkdownHeadingCollapsed": true
   },
   "source": [
    "<h2 style='font-size:30px'> Principal Components Analysis</h2>\n",
    "<div> \n",
    "    <ul style='font-size:20px'> \n",
    "        <li>\n",
    "             Maximiza a variância das projeções, ao mesmo tempo em que minimiza o erro de reconstrução ao quadrado.\n",
    "        </li>\n",
    "    </ul>\n",
    " </div>\n",
    "<center style='margin-top:20px'> \n",
    "    <img src='img/03_02_pca.png'>\n",
    "</center>"
   ]
  },
  {
   "cell_type": "markdown",
   "id": "58e4c878-8e66-4097-9fb0-f0c83f01acc4",
   "metadata": {},
   "source": [
    "<h2 style='font-size:30px'> Other Techniques</h2>\n",
    "<div> \n",
    "    <ul style='font-size:20px'> \n",
    "        <li>\n",
    "             Vamos conferir mais algumas técnicas de redução de dimensionalidade.\n",
    "        </li>\n",
    "    </ul>\n",
    " </div>"
   ]
  },
  {
   "cell_type": "markdown",
   "id": "cfa7356e-77b4-4dd3-8b86-e48fb3b537ed",
   "metadata": {},
   "source": [
    "<h3 style='font-size:30px;font-style:italic'> Independent Component Analysis (ICA)</h3>\n",
    "<div> \n",
    "    <ul style='font-size:20px'> \n",
    "        <li> \n",
    "            Busca por direções no espaço que são mais estatisticamente independentes.\n",
    "        </li>\n",
    "    </ul>\n",
    " </div>"
   ]
  },
  {
   "cell_type": "markdown",
   "id": "20ed9a17-0c48-4c84-ba26-cb3428106d26",
   "metadata": {},
   "source": [
    "<h3 style='font-size:30px;font-style:italic'> Non-negative Matrix Factorization (NMF)</h3>\n",
    "<div> \n",
    "    <ul style='font-size:20px'> \n",
    "        <li>\n",
    "            Algoritmo interpretável.\n",
    "        <li> \n",
    "            Requer que os componentes da matriz sejam não negativos.\n",
    "        </li>\n",
    "    </ul>\n",
    " </div>"
   ]
  },
  {
   "cell_type": "markdown",
   "id": "f8d1ce07-7edd-4cfc-9762-f90d695b4496",
   "metadata": {},
   "source": [
    "<div>\n",
    "    <hr>\n",
    "    <h1 style='font-size:40px'> Quantization and Pruning</h1>\n",
    "</div>"
   ]
  },
  {
   "cell_type": "markdown",
   "id": "6d7f7df4-f151-455c-890f-98383d07ff55",
   "metadata": {},
   "source": [
    "<h2 style='font-size:30px'> Mobile, IoT, and Similar Use Cases</h2>\n",
    "<div> \n",
    "    <ul style='font-size:20px'> \n",
    "        <li>\n",
    "             Em algumas áreas da economia, como a indústria, existe a tendência de se implantar modelos de ML nos produtos fabricados. Como esses aparelhos não têm poder computacional tão vasto, os Cientistas de Dados são obrigados a utilizar algoritmos mais simples.\n",
    "        </li>\n",
    "        <li>\n",
    "            A implantação da IA on-device proporciona menores custos aos fabricantes - não precisa de Cloud Computing -, além de conformidade a legislações de privacidade do usuário.\n",
    "        </li>\n",
    "        <li>\n",
    "            Segue abaixo um paralelo entre o deploy em Cloud e local de IA's.\n",
    "        </li>\n",
    "    </ul>\n",
    " </div>"
   ]
  },
  {
   "cell_type": "markdown",
   "id": "08379f03-a8fa-4266-bf36-41665bf9197d",
   "metadata": {},
   "source": [
    "<h3 style='font-size:30px;font-style:italic'> Inference on the Cloud</h3>\n",
    "<div> \n",
    "    <ul style='font-size:20px'> \n",
    "        <li>\n",
    "            O uso do modelo na nuvem possibilita o consumo de arquiteturas mais poderosas, além da utilização de escalabilidade.\n",
    "        </li>\n",
    "        <li>\n",
    "            Vale lembrar que a atualização da IA depende apenas em sua modificação no servidor, e não de upgrade do app ou compra de novo aparelho pelo cliente.\n",
    "        </li>\n",
    "        <li>\n",
    "            No entanto, o consumo da IA fica dependente da internet. O UX pode ser prejudicado, caso haja conexões mais lentas.\n",
    "        </li>\n",
    "    </ul>\n",
    " </div>"
   ]
  },
  {
   "cell_type": "markdown",
   "id": "dea2b143-d3a4-4b7e-8fb3-f74f38a1be06",
   "metadata": {},
   "source": [
    "<h3 style='font-size:30px;font-style:italic'> Inference on the Device</h3>\n",
    "<div> \n",
    "    <ul style='font-size:20px'> \n",
    "        <li>\n",
    "            Apesar de necessitar de arquiteturas mais simples, o tempo de resposta da IA não estará mais sujeito à qualidade da internet. \n",
    "        </li>\n",
    "    </ul>\n",
    " </div>"
   ]
  },
  {
   "cell_type": "markdown",
   "id": "febbcb76-f2c8-4b99-b499-636971f3ab93",
   "metadata": {},
   "source": [
    "<h2 style='font-size:30px'>  Benefits and Process of Quantization</h2>\n",
    "<div> \n",
    "    <ul style='font-size:20px'> \n",
    "        <li>\n",
    "        </li>\n",
    "    </ul>\n",
    " </div>"
   ]
  },
  {
   "cell_type": "markdown",
   "id": "0b0d63ef-b315-43d9-af42-2cd26c38c66e",
   "metadata": {},
   "source": [
    "<p style='color:red'> Vi Mobile, IoT, and Similar Use Cases; Ver Benefits and Process of Quantization\n",
    "</p>"
   ]
  }
 ],
 "metadata": {
  "kernelspec": {
   "display_name": "Python 3 (ipykernel)",
   "language": "python",
   "name": "python3"
  },
  "language_info": {
   "codemirror_mode": {
    "name": "ipython",
    "version": 3
   },
   "file_extension": ".py",
   "mimetype": "text/x-python",
   "name": "python",
   "nbconvert_exporter": "python",
   "pygments_lexer": "ipython3",
   "version": "3.10.12"
  }
 },
 "nbformat": 4,
 "nbformat_minor": 5
}
