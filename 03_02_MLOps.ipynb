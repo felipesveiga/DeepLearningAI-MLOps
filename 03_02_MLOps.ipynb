{
 "cells": [
  {
   "cell_type": "markdown",
   "id": "5c953c61-623d-46dc-8f26-f09dab02e361",
   "metadata": {},
   "source": [
    "<div>\n",
    "    <h1 style='font-size:40px'> Dimensionality Reduction</h1>\n",
    "</div>"
   ]
  },
  {
   "cell_type": "markdown",
   "id": "1474b1a9-a5eb-4aa1-93e1-7a1be0d6d145",
   "metadata": {},
   "source": [
    "<h2 style='font-size:30px'> Dimensionality Effect on Performance</h2>\n",
    "<div> \n",
    "    <ul style='font-size:20px'> \n",
    "        <li>\n",
    "            Foi demonstrado nessa aula que utilizar datasets de dimensões exageradas pode levar ao overfitting dos modelos. Isso porque os algoritmos tenderão a capturar padrões muito particulares dos dados de treinamento, o que danificará a sua capacidade de generalização.\n",
    "        </li>\n",
    "    </ul>\n",
    " </div>"
   ]
  },
  {
   "cell_type": "markdown",
   "id": "8121bfc7-fbd3-40c7-861c-ce67645da843",
   "metadata": {},
   "source": [
    "<h2 style='font-size:30px'> Curse of Dimensionality</h2>\n",
    "<div> \n",
    "    <ul style='font-size:20px'> \n",
    "        <li>\n",
    "            Além de aumentar o risco de overfitting, a expansão horizontal do dataset faz com que os data points tendam a possuir mesmas distâncias entre si. Com isso, algortimos baseados em distância, como KNN e K-Means, podem ter problemas em discerni-los.\n",
    "        </li>\n",
    "        <li>\n",
    "            Também é válido mencionar que o acréscimo de features sem a adição de novas instâncias fará com que o espaço se torne cada vez mais esparso.\n",
    "        </li>\n",
    "        <li>\n",
    "            Esse fenômeno é nomeado como Curse of Dimensionality.\n",
    "        </li>\n",
    "    </ul>\n",
    " </div>"
   ]
  },
  {
   "cell_type": "markdown",
   "id": "0b0d63ef-b315-43d9-af42-2cd26c38c66e",
   "metadata": {},
   "source": [
    "<p style='color:red'> Vi asulas sobre redução manual de dimensionalidade e fiz o- Ungraded Lab; Ver Algorithmic Dimensionality Reduction\n",
    "</p>"
   ]
  }
 ],
 "metadata": {
  "kernelspec": {
   "display_name": "Python 3 (ipykernel)",
   "language": "python",
   "name": "python3"
  },
  "language_info": {
   "codemirror_mode": {
    "name": "ipython",
    "version": 3
   },
   "file_extension": ".py",
   "mimetype": "text/x-python",
   "name": "python",
   "nbconvert_exporter": "python",
   "pygments_lexer": "ipython3",
   "version": "3.12.3"
  }
 },
 "nbformat": 4,
 "nbformat_minor": 5
}
