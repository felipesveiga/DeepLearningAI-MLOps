{
 "cells": [
  {
   "cell_type": "markdown",
   "id": "5c953c61-623d-46dc-8f26-f09dab02e361",
   "metadata": {},
   "source": [
    "<div>\n",
    "    <h1 style='font-size:40px'> Dimensionality Reduction</h1>\n",
    "</div>"
   ]
  },
  {
   "cell_type": "markdown",
   "id": "1474b1a9-a5eb-4aa1-93e1-7a1be0d6d145",
   "metadata": {},
   "source": [
    "<h2 style='font-size:30px'> Dimensionality Effect on Performance</h2>\n",
    "<div> \n",
    "    <ul style='font-size:20px'> \n",
    "        <li>\n",
    "            Foi demonstrado nessa aula que utilizar datasets de dimensões exageradas pode levar ao overfitting dos modelos. Isso porque os algoritmos tenderão a capturar padrões muito particulares dos dados de treinamento, o que danificará a sua capacidade de generalização.\n",
    "        </li>\n",
    "    </ul>\n",
    " </div>"
   ]
  },
  {
   "cell_type": "markdown",
   "id": "0b0d63ef-b315-43d9-af42-2cd26c38c66e",
   "metadata": {},
   "source": [
    "<p style='color:red'> Fiz o Assignment da Semana 1 e vi Dimensionality Reduction Effect on Performance; Ver Curse of Dimensionality\n",
    "</p>"
   ]
  }
 ],
 "metadata": {
  "kernelspec": {
   "display_name": "Python 3 (ipykernel)",
   "language": "python",
   "name": "python3"
  },
  "language_info": {
   "codemirror_mode": {
    "name": "ipython",
    "version": 3
   },
   "file_extension": ".py",
   "mimetype": "text/x-python",
   "name": "python",
   "nbconvert_exporter": "python",
   "pygments_lexer": "ipython3",
   "version": "3.12.3"
  }
 },
 "nbformat": 4,
 "nbformat_minor": 5
}
