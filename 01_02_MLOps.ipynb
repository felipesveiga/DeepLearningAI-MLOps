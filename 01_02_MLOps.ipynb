{
 "cells": [
  {
   "cell_type": "markdown",
   "id": "ff116bda-07dc-4be6-89ee-0350c862b196",
   "metadata": {},
   "source": [
    "<h1 style='font-size:40px'> Select and Train a Model</h1>\n",
    "<div> \n",
    "    <ul style='font-size:20px'> \n",
    "        <li> \n",
    "             Andrew discorrerá nesta semana sobre melhores práticas no desenvolvimento de IA's.\n",
    "        </li>\n",
    "    </ul>\n",
    "</div>"
   ]
  },
  {
   "cell_type": "markdown",
   "id": "a1e04bde-ad61-4a29-862e-e6addc7dcc9a",
   "metadata": {},
   "source": [
    "<h2 style='font-size:30px'> Modeling overview</h2>\n",
    "<div> \n",
    "    <ul style='font-size:20px'> \n",
    "        <li> \n",
    "            Andrew apresenta um conflito comum no desenvolvimento de IA's, em que alguns cientistas preferem criar arquiteturas que melhor se adequem à tarefa em questão (model-centric), enquanto outros acreditam que uma ênfase maior deve ser direcionada ao tratamento dos dados que alimentam o modelo (data-centric).\n",
    "        </li>\n",
    "        <li> \n",
    "            Na opinião do professor, é mais vantajoso criarmos a IA em uma abordagem data-centric. Afinal de contas, ter um dataset de qualidade e com informações verossímeis pode garantir a criação de uma boa IA tanto em algoritmos simples, quanto nos mais complexos.\n",
    "        </li>\n",
    "    </ul>\n",
    "</div>"
   ]
  },
  {
   "cell_type": "markdown",
   "id": "40de043b-bffc-44f4-bff2-62d1ba8d3405",
   "metadata": {
    "tags": []
   },
   "source": [
    "<h2 style='font-size:30px'> Key challenges</h2>\n",
    "<h3 style='font-size:30px;font-style:italic'> O Ciclo da Modelagem</h3>\n",
    "<div> \n",
    "    <ul style='font-size:20px'> \n",
    "        <li> \n",
    "            Podemos definir 3 etapas principais no ciclo de modelagem: definição do modelo, hiperparâmetros e dados; treinamento; e análise de erros.\n",
    "            <center style='margin-top:20px'> \n",
    "                <img src='img/01_02_modeling_cycle.png'>\n",
    "            </center>\n",
    "        </li>\n",
    "    </ul>\n",
    "</div>"
   ]
  },
  {
   "cell_type": "markdown",
   "id": "4b9e0dbb-e14b-480d-913e-f02d75cba168",
   "metadata": {},
   "source": [
    "<h3 style='font-size:30px;font-style:italic'> Desafios em Modelagem</h3>\n",
    "<div> \n",
    "    <ul style='font-size:20px'> \n",
    "        <li> \n",
    "            Para termos um modelo digno de deployment, devemos de maneira geral suceder nesses 3 desafios principais:\n",
    "            <ul> \n",
    "                <li> \n",
    "                    Boas métricas no set de treino.\n",
    "                </li>\n",
    "                <li> \n",
    "                    Boas métricas no set de teste.\n",
    "                </li>\n",
    "                <li> \n",
    "                    Boas métricas nos indicadores de negócio.\n",
    "                </li>\n",
    "            </ul>\n",
    "        </li>\n",
    "    </ul>\n",
    "</div>"
   ]
  },
  {
   "cell_type": "markdown",
   "id": "0fa83062-2adb-4c01-9401-436bb21ecfe7",
   "metadata": {},
   "source": [
    "<h2 style='font-size:30px'> Why low average error isn't good enough</h2>\n",
    "<div> \n",
    "    <ul style='font-size:20px'> \n",
    "        <li> \n",
    "            Às vezes, o score do modelo no set de teste não indica necessariamente que ele está adequado para implantação. É uma pontuação generalista demais que muitas vezes desconsidera outros aspectos relevantes do projeto. \n",
    "        </li>\n",
    "    </ul>\n",
    "</div>"
   ]
  },
  {
   "cell_type": "markdown",
   "id": "b308e173-c1ef-4b48-aba5-70f1e10c0032",
   "metadata": {},
   "source": [
    "<h3 style='font-size:30px;font-style:italic'> Performance on disproportionately important examples</h3>\n",
    "<div> \n",
    "    <ul style='font-size:20px'> \n",
    "        <li> \n",
    "            O nosso projeto pode conter targets cujo acerto é muito mais importante do que o de outras classes - como no caso de detectores de tumores, em que a previsão certa de \"1\" é de maior relevância do que de \"0\".  \n",
    "        </li>\n",
    "        <li>\n",
    "            Por mais que existam métricas que nos ajudem a lidar com esse tipo de problema (como o f-beta), elas podem não funcionar em todos os contextos. Por isso, você deve ser bastante imaginativo em pensar em outras maneiras de avaliar seu modelo.\n",
    "        </li>\n",
    "    </ul>\n",
    "</div>"
   ]
  },
  {
   "cell_type": "markdown",
   "id": "2f6433a2-faba-4b0a-8093-a40767478164",
   "metadata": {},
   "source": [
    "<h3 style='font-size:30px;font-style:italic'> Performance on key slices of the dataset</h3>\n",
    "<div> \n",
    "    <ul style='font-size:20px'> \n",
    "        <li> \n",
    "            Existe também a possibilidade de a IA apresentar discriminações e vieses que podem afetar a reputação da empresa com seus clientes ou sociedade.\n",
    "        </li>\n",
    "        <li> \n",
    "            Dependendo dos atributos em que ela foi treinada, é possível que faça suas previsões com base em critérios sensíveis (raça, sexo). Por isso, é essencial evitar a inclusão de dados com essa natureza no dataset.\n",
    "        </li>\n",
    "        <li> \n",
    "            A satisfação de todos os shareholders também é importante. O modelo não deve prover performances satisfatórias a apenas um grupo de clientes ou beneficiários. Por exemplo, é prejudicial um sistema de recomendação de produtos ter bons resultados em apenas tipos de consultas específicas, ou recomendar somente produtos de algumas marcas, negligenciando as demais.\n",
    "        </li>\n",
    "    </ul>\n",
    "</div>"
   ]
  },
  {
   "cell_type": "markdown",
   "id": "8cb0c433-509f-4f37-a910-79c39fd3777d",
   "metadata": {},
   "source": [
    "<h3 style='font-size:30px;font-style:italic'> Rare Classes</h3>\n",
    "<div> \n",
    "    <ul style='font-size:20px'> \n",
    "        <li> \n",
    "            Em classificações envolvendo targets raras, acurácia pode não ser uma métrica confiável na avaliação qualitativa do modelo. Seu valor retornado pode nos dar uma impressão excessivamente otimista sobre a sua real performance. \n",
    "        </li>\n",
    "    </ul>\n",
    "</div>"
   ]
  },
  {
   "cell_type": "markdown",
   "id": "50682406-a347-42ce-a21a-c8f90909c883",
   "metadata": {},
   "source": [
    "<h3 style='font-size:30px;font-style:italic'> Pensando Além do Test Set</h3>\n",
    "<div> \n",
    "    <ul style='font-size:20px'> \n",
    "        <li> \n",
    "            Alguns modelos, mesmo indo bem no conjunto de teste, podem acabar não tendo um impacto tão significativo na área de negócios. Dessa forma, o Cientista, consciente de seu papel na estratégia do setor, não deve se dar como satisfeito, indo tentar corrigir possíveis problemas.\n",
    "        </li>\n",
    "    </ul>\n",
    "</div>"
   ]
  },
  {
   "cell_type": "markdown",
   "id": "6cf41470-3c45-4b2e-80cd-abee4ffea4ba",
   "metadata": {},
   "source": [
    "<h2 style='font-size:30px'> Establish a baseline</h2>\n",
    "<div> \n",
    "    <ul style='font-size:20px'> \n",
    "        <li> \n",
    "            Quando iniciamos a fase de modelagem, sempre reconhecemos como baseline a performance de um algoritmo mais simples, como um Naïve Bayes ou Regressão Logística. Nesta aula, Andrew propõe ampliar nosso repertório de métodos que podem ser usados como baseline de nossos projetos.\n",
    "        </li>\n",
    "    </ul>\n",
    "</div>"
   ]
  },
  {
   "cell_type": "markdown",
   "id": "ca3442c7-de02-45f1-8fcd-9e960fd32597",
   "metadata": {},
   "source": [
    "<h3 style='font-size:30px;font-style:italic'>Human Level Performance (HLP)</h3>\n",
    "<div> \n",
    "    <ul style='font-size:20px'> \n",
    "        <li> \n",
    "            Como humanos tendem a demonstrar alta performance em tarefas com dados não estruturados, usá-los para estabelecer baselines pode ser algo interessante. Você poderia comparar o seu desempenho com o da IA em missões como transcrição de áudio. \n",
    "            <center style='margin-top:20px'> \n",
    "                <img src='img/01_02_hlp.png'>\n",
    "            </center>\n",
    "        </li>\n",
    "    </ul>\n",
    "</div>"
   ]
  },
  {
   "cell_type": "markdown",
   "id": "b1f3b2e4-917f-4922-9563-ffb2c66c6a14",
   "metadata": {},
   "source": [
    "<p style='color:red'> Establish a baseline (2:40)</p>"
   ]
  }
 ],
 "metadata": {
  "kernelspec": {
   "display_name": "Python 3 (ipykernel)",
   "language": "python",
   "name": "python3"
  },
  "language_info": {
   "codemirror_mode": {
    "name": "ipython",
    "version": 3
   },
   "file_extension": ".py",
   "mimetype": "text/x-python",
   "name": "python",
   "nbconvert_exporter": "python",
   "pygments_lexer": "ipython3",
   "version": "3.12.0"
  }
 },
 "nbformat": 4,
 "nbformat_minor": 5
}
