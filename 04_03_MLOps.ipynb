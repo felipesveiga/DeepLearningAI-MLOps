{
 "cells": [
  {
   "cell_type": "markdown",
   "id": "146f6f59-d0f5-45d2-89c7-dbb02644d41a",
   "metadata": {},
   "source": [
    "<div>\n",
    "    <h1 style='font-size:40px'> Experiment Tracking</h1>\n",
    "</div>"
   ]
  },
  {
   "cell_type": "markdown",
   "id": "7a72527f-adef-403f-b694-23bc5a6008c7",
   "metadata": {},
   "source": [
    "<h2 style='font-size:30px'> Experiment Tracking</h2>\n",
    "<div> \n",
    "    <ul style='font-size:20px'> \n",
    "        <li>\n",
    "            Machine Learning - em especial Deep Learning - é uma área altamente experimental. Isso significa que a maior parte das arquiteturas divulgadas foi obtidas por tentativa e erro.\n",
    "        </li>\n",
    "        <li>\n",
    "            Durante cada experimento, é muito importante registrarmos a configuração do nosso modelo, juntamente com seus hiperparâmetros; é fácil demais perdermos essas informações de uma tentativa para outra. \n",
    "        </li>\n",
    "        <li>\n",
    "            Uma maneira extremamente simples de fazermos isso é com documentos como YAML files. Observe como os nossos dados ficam escritos de forma organizada.\n",
    "        </li>\n",
    "    </ul>\n",
    " </div>"
   ]
  },
  {
   "cell_type": "markdown",
   "id": "6b9e86e2-bdf6-4a28-bfe9-e1c7f1acd080",
   "metadata": {},
   "source": [
    " <center style='margin-top:20px'>\n",
    "                <img src='img/04_03_yaml.png'>\n",
    "            </center>"
   ]
  },
  {
   "cell_type": "markdown",
   "id": "3832cb62-7b95-449a-a2dd-e81567c5b22e",
   "metadata": {},
   "source": [
    "<h2 style='font-size:30px'> Tools for Experiment Tracking</h2>\n",
    "<div> \n",
    "    <ul style='font-size:20px'> \n",
    "        <li>\n",
    "            Não apenas nossos modelos podem mudar ao longo do experimento, como também nosso dataset. Muitas vezes, podemos recorrer a novas features nas DB's, assim como a outras técnicas de Feature Engineering.\n",
    "        </li>\n",
    "        <li>\n",
    "            Considere registrar os seus datasets com o auxílio de ferramentas como o Git LFS ou ML-Metadata.\n",
    "        </li>\n",
    "    </ul>\n",
    " </div>"
   ]
  },
  {
   "cell_type": "markdown",
   "id": "f1022f3f-c3dc-4275-ad34-65cb33fbf3dc",
   "metadata": {},
   "source": [
    "<h2 style='font-size:30px'> Introduction to MLOps</h2>\n",
    "<div> \n",
    "    <ul style='font-size:20px'> \n",
    "        <li>\n",
    "            MLOps é a atividade que integra o modelo feito pelo Cientista de Dados ao produto do qual ele fará parte.\n",
    "        </li>\n",
    "        <li>\n",
    "            O Engenheiro de ML deverá ser capaz de testar todos os componentes da Pipeline de ML (CI), assim como também introduzi-lo no ambiente de produção (CD), monitorando-o (CM) e, se possível, retreinando-o (CT). \n",
    "        </li>\n",
    "    </ul>\n",
    " </div>"
   ]
  },
  {
   "cell_type": "markdown",
   "id": "d5c0785c-5e3a-4d42-92c4-afb1c7994d5b",
   "metadata": {},
   "source": [
    "<div>\n",
    "    <h1 style='font-size:40px'> MLOps Methodology</h1>\n",
    "    <ul style='font-size:20px'> \n",
    "        <li>\n",
    "            Podemos classificar a maturidade um fluxo de MLOps com base em seu grau de automação. \n",
    "        </li>\n",
    "        <li>\n",
    "            Nesta seção, entenderemos cada um dos níveis de desenvolvimento de uma área de Engenharia de ML.\n",
    "        </li>\n",
    "    </ul>\n",
    "</div>"
   ]
  },
  {
   "cell_type": "markdown",
   "id": "eb85baf3-7ee9-4e52-a1d4-f8c49d44bd06",
   "metadata": {},
   "source": [
    "<h2 style='font-size:30px'> MLOps Level 0</h2>\n",
    "<div> \n",
    "    <ul style='font-size:20px'> \n",
    "        <li>\n",
    "            No nível 0, há nenhuma automação. Cada etapa do desenvolvimento do modelo é feita manualmente (normalmente em arquivos .ipynb).  \n",
    "        </li>\n",
    "        <li>\n",
    "            É tolerável em contextos em que o retreinamento é menos frequente.\n",
    "        </li>\n",
    "    </ul>\n",
    " </div>"
   ]
  },
  {
   "cell_type": "code",
   "execution_count": 4,
   "id": "63c86c10-e4c4-4494-8bf8-dfb2f2254a16",
   "metadata": {},
   "outputs": [
    {
     "name": "stdout",
     "output_type": "stream",
     "text": [
      "[master 42dd6d4] Iniciar semana 3\n",
      " 1 file changed, 12 insertions(+), 14 deletions(-)\n",
      "Enumerating objects: 5, done.\n",
      "Counting objects: 100% (5/5), done.\n",
      "Delta compression using up to 24 threads\n",
      "Compressing objects: 100% (3/3), done.\n",
      "Writing objects: 100% (3/3), 511 bytes | 511.00 KiB/s, done.\n",
      "Total 3 (delta 2), reused 0 (delta 0), pack-reused 0\n",
      "remote: Resolving deltas: 100% (2/2), completed with 2 local objects.\u001b[K\n",
      "To https://github.com/felipesveiga/DeepLearningAI-MLOps.git\n",
      "   02b75c4..42dd6d4  master -> master\n"
     ]
    }
   ],
   "source": [
    "! git add .\n",
    "! git commit -am 'Ver MLOps Levels 1&2'\n",
    "! git push"
   ]
  },
  {
   "cell_type": "markdown",
   "id": "84ec090d-4a2e-4368-8bff-3fee6c5f58b5",
   "metadata": {},
   "source": [
    "<p style='color:red'> Vi Introduction to MLOps a MLOps Level 0; Ver MLOps Levels 1&2\n",
    "</p>"
   ]
  }
 ],
 "metadata": {
  "kernelspec": {
   "display_name": "Python 3 (ipykernel)",
   "language": "python",
   "name": "python3"
  },
  "language_info": {
   "codemirror_mode": {
    "name": "ipython",
    "version": 3
   },
   "file_extension": ".py",
   "mimetype": "text/x-python",
   "name": "python",
   "nbconvert_exporter": "python",
   "pygments_lexer": "ipython3",
   "version": "3.10.12"
  }
 },
 "nbformat": 4,
 "nbformat_minor": 5
}
