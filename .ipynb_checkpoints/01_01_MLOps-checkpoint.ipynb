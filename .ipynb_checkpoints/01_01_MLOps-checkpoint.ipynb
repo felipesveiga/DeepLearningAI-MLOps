{
 "cells": [
  {
   "cell_type": "markdown",
   "id": "bc823724-d5b5-4d68-bf54-1013b3aaabbc",
   "metadata": {},
   "source": [
    "<h1 style='font-size:40px'> The Machine Learning Project Lifecycle</h1>"
   ]
  },
  {
   "cell_type": "markdown",
   "id": "de3070b1-2e7a-4136-8a44-bff300961938",
   "metadata": {},
   "source": [
    "<h2 style='font-size:30px'> Welcome</h2>\n",
    "<div> \n",
    "    <ul style='font-size:20px'>\n",
    "        <li> \n",
    "            Aula introdutória sobre o curso, com a apresentação de alguns casos de atuação de um Engenheiro de Machine Learning. \n",
    "        </li>\n",
    "    </ul>\n",
    "</div>"
   ]
  },
  {
   "cell_type": "markdown",
   "id": "e0d3d9aa-e579-48fb-8d4c-ca24053ff606",
   "metadata": {},
   "source": [
    "<h3 style='font-size:30px;font-style:italic'> Concept Drift</h3>\n",
    "<div> \n",
    "    <ul style='font-size:20px'>\n",
    "        <li> \n",
    "            Consiste na mudança das propriedades dos dados no ambiente de produção. Isso é algo comum em tarefas de Computer Vision, em que as imagens em deployment têm características distintas com relação aos dados de treino/teste.\n",
    "        </li>\n",
    "        <li> \n",
    "            Andrew Ng deu como exemplo um modelo que detecta defeitos em celulares. A IA pode perder performance caso a iluminação das fotografias se altere - imagem da direita.\n",
    "            <center style='margin-top:20px'> \n",
    "                <img src='img/01_01_cellphones.png'>\n",
    "            </center>\n",
    "        </li>\n",
    "     </ul>\n",
    "</div>"
   ]
  },
  {
   "cell_type": "markdown",
   "id": "c43524c7-23d8-4dba-b90e-549d9f3b2a34",
   "metadata": {},
   "source": [
    "<h3 style='font-size:30px;font-style:italic'> Proof of Concept to Production Gap</h3>\n",
    "<div> \n",
    "    <ul style='font-size:20px'>\n",
    "        <li> \n",
    "            Esse fenômeno é a ausência de código/ferramentas que viabilizem a implantação da IA. Esses recursos podem ser das mais variadas naturezas, como sistemas de monitoramento, infraestrutura de deployment e ETL's.\n",
    "        </li>\n",
    "        <li> \n",
    "            Esse gap ocorre principalmente quando a equipe de Data Science se concentra demais na solução em Jupyter Notebook, se esquecendo de considerar os demais aspectos do projeto.\n",
    "            <center style='margin-top:20px'> \n",
    "                <img src='img/01_01_ml_requirements.png'>\n",
    "            </center>\n",
    "        </li>\n",
    "     </ul>\n",
    "</div>"
   ]
  },
  {
   "cell_type": "markdown",
   "id": "ddf1a20e-34b4-4d55-833f-be9162b04bf8",
   "metadata": {},
   "source": [
    "<h2 style='font-size:30px'> Steps of an ML Project</h2>\n",
    "<div> \n",
    "    <ul style='font-size:20px'>\n",
    "        <li> \n",
    "            O instrutor faz uma breve recapitulação das principais etapas de um projeto de ML. Um planejamento consistente sobre o que deverá ser feito é essencial a fim de evitar retrabalho.\n",
    "            <center style='margin-top:20px'>\n",
    "                <img src='img/01_01_ml_lifecycle.png'>\n",
    "            </center>\n",
    "        </li>\n",
    "    </ul>\n",
    "</div>"
   ]
  },
  {
   "cell_type": "markdown",
   "id": "be507801-a27d-4141-a67f-aa185047374b",
   "metadata": {},
   "source": [
    "<h2 style='font-size:30px'> Case study: speech recognition</h2>\n",
    "<div> \n",
    "    <ul style='font-size:20px'>\n",
    "        <li> \n",
    "            Andrew exemplifica o ciclo de um projeto de Machine Learning com um case de Speech Recognition.\n",
    "        </li>\n",
    "        <li>\n",
    "            Algo curioso que foi mencionado foi que Andrew prefere mais otimizar os dados e hiperparâmetros das IA's do que os códigos delas em seus projetos.\n",
    "            <center style='margin-top:20px'>\n",
    "                <img src='img/01_01_modelling.png'>\n",
    "            </center>\n",
    "        </li>\n",
    "    </ul>\n",
    "</div>"
   ]
  },
  {
   "cell_type": "markdown",
   "id": "77f88e87-6a2d-49f4-95f9-6209f9ab8061",
   "metadata": {},
   "source": [
    "<h2 style='font-size:30px'> Course outline</h2>\n",
    "<div> \n",
    "    <ul style='font-size:20px'>\n",
    "        <li> \n",
    "            Andrew apresenta a estrutura do primeiro curso da especialização. Ele propôs um cronograma que ensina o ciclo de ML de trás para frente. Portanto, vamos primeiro conhecer a fase de deployment, depois de modeling e, por último, de dados e scoping.\n",
    "        </li>\n",
    "    </ul>\n",
    "</div>"
   ]
  },
  {
   "cell_type": "markdown",
   "id": "b39377e1-57f4-4853-b58b-70fc7f990fd6",
   "metadata": {},
   "source": [
    "<h2 style='font-size:30px'> Key challenges</h2>\n",
    "<div> \n",
    "    <ul style='font-size:20px'>\n",
    "        <li> \n",
    "            Somos apresentados aqui aos principais desafios da disponibilização de um modelo de ML.\n",
    "        </li>\n",
    "        <li> \n",
    "            Andrew Ng segrega esses problemas em duas categorias principais: Dados&ML e Engenharia de Software.\n",
    "        </li>\n",
    "    </ul>\n",
    "</div>"
   ]
  },
  {
   "cell_type": "markdown",
   "id": "7dee4d73-444c-465c-9461-34ad7a39b1d5",
   "metadata": {},
   "source": [
    "<h3 style='font-size:30px;font-style:italic'> Dados&ML</h3>\n",
    "<div>\n",
    "    <ul style='font-size:20px'>\n",
    "        <li> \n",
    "            Essa categoria se refere a situações em que há uma mudança na natureza dos dados a qual o modelo é incapaz de reconhecer e se adaptar. Ela pode acontecer tanto de maneira gradativa, quanto repentina.\n",
    "        </li>\n",
    "        <li> \n",
    "            Essas alterações posssuem dois tipos:\n",
    "            <ul> \n",
    "                <li> \n",
    "                    <i>Concept Drift</i>: Mudança do mapeamento $\\text{X->y}$.\n",
    "                </li>\n",
    "                <li> \n",
    "                    <i>Data Drift</i>: Mudança nas distribuições de $\\text{X}$.\n",
    "                </li>\n",
    "            </ul>\n",
    "        </li>\n",
    "    </ul>\n",
    "</div>"
   ]
  },
  {
   "cell_type": "markdown",
   "id": "90bdaf85-b073-41ed-b743-6c91a3d41143",
   "metadata": {},
   "source": [
    "<h3 style='font-size:30px;font-style:italic'> Engenharia de Software</h3>\n",
    "<div>\n",
    "    <ul style='font-size:20px'>\n",
    "        <li> \n",
    "            O Cientista/Engenheiro deve se atentar a uma série de fatores que envolvem a implantação da IA. Saber defini-los garantirá um deployment muito mais consistente com menor propensão a erros.\n",
    "            <ul> \n",
    "                <li> \n",
    "                    Modalidade de Execução: Batch ou Em Tempo Real\n",
    "                </li>\n",
    "                <li> \n",
    "                    Modalidade de Deployment: Edge-Device ou Cloud.\n",
    "                </li>\n",
    "                <li> \n",
    "                    Recursos de Computação (CPU, memória).\n",
    "                </li>\n",
    "                <li> \n",
    "                    Latência e Throughput (QPS).\n",
    "                </li>\n",
    "                <li> \n",
    "                    Questões de SI e privacidade.\n",
    "                </li>\n",
    "                <li> \n",
    "                    Criação de Logs.\n",
    "                </li>\n",
    "            </ul>\n",
    "        </li>\n",
    "    </ul>\n",
    "</div>"
   ]
  },
  {
   "cell_type": "markdown",
   "id": "1274a3d4-2a37-4ab1-b4c0-bf2d301de763",
   "metadata": {},
   "source": [
    "<h2 style='font-size:30px'> Deployment patterns</h2>\n",
    "<div> \n",
    "    <ul style='font-size:20px'>\n",
    "        <li> \n",
    "            Quando vamos implantar um modelo em produção, devemos ser cautelosos e evitar o seu pleno uso imediato. Afinal de contas, problemas ainda podem acontecer e afetar o cliente final da IA.\n",
    "        </li>\n",
    "        <li> \n",
    "            Considerando isso, iremos aprender aqui as principais estratégias de deployment que podemos adotar em nossos projetos. \n",
    "        </li>\n",
    "    </ul>\n",
    "</div>"
   ]
  },
  {
   "cell_type": "markdown",
   "id": "57a44ae7-57ad-489e-8807-2728c185a700",
   "metadata": {},
   "source": [
    "<h3 style='font-size:30px;font-style:italic'> Modalidades de Deployment</h3>"
   ]
  },
  {
   "cell_type": "markdown",
   "id": "7e1e960d-d76b-4279-a8f7-e3d73629ff98",
   "metadata": {},
   "source": [
    "<h4 style='font-size:30px;font-style:italic;text-decoration:underline'> Shadow Mode</h4>\n",
    "<div>\n",
    "    <ul style='font-size:20px'>\n",
    "        <li> \n",
    "            Em Shadow Mode, rodamos o algoritmo plenamente em paralelo com o ser humano ou sistema responsável pelas previsões oficiais. No entanto, as estimativas da IA não serão consideradas para a tomada de decisão, ainda.\n",
    "        </li>\n",
    "    </ul>\n",
    "</div>"
   ]
  },
  {
   "cell_type": "markdown",
   "id": "c4ea98c6-27b5-45bd-9872-21f5a91c0de4",
   "metadata": {},
   "source": [
    "<h4 style='font-size:30px;font-style:italic;text-decoration:underline'> Canary Deployment</h4>\n",
    "<div>\n",
    "    <ul style='font-size:20px'>\n",
    "        <li> \n",
    "            Consiste em disponibilizar o modelo para previsão em apenas uma parcela dos seus dados de produção.\n",
    "        </li>\n",
    "        <li> \n",
    "            Não havendo problemas, podemos aumentar essa proporção até ficarmos com toda a massa de dados.\n",
    "        </li>\n",
    "    </ul>\n",
    "</div>"
   ]
  },
  {
   "cell_type": "markdown",
   "id": "6b451097-c2fe-4eef-85d3-4bd8bfc3d9b8",
   "metadata": {},
   "source": [
    "<h4 style='font-size:30px;font-style:italic;text-decoration:underline'> Blue Green Deployment</h4>\n",
    "<div>\n",
    "    <ul style='font-size:20px'>\n",
    "        <li> \n",
    "            Modalidade mais cabível quando já temos um sistema legado vigente.\n",
    "        </li>\n",
    "        <li> \n",
    "            Com ela, tendo um roteador em mãos, fazemos ele parar de encaminhar sinais à IA antiga e estabelecemos uma conexão entre ele e o novo modelo.\n",
    "        </li>\n",
    "        <li> \n",
    "            É claro que a desativação do sistema legado não precisa ser instantânea. Ao invés disso, podemos gradativamente reduzir o envio de requisições a ele até que confiemos inteiramente no novo modelo.\n",
    "        </li>\n",
    "    </ul>\n",
    "</div>"
   ]
  },
  {
   "cell_type": "markdown",
   "id": "cb21a430-412a-4fa4-9f33-e94edf4d3439",
   "metadata": {},
   "source": [
    "<h3 style='font-size:30px;font-style:italic'> Degrees of Automation</h3>\n",
    "<div>\n",
    "    <ul style='font-size:20px'>\n",
    "        <li> \n",
    "            Um modelo não precisa necessariamente substituir a mão de obra humana da empresa. Ele pode oferecer diferentes graus de automação, dependendo de suas características e interesses da equipe.\n",
    "        </li>\n",
    "    </ul>\n",
    "</div>"
   ]
  },
  {
   "cell_type": "markdown",
   "id": "72d83c86-79b6-435e-bb61-a4b8e2b612cb",
   "metadata": {},
   "source": [
    "<h4 style='font-size:30px;font-style:italic;text-decoration:underline'> Human Only</h4>\n",
    "<div>\n",
    "    <ul style='font-size:20px'>\n",
    "        <li> \n",
    "            Estado pré-implantação da IA, em que as tomadas de decisão são feitas por humanos sem a assistência de um modelo.\n",
    "        </li>\n",
    "    </ul>\n",
    "</div>"
   ]
  },
  {
   "cell_type": "markdown",
   "id": "d8230b04-20ce-4d46-b0fa-36a2551a8f16",
   "metadata": {},
   "source": [
    "<h4 style='font-size:30px;font-style:italic;text-decoration:underline'> Shadow Mode</h4>\n",
    "<div>\n",
    "    <ul style='font-size:20px'>\n",
    "        <li> \n",
    "            Como já mencionado, é o funcionamento pleno da IA sem que seus outputs interfiram na tomada de decisão.\n",
    "        </li>\n",
    "    </ul>\n",
    "</div>"
   ]
  },
  {
   "cell_type": "markdown",
   "id": "a35f7c9a-f14c-4424-9dfe-39fd10780a1c",
   "metadata": {},
   "source": [
    "<h4 style='font-size:30px;font-style:italic;text-decoration:underline'> AI Assistance</h4>\n",
    "<div>\n",
    "    <ul style='font-size:20px'>\n",
    "        <li> \n",
    "            Os outputs da IA são usados apenas para auxiliar a tomada de decisão; o modelo não decide as coisas por si só.\n",
    "        </li>\n",
    "    </ul>\n",
    "</div>"
   ]
  },
  {
   "cell_type": "markdown",
   "id": "d6c78c94-14e7-4c83-bd0d-1bf3de929598",
   "metadata": {},
   "source": [
    "<h4 style='font-size:30px;font-style:italic;text-decoration:underline'> Partial Automation</h4>\n",
    "<div>\n",
    "    <ul style='font-size:20px'>\n",
    "        <li> \n",
    "            Deixamos a IA tomar as decisões, apenas quando ela tem um alto grau de certeza. Nos casos em que ela estiver incerta, recorremos a um humano. \n",
    "        </li>\n",
    "        <li> \n",
    "            Por exemplo, caso a probabilidade do modelo esteja entre 40% e 60%, chamamos um humano para tomar a decisão final.\n",
    "        </li>\n",
    "    </ul>\n",
    "</div>"
   ]
  },
  {
   "cell_type": "markdown",
   "id": "ef4541ed-cd41-4b47-a33c-74a031b55887",
   "metadata": {},
   "source": [
    "<h4 style='font-size:30px;font-style:italic;text-decoration:underline'> Full Automation</h4>\n",
    "<div>\n",
    "    <ul style='font-size:20px'>\n",
    "        <li> \n",
    "            A IA cuida de toda a tomada de decisão, sem qualquer interferência humana.\n",
    "        </li>\n",
    "        <li> \n",
    "            Conveniente para atividades em que a atuação humana é incabível, como ferramentas de busca e sistemas de recomendação.\n",
    "        </li>\n",
    "    </ul>\n",
    "</div>"
   ]
  },
  {
   "cell_type": "markdown",
   "id": "1c7d6c89-f601-4aa7-ad57-2f2989e804b4",
   "metadata": {},
   "source": [
    "<h2 style='font-size:30px'> Monitoring</h2>\n",
    "<div> \n",
    "    <ul style='font-size:20px'>\n",
    "        <li> \n",
    "            A maneira mais comum de monitorarmos a performance da nossa IA é com um dashboard. Nele, inserimos dados sobre qualidade do modelo (loss, métricas), dados e também do software que o hospeda.\n",
    "        </li>\n",
    "        <li> \n",
    "            Podemos programar alertas para quando uma das métricas ultrapassar um threshold combinado.\n",
    "        </li>\n",
    "        <li> \n",
    "            Seguem alguns tipos de métricas que podemos pôr em nossos dashs:\n",
    "            <ul>\n",
    "                <li> \n",
    "                    <i> Modelo:</i> MSE; ROC-AUC; Matriz de Confusão.\n",
    "                </li>\n",
    "                <li> \n",
    "                    <i> Dados:</i> % de inputs e outputs nulos; distribuições das features.\n",
    "                </li>\n",
    "                <li> \n",
    "                    <i> Software:</i> Throughput; consumo de memória e CPU; latência.\n",
    "                </li>\n",
    "            </ul>\n",
    "            <center style='margin-top:20px'> \n",
    "                <img src='img/01_01_monitoring_dash.png'>\n",
    "            </center>\n",
    "        </li>\n",
    "    </ul>\n",
    "</div>"
   ]
  },
  {
   "cell_type": "markdown",
   "id": "fbebe71b-c712-4c5c-bc61-0929952677c1",
   "metadata": {},
   "source": [
    "<h2 style='font-size:30px'> Pipeline Monitoring</h2>\n",
    "<div> \n",
    "    <ul style='font-size:20px'>\n",
    "        <li> \n",
    "            Em uma Pipeline de Machine Learning, outputs de modelos abastecem outros modelos, criando uma interdependência entre si.\n",
    "        </li>\n",
    "        <li> \n",
    "            Nesse cenário, a degradação de um único algoritmo pode corromper toda a cadeia de previsões. Por isso, é essencial termos um monitoramento individualizado de cada IA, a fim de localizarmos possíveis alterações ou data/concept drifts.\n",
    "        </li>\n",
    "    </ul>\n",
    "</div>"
   ]
  }
 ],
 "metadata": {
  "kernelspec": {
   "display_name": "Python 3 (ipykernel)",
   "language": "python",
   "name": "python3"
  },
  "language_info": {
   "codemirror_mode": {
    "name": "ipython",
    "version": 3
   },
   "file_extension": ".py",
   "mimetype": "text/x-python",
   "name": "python",
   "nbconvert_exporter": "python",
   "pygments_lexer": "ipython3",
   "version": "3.11.7"
  }
 },
 "nbformat": 4,
 "nbformat_minor": 5
}
