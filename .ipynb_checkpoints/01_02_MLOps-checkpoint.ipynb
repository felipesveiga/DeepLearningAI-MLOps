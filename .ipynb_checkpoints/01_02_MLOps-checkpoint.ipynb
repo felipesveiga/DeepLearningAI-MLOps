{
 "cells": [
  {
   "cell_type": "markdown",
   "id": "ff116bda-07dc-4be6-89ee-0350c862b196",
   "metadata": {},
   "source": [
    "<h1 style='font-size:40px'> Select and Train a Model</h1>\n",
    "<div> \n",
    "    <ul style='font-size:20px'> \n",
    "        <li> \n",
    "             Andrew discorrerá nesta semana sobre melhores práticas no desenvolvimento de IA's.\n",
    "        </li>\n",
    "    </ul>\n",
    "</div>"
   ]
  },
  {
   "cell_type": "markdown",
   "id": "a1e04bde-ad61-4a29-862e-e6addc7dcc9a",
   "metadata": {},
   "source": [
    "<h2 style='font-size:30px'> Modeling overview</h2>\n",
    "<div> \n",
    "    <ul style='font-size:20px'> \n",
    "        <li> \n",
    "            Andrew apresenta um conflito comum no desenvolvimento de IA's, em que alguns cientistas preferem criar arquiteturas que melhor se adequem à tarefa em questão (model-centric), enquanto outros acreditam que uma ênfase maior deve ser direcionada ao tratamento dos dados que alimentam o modelo (data-centric).\n",
    "        </li>\n",
    "        <li> \n",
    "            Na opinião do professor, é mais vantajoso criarmos a IA em uma abordagem data-centric. Afinal de contas, ter um dataset de qualidade e com informações verossímeis pode garantir a criação de uma boa IA tanto em algoritmos simples, quanto nos mais complexos.\n",
    "        </li>\n",
    "    </ul>\n",
    "</div>"
   ]
  },
  {
   "cell_type": "markdown",
   "id": "40de043b-bffc-44f4-bff2-62d1ba8d3405",
   "metadata": {
    "tags": []
   },
   "source": [
    "<h2 style='font-size:30px'> Key challenges</h2>\n",
    "<h3 style='font-size:30px;font-style:italic'> O Ciclo da Modelagem</h3>\n",
    "<div> \n",
    "    <ul style='font-size:20px'> \n",
    "        <li> \n",
    "            Podemos definir 3 etapas principais no ciclo de modelagem: definição do modelo, hiperparâmetros e dados; treinamento; e análise de erros.\n",
    "            <center style='margin-top:20px'> \n",
    "                <img src='img/01_02_modeling_cycle.png'>\n",
    "            </center>\n",
    "        </li>\n",
    "    </ul>\n",
    "</div>"
   ]
  },
  {
   "cell_type": "markdown",
   "id": "4b9e0dbb-e14b-480d-913e-f02d75cba168",
   "metadata": {},
   "source": [
    "<h3 style='font-size:30px;font-style:italic'> Desafios em Modelagem</h3>\n",
    "<div> \n",
    "    <ul style='font-size:20px'> \n",
    "        <li> \n",
    "            Para termos um modelo digno de deployment, devemos suceder nesses 3 desafios principais:\n",
    "            <ul> \n",
    "                <li> \n",
    "                    Boas métricas no set de treino.\n",
    "                </li>\n",
    "                <li> \n",
    "                    Boas métricas no set de teste.\n",
    "                </li>\n",
    "                <li> \n",
    "                    Boas métricas nos indicadores de negócio.\n",
    "                </li>\n",
    "            </ul>\n",
    "        </li>\n",
    "    </ul>\n",
    "</div>"
   ]
  },
  {
   "cell_type": "markdown",
   "id": "b1f3b2e4-917f-4922-9563-ffb2c66c6a14",
   "metadata": {},
   "source": [
    "<p style='color:red'> Why low average error isn't good enough</p>"
   ]
  }
 ],
 "metadata": {
  "kernelspec": {
   "display_name": "Python 3 (ipykernel)",
   "language": "python",
   "name": "python3"
  },
  "language_info": {
   "codemirror_mode": {
    "name": "ipython",
    "version": 3
   },
   "file_extension": ".py",
   "mimetype": "text/x-python",
   "name": "python",
   "nbconvert_exporter": "python",
   "pygments_lexer": "ipython3",
   "version": "3.12.0"
  }
 },
 "nbformat": 4,
 "nbformat_minor": 5
}
