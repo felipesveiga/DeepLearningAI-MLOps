{
 "cells": [
  {
   "cell_type": "markdown",
   "id": "ff116bda-07dc-4be6-89ee-0350c862b196",
   "metadata": {},
   "source": [
    "<h1 style='font-size:40px'> Select and Train a Model</h1>\n",
    "<div> \n",
    "    <ul style='font-size:20px'> \n",
    "        <li> \n",
    "             Andrew discorrerá nesta semana sobre melhores práticas no desenvolvimento de IA's.\n",
    "        </li>\n",
    "    </ul>\n",
    "</div>"
   ]
  },
  {
   "cell_type": "markdown",
   "id": "a1e04bde-ad61-4a29-862e-e6addc7dcc9a",
   "metadata": {},
   "source": [
    "<h2 style='font-size:30px'> Modeling overview</h2>\n",
    "<div> \n",
    "    <ul style='font-size:20px'> \n",
    "        <li> \n",
    "            Andrew apresenta um conflito comum no desenvolvimento de IA's, em que alguns cientistas preferem criar arquiteturas que melhor se adequem à tarefa em questão (model-centric), enquanto outros acreditam que uma ênfase maior deve ser direcionada ao tratamento dos dados que alimentam o modelo (data-centric).\n",
    "        </li>\n",
    "        <li> \n",
    "            Na opinião do professor, é mais vantajoso criarmos a IA em uma abordagem data-centric. Afinal de contas, ter um dataset de qualidade e com informações verossímeis pode garantir a criação de uma boa IA tanto em algoritmos simples, quanto nos mais complexos.\n",
    "        </li>\n",
    "    </ul>\n",
    "</div>"
   ]
  },
  {
   "cell_type": "markdown",
   "id": "40de043b-bffc-44f4-bff2-62d1ba8d3405",
   "metadata": {
    "tags": []
   },
   "source": [
    "<h2 style='font-size:30px'> Key challenges</h2>\n",
    "<h3 style='font-size:30px;font-style:italic'> O Ciclo da Modelagem</h3>\n",
    "<div> \n",
    "    <ul style='font-size:20px'> \n",
    "        <li> \n",
    "            Podemos definir 3 etapas principais no ciclo de modelagem: definição do modelo, hiperparâmetros e dados; treinamento; e análise de erros.\n",
    "            <center style='margin-top:20px'> \n",
    "                <img src='img/01_02_modeling_cycle.png'>\n",
    "            </center>\n",
    "        </li>\n",
    "    </ul>\n",
    "</div>"
   ]
  },
  {
   "cell_type": "markdown",
   "id": "4b9e0dbb-e14b-480d-913e-f02d75cba168",
   "metadata": {},
   "source": [
    "<h3 style='font-size:30px;font-style:italic'> Desafios em Modelagem</h3>\n",
    "<div> \n",
    "    <ul style='font-size:20px'> \n",
    "        <li> \n",
    "            Para termos um modelo digno de deployment, devemos de maneira geral suceder nesses 3 desafios principais:\n",
    "            <ul> \n",
    "                <li> \n",
    "                    Boas métricas no set de treino.\n",
    "                </li>\n",
    "                <li> \n",
    "                    Boas métricas no set de teste.\n",
    "                </li>\n",
    "                <li> \n",
    "                    Boas métricas nos indicadores de negócio.\n",
    "                </li>\n",
    "            </ul>\n",
    "        </li>\n",
    "    </ul>\n",
    "</div>"
   ]
  },
  {
   "cell_type": "markdown",
   "id": "0fa83062-2adb-4c01-9401-436bb21ecfe7",
   "metadata": {},
   "source": [
    "<h2 style='font-size:30px'> Why low average error isn't good enough</h2>\n",
    "<div> \n",
    "    <ul style='font-size:20px'> \n",
    "        <li> \n",
    "            Às vezes, o score do modelo no set de teste não indica necessariamente que ele está adequado para implantação. É uma pontuação generalista demais que muitas vezes desconsidera outros aspectos relevantes do projeto. \n",
    "        </li>\n",
    "    </ul>\n",
    "</div>"
   ]
  },
  {
   "cell_type": "markdown",
   "id": "b308e173-c1ef-4b48-aba5-70f1e10c0032",
   "metadata": {},
   "source": [
    "<h3 style='font-size:30px;font-style:italic'> Performance on disproportionately important examples</h3>\n",
    "<div> \n",
    "    <ul style='font-size:20px'> \n",
    "        <li> \n",
    "            O nosso projeto pode conter targets cujo acerto é muito mais importante do que o de outras classes - como no caso de detectores de tumores, em que a previsão certa de \"1\" é de maior relevância do que de \"0\".  \n",
    "        </li>\n",
    "        <li>\n",
    "            Por mais que existam métricas que nos ajudem a lidar com esse tipo de problema (como o f-beta), elas podem não funcionar em todos os contextos. Por isso, você deve ser bastante imaginativo em pensar em outras maneiras de avaliar seu modelo.\n",
    "        </li>\n",
    "    </ul>\n",
    "</div>"
   ]
  },
  {
   "cell_type": "markdown",
   "id": "2f6433a2-faba-4b0a-8093-a40767478164",
   "metadata": {},
   "source": [
    "<h3 style='font-size:30px;font-style:italic'> Performance on key slices of the dataset</h3>\n",
    "<div> \n",
    "    <ul style='font-size:20px'> \n",
    "        <li> \n",
    "            Existe também a possibilidade de a IA apresentar discriminações e vieses que podem afetar a reputação da empresa com seus clientes ou sociedade.\n",
    "        </li>\n",
    "        <li> \n",
    "            Dependendo dos atributos em que ela foi treinada, é possível que faça suas previsões com base em critérios sensíveis (raça, sexo). Por isso, é essencial evitar a inclusão de dados com essa natureza no dataset.\n",
    "        </li>\n",
    "        <li> \n",
    "            A satisfação de todos os shareholders também é importante. O modelo não deve prover performances satisfatórias a apenas um grupo de clientes ou beneficiários. Por exemplo, é prejudicial um sistema de recomendação de produtos ter bons resultados em apenas tipos de consultas específicas, ou recomendar somente produtos de algumas marcas, negligenciando as demais.\n",
    "        </li>\n",
    "    </ul>\n",
    "</div>"
   ]
  },
  {
   "cell_type": "markdown",
   "id": "8cb0c433-509f-4f37-a910-79c39fd3777d",
   "metadata": {},
   "source": [
    "<h3 style='font-size:30px;font-style:italic'> Rare Classes</h3>\n",
    "<div> \n",
    "    <ul style='font-size:20px'> \n",
    "        <li> \n",
    "            Em classificações envolvendo targets raras, acurácia pode não ser uma métrica confiável na avaliação qualitativa do modelo. Seu valor retornado pode nos dar uma impressão excessivamente otimista sobre a sua real performance. \n",
    "        </li>\n",
    "    </ul>\n",
    "</div>"
   ]
  },
  {
   "cell_type": "markdown",
   "id": "50682406-a347-42ce-a21a-c8f90909c883",
   "metadata": {},
   "source": [
    "<h3 style='font-size:30px;font-style:italic'> Pensando Além do Test Set</h3>\n",
    "<div> \n",
    "    <ul style='font-size:20px'> \n",
    "        <li> \n",
    "            Alguns modelos, mesmo indo bem no conjunto de teste, podem acabar não tendo um impacto tão significativo na área de negócios. Dessa forma, o Cientista, consciente de seu papel na estratégia do setor, não deve se dar como satisfeito, indo tentar corrigir possíveis problemas.\n",
    "        </li>\n",
    "    </ul>\n",
    "</div>"
   ]
  },
  {
   "cell_type": "markdown",
   "id": "6cf41470-3c45-4b2e-80cd-abee4ffea4ba",
   "metadata": {},
   "source": [
    "<h2 style='font-size:30px'> Establish a baseline</h2>\n",
    "<div> \n",
    "    <ul style='font-size:20px'> \n",
    "        <li> \n",
    "            Quando iniciamos a fase de modelagem, sempre reconhecemos como baseline a performance de um algoritmo mais simples, como um Naïve Bayes ou Regressão Logística. Nesta aula, Andrew propõe ampliar nosso repertório de métodos que podem ser usados como baseline de nossos projetos.\n",
    "        </li>\n",
    "    </ul>\n",
    "</div>"
   ]
  },
  {
   "cell_type": "markdown",
   "id": "ca3442c7-de02-45f1-8fcd-9e960fd32597",
   "metadata": {},
   "source": [
    "<h3 style='font-size:30px;font-style:italic'>Human Level Performance (HLP)</h3>\n",
    "<div> \n",
    "    <ul style='font-size:20px'> \n",
    "        <li> \n",
    "            Como humanos tendem a demonstrar alta performance em tarefas com dados não estruturados, usá-los para estabelecer baselines pode ser algo interessante. Você poderia comparar o seu desempenho com o da IA em missões como transcrição de áudio. \n",
    "            <center style='margin-top:20px'> \n",
    "                <img src='img/01_02_hlp.png'>\n",
    "            </center>\n",
    "        </li>\n",
    "        <li style='margin-top:20px'> \n",
    "            Por outro lado, humanos não são muito capazes de fazerem previsões com dados estruturados. Nesse cenário, é interessante buscar outras abordagens de baseline. \n",
    "        </li>\n",
    "    </ul>\n",
    "</div>"
   ]
  },
  {
   "cell_type": "markdown",
   "id": "1d259a94-f87d-4886-a93e-c84a2be4ee7d",
   "metadata": {},
   "source": [
    "<h3 style='font-size:30px;font-style:italic'> Outras Alternativas de Baseline</h3>\n",
    "<div> \n",
    "    <ul style='font-size:20px'> \n",
    "        <li> \n",
    "            <i> Modelos Open Source/SOTA</i>: Pesquise por modelos no GitHub ou em papers que tenham sido desenvolvidos para tarefas similares à sua.\n",
    "        </li>\n",
    "        <li> \n",
    "            <i> Modelos de Legado</i>: Use os seus dados de performance a fim de compará-los com os do novo modelo (ex: Intervalo de Confiança)\n",
    "        </li>\n",
    "        <li> \n",
    "            <i> Modelos Simples</i>: Regressão Linear/Logística.\n",
    "        </li>\n",
    "        <li> \n",
    "            <i> Implementação Quick-and-Dirty</i>: Modelo feito sobre uma Pipeline ou treinamento não muito robusto.\n",
    "        </li>\n",
    "    </ul>\n",
    "</div>"
   ]
  },
  {
   "cell_type": "markdown",
   "id": "8e72bff5-13af-46c2-8add-dd1e42672037",
   "metadata": {},
   "source": [
    "<h2 style='font-size:30px'> Tips for getting started</h2>\n",
    "<div> \n",
    "    <ul style='font-size:20px'> \n",
    "        <li> \n",
    "            Andrew oferece mais algumas dicas sobre o que fazer no desenvolvimento de workflows de ML.\n",
    "        </li>\n",
    "    </ul>\n",
    "</div>"
   ]
  },
  {
   "cell_type": "markdown",
   "id": "3be8e3c9-db2d-4772-beb9-b78c0f3c21a4",
   "metadata": {},
   "source": [
    "<h3 style='font-size:30px;font-style:italic'> Getting started on modeling</h3>\n",
    "<div> \n",
    "    <ul style='font-size:20px'> \n",
    "        <li> \n",
    "            Antes de iniciar a etapa de modelagem, pesquise por projetos semelhantes ao seu a fim de conhecer o que foi possível ser desenvolvido até o momento.  Não precisa ser sobre o último modelo de ponta lançado, bastam algumas IA's razoáveis.\n",
    "        </li>\n",
    "        <li>\n",
    "            Uma arquitetura razoável abastecida com dados de qualidade provavelmente será melhor do que uma arquitetura de ponta alimentada por dados não tão bem tratados. Por isso, prefira uma abordagem data-driven.\n",
    "        </li>\n",
    "    </ul>\n",
    "</div>"
   ]
  },
  {
   "cell_type": "markdown",
   "id": "9a06cca4-ff6d-4198-8c6e-172c8743c86f",
   "metadata": {},
   "source": [
    "<h3 style='font-size:30px;font-style:italic'> Deployment constraints when picking a model</h3>\n",
    "<div> \n",
    "    <ul style='font-size:20px'> \n",
    "        <li> \n",
    "            Se o time de infraestrutura informar de antemão que existem limitações computacionais, leve-as em consideração na fase de modelagem.\n",
    "        </li>\n",
    "        <li>\n",
    "            Caso o contrário, sinta-se à vontade de tentar descobrir o potencial máximo do seu projeto! \n",
    "        </li>\n",
    "    </ul>\n",
    "</div>"
   ]
  },
  {
   "cell_type": "markdown",
   "id": "2312d69f-eb59-4dd9-95b6-6f037160137a",
   "metadata": {},
   "source": [
    "<h3 style='font-size:30px;font-style:italic'> Sanity-check for code and algorithm</h3>\n",
    "<div> \n",
    "    <ul style='font-size:20px'> \n",
    "        <li> \n",
    "            Antes de iniciar propriamente a fase de modelagem, busque treinar seu(s) algoritmo(s) em uma minúscula parcela do seu set de treino (5, 10 linhas). Caso o modelo sofra overfit,  ele foi capaz de aprender os padrões da sua amostra. Senão, é possível que exista um problema em seus dados, que impossibilitaria a convergência da IA com todo o dataset.\n",
    "        </li>\n",
    "    </ul>\n",
    "</div>"
   ]
  },
  {
   "cell_type": "markdown",
   "id": "a4a1be69-b428-4013-95a6-befcd315c0ae",
   "metadata": {},
   "source": [
    "<div>\n",
    "    <hr>\n",
    "    <h1 style='font-size:40px'> Error analysis and performance auditing</h1>\n",
    "</div>\n",
    "    <div> \n",
    "    <ul style='font-size:20px'> \n",
    "        <li> \n",
    "             Nesta seção, aprenderemos técnicas e estratégias de análise de erro para nossos modelos.\n",
    "        </li>\n",
    "    </ul>\n",
    "</div>"
   ]
  },
  {
   "cell_type": "markdown",
   "id": "e5d7665d-c2e1-440c-b111-0e636f912c6c",
   "metadata": {},
   "source": [
    "<h2 style='font-size:30px'> Error analysis example</h2>\n",
    "<div> \n",
    "    <ul style='font-size:20px'> \n",
    "        <li> \n",
    "            Quando for inspecionar os erros do modelo, tente encontrar características em comum entre as instâncias mal classificadas pela IA. Não precisam ser necessariamente atributos explicitamente anotados no dataset; tente ser imaginativo na hora de identificá-las.\n",
    "        </li>\n",
    "        <li>\n",
    "            Você pode anotar as suas descobertas tanto em planilhas, quanto em ferramentas de MLOps disponíveis no mercado.\n",
    "        </li>\n",
    "        <li>\n",
    "            Uma vez entendidos os padrões, explore maneiras de aprimorar o desempenho da sua IA para aquele segmento do dataset.\n",
    "        </li>\n",
    "    </ul>\n",
    "</div>"
   ]
  },
  {
   "cell_type": "markdown",
   "id": "9ce64260-1d0d-47c1-991f-b74bb3897802",
   "metadata": {},
   "source": [
    "<h2 style='font-size:30px'> Prioritizing what to work on</h2>\n",
    "<div> \n",
    "    <ul style='font-size:20px'> \n",
    "        <li> \n",
    "            Quando temos diversos pontos em que enxergamos oportunidades de melhorias, nem sempre conseguimos \"abraçar o mundo\". Ao invés disso, devemos priorizar aquilo que for mais importante para a nossa aplicação. \n",
    "        </li>\n",
    "        <li>\n",
    "            Alguns critérios que podem nos ajudar a decidir em quais categorias/segmentos temos que nos focar são:\n",
    "            <ul> \n",
    "                <li> \n",
    "                    A importância desse segmento.\n",
    "                </li>\n",
    "                <li> \n",
    "                    Quanto podemos melhorar o desempenho nesse segmento?\n",
    "                </li>\n",
    "                <li> \n",
    "                    O quão fácil é aprimorar o desempenho nesse segmento?\n",
    "                </li>\n",
    "            </ul>\n",
    "        </li>\n",
    "    </ul>\n",
    "    <center style='margin-top:20px'> \n",
    "        <figure>\n",
    "            <img src='img/01_02_accuracy_hlp.png'>\n",
    "            <figcaption> Verifique também se a performance do modelo é estatisticamente distinta da HLP</figcaption>\n",
    "        </figure>\n",
    "        </center>\n",
    " </div>"
   ]
  },
  {
   "cell_type": "markdown",
   "id": "3b88338f-e247-4d71-9a6c-46a1066d8e27",
   "metadata": {},
   "source": [
    "<h3 style='font-size:30px;font-style:italic'> Adding/improving data for specific categories</h3>\n",
    "<div> \n",
    "    <ul style='font-size:20px'> \n",
    "        <li> \n",
    "            Uma vez definidas as catetegorias priorizadas, conseguimos adotar uma série de estratégias com relação aos seus dados. \n",
    "            <ul> \n",
    "                <li> \n",
    "                    Aumentá-los (coleta, ou data augmentation).\n",
    "                </li>\n",
    "                <li> \n",
    "                    Melhorar a qualidade dos dados.\n",
    "                </li>\n",
    "                <li> \n",
    "                    Aprimorar a acurácia da rotulagem.\n",
    "                </li>\n",
    "            </ul>\n",
    "        </li>\n",
    "    </ul>\n",
    "</div>"
   ]
  },
  {
   "cell_type": "markdown",
   "id": "ffdb90a9-3469-48b0-96f9-15ff30fa29f7",
   "metadata": {},
   "source": [
    "<h2 style='font-size:30px'> Skewed Datasets</h2>\n",
    "<div> \n",
    "    <ul style='font-size:20px'> \n",
    "        <li> \n",
    "            Quando lidamos com datasets desbalanceados (unbalanced ou skewed), acurácia pode não ser a melhor métrica para avaliar o modelo.\n",
    "        </li>\n",
    "        <li> \n",
    "            Ao invés disso, podemos recorrer a métricas baseadas na matriz de confusão, como Precision e Recall.\n",
    "        </li>\n",
    "    </ul>\n",
    " </div>"
   ]
  },
  {
   "cell_type": "markdown",
   "id": "1877b97d-a11d-4324-af3b-0e89df3c9638",
   "metadata": {},
   "source": [
    "<h3 style='font-size:30px;font-style:italic'> Multi-class metrics</h3>\n",
    "<div> \n",
    "    <ul style='font-size:20px'> \n",
    "        <li> \n",
    "            Em tarefas de classificação multi-classe, podemos ainda assim recorrer a métricas como essas, usando-as por avaliações OVR.\n",
    "        </li>\n",
    "        <li>\n",
    "            Segue o exemplo abaixo sobre detecção de defeitos em celulares:\n",
    "            <center style='margin-top:20px'> \n",
    "                <img src='img/01_02_multiclass_metrics.png'>\n",
    "            </center>\n",
    "        </li>\n",
    "    </ul>\n",
    "</div>"
   ]
  },
  {
   "cell_type": "markdown",
   "id": "e2fbf382-4bac-457b-89a2-f62282568492",
   "metadata": {},
   "source": [
    "<h2 style='font-size:30px'> Performance auditing</h2>\n",
    "<div> \n",
    "    <ul style='font-size:20px'> \n",
    "        <li> \n",
    "            Ao finalizarmos o ciclo de modelagem com um modelo satisfatório, é sensato ainda fazermos mais uma avaliação, antecipando possíveis problemas futuros.\n",
    "        </li>\n",
    "        <li>\n",
    "            Nessa fase, pense em formas como seu modelo pode dar errado e avalie cada situação em seu set de teste. Exemplos:\n",
    "            <ul> \n",
    "                <li> \n",
    "                    O modelo tem performance pior com determinado segmento do $X$ ou target?\n",
    "                </li>\n",
    "                <li> \n",
    "                    O quão comum são determinados tipos de erros (FP, FN)?\n",
    "                </li>\n",
    "            </ul>\n",
    "        </li>\n",
    "        <li> \n",
    "            <i>Dica:</i> Faça esse brainstorming em conjunto com seus pares e times de negócio!\n",
    "        </li>\n",
    "    </ul>\n",
    " </div>"
   ]
  },
  {
   "cell_type": "markdown",
   "id": "db3c6140-1403-4e68-a919-ea597d99d3c1",
   "metadata": {},
   "source": [
    "<div>\n",
    "    <hr>\n",
    "    <h1 style='font-size:40px'> Data Iteration</h1>\n",
    "</div>\n",
    "    <div> \n",
    "    <ul style='font-size:20px'> \n",
    "        <li> \n",
    "             Como um grande defensor da modelagem data-centric, Andrew nos ensinará técnicas de como aprimorar os dados de nosso projeto, buscando sempre induzir nossas IA's a terem performances mais altas.\n",
    "        </li>\n",
    "    </ul>\n",
    "</div>"
   ]
  },
  {
   "cell_type": "markdown",
   "id": "b04934f5-6a98-4ba9-beef-258a24434703",
   "metadata": {},
   "source": [
    "<h2 style='font-size:30px'> Data-centric AI development</h2>\n",
    "<div> \n",
    "    <ul style='font-size:20px'> \n",
    "        <li> \n",
    "            Basicamente, Andrew enfatiza a diferença entre modelagem model-centric e data-centric.\n",
    "        </li>\n",
    "    </ul>\n",
    " </div>"
   ]
  },
  {
   "cell_type": "markdown",
   "id": "43221121-b1b1-46ec-ade6-1f7865e7a05c",
   "metadata": {},
   "source": [
    "<h2 style='font-size:30px'> A useful picture of data augmentation</h2>\n",
    "<div> \n",
    "    <ul style='font-size:20px'> \n",
    "        <li> \n",
    "            Quando desejamos melhorar a IA em uma categoria/seção do dataset por Data Augmentation, existe uma tendência de o modelo ter a sua performance aprimorada em outros subsets de natureza parecida. \n",
    "        </li>\n",
    "        <li>\n",
    "            Em uma aplicação de Speech Recognition, aprimorar o desempenho em áudios com barulho de veículos pode alavancar a performance em gravações com outros sons máquinais (de avião, indústrias). \n",
    "        </li>\n",
    "    </ul>\n",
    " </div>"
   ]
  },
  {
   "cell_type": "markdown",
   "id": "6c82eb82-952b-4ad9-b571-db97c08d1627",
   "metadata": {},
   "source": [
    "<h2 style='font-size:30px'> Data augmentation</h2>\n",
    "<div> \n",
    "    <ul style='font-size:20px'> \n",
    "        <li> \n",
    "            Ao fazer Data Augmentation, priorize subsets em que você genuinamente acredite que há espaço para melhora do modelo. Uma vez feita a expansão do set, certifique-se de que as novas instâncias criadas são verossímeis.\n",
    "        </li>\n",
    "    </ul>\n",
    " </div>"
   ]
  },
  {
   "cell_type": "markdown",
   "id": "48bff7eb-d802-40e1-89a1-23b36dde3a06",
   "metadata": {},
   "source": [
    "<h2 style='font-size:30px'> Can adding data hurt?</h2>\n",
    "<div> \n",
    "    <ul style='font-size:20px'> \n",
    "        <li>\n",
    "            De maneira geral, expandir o seu set de treino é algo que raramente prejudicará o seu modelo. \n",
    "        </li>\n",
    "        <li>\n",
    "            Apenas garanta que a IA seja complexa o bastante, porque aumentar a proporção de uma determinada categoria em um modelo simples pode prejudicar o seu aprendizado das demais classes.\n",
    "        </li>\n",
    "        <li>\n",
    "            Além disso, garanta que o mapeamento $X\\to {y}$ da target a ser expandida não seja ambíguo, ou seja, que não possa ser confundido com o mapeamento de outra target. Isso pode ocorrer ao distinguirmos imagens de \"1\" e I\", por exemplo. \n",
    "         </li>\n",
    "    </ul>\n",
    " </div>"
   ]
  },
  {
   "cell_type": "markdown",
   "id": "858357cc-354d-4ade-aa6a-8dcb04948366",
   "metadata": {},
   "source": [
    "<h2 style='font-size:30px'> Adding features</h2>\n",
    "<div> \n",
    "    <ul style='font-size:20px'> \n",
    "        <li>\n",
    "            A expansão horizontal dos seus dados também pode ser algo que alavancará o desempenho do seu modelo. A inserção de features contribui especialmente para algoritmos mais simples, como LinearSVC e LinearRegression, que assumem a independência dos atributos.\n",
    "         </li>\n",
    "        <li>\n",
    "            O enriquecimento dos dados pode ser uma boa solução em situações em que o modelo não é bom em parcelas do dataset. Talvez, faltem informações que possibilitem a boa rotulagem das instâncias desse fragmento.\n",
    "        </li>\n",
    "        <li>\n",
    "            Considere feature inserting quando a inclusão de novas instâncias não for possível, também.\n",
    "        </li>\n",
    "    </ul>\n",
    " </div>"
   ]
  },
  {
   "cell_type": "markdown",
   "id": "79855918-8c28-4033-afbb-82a329311dfe",
   "metadata": {},
   "source": [
    "<h2 style='font-size:30px'> Experiment tracking</h2>\n",
    "<div> \n",
    "    <ul style='font-size:20px'> \n",
    "        <li>\n",
    "            Ao iniciar a fase de modelagem, tenha em mãos algum arquivo ou ferramenta no qual você possa registrar dados importantes de cada treinamento feito. Eles podem ser usados na replicação dos resultados futuramente.\n",
    "        </li>\n",
    "        <li>\n",
    "            Dentro desse documento, é interessante anotar o código do modelo, juntamente com seus hiperparâmetros; métricas atingidas; e o dataset que foi utilizado no seu treinamento.\n",
    "        </li>\n",
    "        <li>\n",
    "            Andrew recomenda anotarmos esses dados em arquivos .txt, ou planilhas. Acredito que .json's são bem cabíveis nesse tipo de tarefa também. \n",
    "        </li>\n",
    "    </ul>\n",
    " </div>"
   ]
  },
  {
   "cell_type": "markdown",
   "id": "b675471d-7df0-4a78-a79c-494170309b39",
   "metadata": {},
   "source": [
    "<h2 style='font-size:30px'> From big data to good data</h2>\n",
    "<div> \n",
    "    <ul style='font-size:20px'> \n",
    "        <li>\n",
    "            Como um grande defensor das modelagens data-driven, Andrew nos fornece algumas das principais características que definem os datasets de boa qualidade.\n",
    "            <ul> \n",
    "                <li> \n",
    "                    Possuem instâncias de todas as categorias importantes para o projeto.\n",
    "                </li>\n",
    "                <li> \n",
    "                    Têm conceitos $X\\to{y}$ bem definidos.\n",
    "                </li>\n",
    "                <li> \n",
    "                    Têm o tamanho condizente com a complexidade do modelo que irá abastecer.\n",
    "                </li>\n",
    "            </ul>\n",
    "        </li>\n",
    "    </ul>\n",
    " </div>"
   ]
  },
  {
   "cell_type": "markdown",
   "id": "b1f3b2e4-917f-4922-9563-ffb2c66c6a14",
   "metadata": {},
   "source": [
    "<p style='color:red'> Continuar Lab da Semana</p>"
   ]
  }
 ],
 "metadata": {
  "kernelspec": {
   "display_name": "Python 3 (ipykernel)",
   "language": "python",
   "name": "python3"
  },
  "language_info": {
   "codemirror_mode": {
    "name": "ipython",
    "version": 3
   },
   "file_extension": ".py",
   "mimetype": "text/x-python",
   "name": "python",
   "nbconvert_exporter": "python",
   "pygments_lexer": "ipython3",
   "version": "3.11.7"
  }
 },
 "nbformat": 4,
 "nbformat_minor": 5
}
