{
 "cells": [
  {
   "cell_type": "markdown",
   "id": "1e193b14-b65e-4730-9d96-e4d09ff564db",
   "metadata": {},
   "source": [
    "<h1 style='font-size:40px'> Machine Learning Data Lifecycle in Production </h1>"
   ]
  },
  {
   "cell_type": "markdown",
   "id": "361a69ae-82a3-4bee-a73b-8c7b935e0c75",
   "metadata": {},
   "source": [
    "<h2 style='font-size:30px'> Overview</h2>\n",
    "<div> \n",
    "    <ul style='font-size:20px'>\n",
    "        <li> \n",
    "            Sistemas corporativos de IA são muito mais complexos do que os de projetos pessoais, ou acadêmicos. Além da parte óbvia de termos que coletar dados e treinar a IA, temos uma série de outras responsabilidades. O diagrama do curso 1 é um bom recurso para nos lembrar dessas coisas: \n",
    "            <center style='margin-top:20px'> \n",
    "                <img src='img/01_01_ml_requirements.png'>\n",
    "            </center>\n",
    "        </li>\n",
    "        <li style='margin-top:20px'>  \n",
    "            Um projeto produtivo de Data Science tem dados constantemente em mudança (data/concept drifts), o que requer monitoramento e re-treinamento constantes. Além disso, a necessidade de altas performances da IA perde um pouco de seu protagonismo, em nome de aspectos como velocidade de predição e interpretabilidade.\n",
    "        </li>\n",
    "        <li>\n",
    "            Como um produto, o modelo deve ter uma fairness bastante alta; todos os nossos clientes devem se sentir beneficiados com ele.\n",
    "        </li>\n",
    "    </ul>\n",
    "</div>"
   ]
  },
  {
   "cell_type": "markdown",
   "id": "ea8b35e3-50f0-4c92-b8c9-32252b4b0849",
   "metadata": {},
   "source": [
    "<h3 style='font-size:30px;font-style:italic'> Modern Software Development Aspects</h3>\n",
    "<div> \n",
    "    <ul style='font-size:20px'> \n",
    "        <li> \n",
    "            Como um produto de software, os Cientistas/Engenheiros devem levar em conta questões como escalabilidade, reprodutibilidade e segurança da sua aplicação.\n",
    "        </li>\n",
    "    </ul>\n",
    " </div>"
   ]
  },
  {
   "cell_type": "markdown",
   "id": "37a26dfa-adbf-4aee-818d-825c708f718c",
   "metadata": {},
   "source": [
    "<h3 style='font-size:30px;font-style:italic'> Manutenabilidade de Nosso Sistema</h3>\n",
    "<div> \n",
    "    <ul style='font-size:20px'> \n",
    "        <li> \n",
    "            Tendo em vista as inevitáveis mudanças em nossos dados, é totalmente normal termos que ajustar algum aspecto de nosso projeto, em momento futuro. Isso inclui hiperparâmetros, ETL e, até mesmo, mudança do escopo do trabalho!\n",
    "             <center style='margin-top:20px'> \n",
    "                <img src='img/02_01_maintainability.png'>\n",
    "            </center>\n",
    "        </li>\n",
    "    </ul>\n",
    " </div>"
   ]
  },
  {
   "cell_type": "markdown",
   "id": "b431dca6-9d8f-4b2d-93bc-f7fe581c0ac9",
   "metadata": {},
   "source": [
    "<h2 style='font-size:30px'> ML Pipelines</h2>"
   ]
  },
  {
   "cell_type": "code",
   "execution_count": 2,
   "id": "df4932e9-f336-42f3-8163-ba74f93b5551",
   "metadata": {},
   "outputs": [],
   "source": [
    "# 02_01_maintainability.png"
   ]
  },
  {
   "cell_type": "markdown",
   "id": "d3a875bb-4fe4-4754-b9d1-f12accca9b60",
   "metadata": {},
   "source": [
    "<p style='color:red'> Terminei a aula de Overview; ML Pipelines (2:10); Explicar como um projeto de ML pode ser representado por um DAG</p>"
   ]
  }
 ],
 "metadata": {
  "kernelspec": {
   "display_name": "Python 3 (ipykernel)",
   "language": "python",
   "name": "python3"
  },
  "language_info": {
   "codemirror_mode": {
    "name": "ipython",
    "version": 3
   },
   "file_extension": ".py",
   "mimetype": "text/x-python",
   "name": "python",
   "nbconvert_exporter": "python",
   "pygments_lexer": "ipython3",
   "version": "3.11.7"
  }
 },
 "nbformat": 4,
 "nbformat_minor": 5
}
