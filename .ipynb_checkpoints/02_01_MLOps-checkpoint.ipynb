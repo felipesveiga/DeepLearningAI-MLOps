{
 "cells": [
  {
   "cell_type": "markdown",
   "id": "1e193b14-b65e-4730-9d96-e4d09ff564db",
   "metadata": {},
   "source": [
    "<h1 style='font-size:40px'> Machine Learning Data Lifecycle in Production </h1>"
   ]
  },
  {
   "cell_type": "markdown",
   "id": "361a69ae-82a3-4bee-a73b-8c7b935e0c75",
   "metadata": {},
   "source": [
    "<h2 style='font-size:30px'> Overview</h2>\n",
    "<div> \n",
    "    <ul style='font-size:20px'>\n",
    "        <li> \n",
    "            Sistemas corporativos de IA são muito mais complexos do que os de projetos pessoais, ou acadêmicos. Além da parte óbvia de termos que coletar dados e treinar a IA, temos uma série de outras responsabilidades. O diagrama do curso 1 é um bom recurso para nos lembrar dessas coisas: \n",
    "            <center style='margin-top:20px'> \n",
    "                <img src='img/01_01_ml_requirements.png'>\n",
    "            </center>\n",
    "        </li>\n",
    "        <li style='margin-top:20px'>  \n",
    "        </li>\n",
    "    </ul>\n",
    "</div>"
   ]
  },
  {
   "cell_type": "markdown",
   "id": "d3a875bb-4fe4-4754-b9d1-f12accca9b60",
   "metadata": {},
   "source": [
    "<p style='color:red'> Overview 5:34; </p>"
   ]
  }
 ],
 "metadata": {
  "kernelspec": {
   "display_name": "Python 3 (ipykernel)",
   "language": "python",
   "name": "python3"
  },
  "language_info": {
   "codemirror_mode": {
    "name": "ipython",
    "version": 3
   },
   "file_extension": ".py",
   "mimetype": "text/x-python",
   "name": "python",
   "nbconvert_exporter": "python",
   "pygments_lexer": "ipython3",
   "version": "3.11.7"
  }
 },
 "nbformat": 4,
 "nbformat_minor": 5
}
