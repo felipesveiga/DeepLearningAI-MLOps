{
 "cells": [
  {
   "cell_type": "markdown",
   "id": "dcb89514-7e9a-475d-a96f-1ec38785fa61",
   "metadata": {},
   "source": [
    "<h1 style='font-size:40px'> Feature Engineering</h1>"
   ]
  },
  {
   "cell_type": "markdown",
   "id": "50dbeec6-b76b-4893-bfcd-85b1ce765f02",
   "metadata": {},
   "source": [
    "<h2 style='font-size:30px'> Introduction to Preprocessing</h2>\n",
    "<div> \n",
    "    <ul style='font-size:20px'> \n",
    "        <li>   \n",
    "            O pré-processamento é uma etapa vital da cadeia de ML. Envolve procedimentos como a numeralização do dataset, normalização e redução da dimensionalidade dos dados.\n",
    "        </li>\n",
    "    </ul>\n",
    " </div>"
   ]
  },
  {
   "cell_type": "markdown",
   "id": "d1e3eba2-826f-4195-8d15-d8685eebe2e6",
   "metadata": {},
   "source": [
    "<p style='color:red'> Terminei Week 1; Introduction to Preprocessing (2:35)</p>"
   ]
  }
 ],
 "metadata": {
  "kernelspec": {
   "display_name": "Python 3 (ipykernel)",
   "language": "python",
   "name": "python3"
  },
  "language_info": {
   "codemirror_mode": {
    "name": "ipython",
    "version": 3
   },
   "file_extension": ".py",
   "mimetype": "text/x-python",
   "name": "python",
   "nbconvert_exporter": "python",
   "pygments_lexer": "ipython3",
   "version": "3.11.7"
  }
 },
 "nbformat": 4,
 "nbformat_minor": 5
}
