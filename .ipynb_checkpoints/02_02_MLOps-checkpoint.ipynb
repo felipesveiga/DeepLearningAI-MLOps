{
 "cells": [
  {
   "cell_type": "markdown",
   "id": "dcb89514-7e9a-475d-a96f-1ec38785fa61",
   "metadata": {},
   "source": [
    "<h1 style='font-size:40px'> Feature Engineering</h1>"
   ]
  },
  {
   "cell_type": "markdown",
   "id": "50dbeec6-b76b-4893-bfcd-85b1ce765f02",
   "metadata": {},
   "source": [
    "<h2 style='font-size:30px'> Introduction to Preprocessing</h2>\n",
    "<div> \n",
    "    <ul style='font-size:20px'> \n",
    "        <li>   \n",
    "            O pré-processamento é uma etapa vital da cadeia de ML. Envolve procedimentos como a numeralização do dataset, normalização e redução da dimensionalidade dos dados.\n",
    "        </li>\n",
    "    </ul>\n",
    " </div>"
   ]
  },
  {
   "cell_type": "markdown",
   "id": "2f80f2ae-3a53-40ce-98c7-242e014ef2f9",
   "metadata": {},
   "source": [
    "<h3 style='font-size:30px;font-style:italic'> Art of Feature Engineering</h3>\n",
    "<div> \n",
    "    <ul style='font-size:20px'> \n",
    "        <li> \n",
    "            Feature Engineering consiste na transformação de nosso dataset, visando viabilizar/facilitar o treinamento de nosso modelo. Isso pode ocorrer, seja pela combinação de features (Polynomial, PCA), seja pela adição de novas features no dataset.\n",
    "        </li>\n",
    "        <li>\n",
    "             A modificação das propriedades estatísticas de features já existentes (padronização) também é considerada uma feature engineering.\n",
    "        </li>\n",
    "    </ul>\n",
    " </div>"
   ]
  },
  {
   "cell_type": "markdown",
   "id": "1415d570-b807-43dc-be20-064adb24d9dc",
   "metadata": {},
   "source": [
    "<h2 style='font-size:30px'> Preprocessing Operations</h2>\n",
    "<div> \n",
    "    <ul style='font-size:20px'> \n",
    "        <li>   \n",
    "               Crowe apenas nos deu uma revisão sobre os principais tratamentos que devemos aplicar sobre os nossos dados.\n",
    "        </li>\n",
    "    </ul>\n",
    " </div>"
   ]
  },
  {
   "cell_type": "markdown",
   "id": "44bb2e0a-ecca-4e00-963a-855b9f09e59d",
   "metadata": {},
   "source": [
    "<h2 style='font-size:30px'>Feature Engineering Techniques </h2>\n",
    "<div> \n",
    "    <ul style='font-size:20px'> \n",
    "        <li>   \n",
    "            Vamos entrar no detalhe de algumas das principais técnicas para Feature Engineering.\n",
    "        </li>\n",
    "    </ul>\n",
    " </div>"
   ]
  },
  {
   "cell_type": "markdown",
   "id": "580883cb-3605-4a4e-98ee-fb0026b530e1",
   "metadata": {},
   "source": [
    "<h3 style='font-size:30px;font-style:italic'> Min-Max Scaling</h3>\n",
    "<div> \n",
    "    <ul style='font-size:20px'> \n",
    "        <li> \n",
    "            Chamado no curso como <i> normalization</i>, é recomendado quando sabemos que nossos dados não são gaussianos.\n",
    "            <center style='margin-top:20px'> \n",
    "                $X_{\\text{min-max}}=\\frac{X-X_{\\text{min}}}{X_{\\text{max}}-X_{\\text{min}}}$\n",
    "            </center>\n",
    "        </li>\n",
    "    </ul>\n",
    " </div>"
   ]
  },
  {
   "cell_type": "markdown",
   "id": "e97f4c17-1b18-4085-91d3-6fb98b319d5f",
   "metadata": {},
   "source": [
    "<h3 style='font-size:30px;font-style:italic'> Standardization</h3>\n",
    "<div> \n",
    "    <ul style='font-size:20px'> \n",
    "        <li> \n",
    "            Adequado para quando possuímos distribuições gaussianas.\n",
    "            <center style='margin-top:20px'> \n",
    "                $X^{'}=\\frac{X-\\mu}{\\sigma}$\n",
    "            </center>\n",
    "        </li>\n",
    "    </ul>\n",
    " </div>"
   ]
  },
  {
   "cell_type": "markdown",
   "id": "d1e3eba2-826f-4195-8d15-d8685eebe2e6",
   "metadata": {},
   "source": [
    "<p style='color:red'> Feature Engineering Techniques (5:25)</p>"
   ]
  }
 ],
 "metadata": {
  "kernelspec": {
   "display_name": "Python 3 (ipykernel)",
   "language": "python",
   "name": "python3"
  },
  "language_info": {
   "codemirror_mode": {
    "name": "ipython",
    "version": 3
   },
   "file_extension": ".py",
   "mimetype": "text/x-python",
   "name": "python",
   "nbconvert_exporter": "python",
   "pygments_lexer": "ipython3",
   "version": "3.11.7"
  }
 },
 "nbformat": 4,
 "nbformat_minor": 5
}
