{
 "cells": [
  {
   "cell_type": "markdown",
   "id": "18252e19-0fc8-4f6b-a90c-1e785f7d3bd9",
   "metadata": {},
   "source": [
    "<div>\n",
    "    <h1 style='font-size:40px'>  Explainable AI</h1>\n",
    "</div>"
   ]
  },
  {
   "cell_type": "markdown",
   "id": "074c03f1-e6e5-44c1-a317-23d94df8b7fd",
   "metadata": {},
   "source": [
    "<h2 style='font-size:30px'> Explainable AI</h2>\n",
    "<div> \n",
    "    <ul style='font-size:20px'> \n",
    "        <li>\n",
    "        </li>\n",
    "    </ul>\n",
    " </div>"
   ]
  },
  {
   "cell_type": "code",
   "execution_count": 6,
   "id": "5b8a4c75-197e-4e86-9366-9abfd53ed920",
   "metadata": {},
   "outputs": [
    {
     "name": "stdout",
     "output_type": "stream",
     "text": [
      "[master 654af46] Ver Continuous Evaluation and Monitoring\n",
      " 2 files changed, 938 insertions(+), 17 deletions(-)\n",
      " create mode 100644 assignments/03_04/C3_W4_Lab_3_Fairness_Indicators.ipynb\n",
      "Enumerating objects: 10, done.\n",
      "Counting objects: 100% (10/10), done.\n",
      "Delta compression using up to 24 threads\n",
      "Compressing objects: 100% (6/6), done.\n",
      "Writing objects: 100% (6/6), 10.69 KiB | 10.69 MiB/s, done.\n",
      "Total 6 (delta 4), reused 0 (delta 0), pack-reused 0\n",
      "remote: Resolving deltas: 100% (4/4), completed with 4 local objects.\u001b[K\n",
      "To https://github.com/felipesveiga/DeepLearningAI-MLOps.git\n",
      "   9648f2d..654af46  master -> master\n"
     ]
    }
   ],
   "source": [
    "! git add .\n",
    "! git commit -am 'Explicar o conceito e necessidade da Explainable AI'\n",
    "! git push"
   ]
  },
  {
   "cell_type": "markdown",
   "id": "a4eea98a-8167-450d-9401-a155b940e5ae",
   "metadata": {},
   "source": [
    "<p style='color:red'> Terminei semana 4; Explicar o conceito e necessidade da Explainable AI\n",
    "</p>"
   ]
  }
 ],
 "metadata": {
  "kernelspec": {
   "display_name": "Python 3 (ipykernel)",
   "language": "python",
   "name": "python3"
  },
  "language_info": {
   "codemirror_mode": {
    "name": "ipython",
    "version": 3
   },
   "file_extension": ".py",
   "mimetype": "text/x-python",
   "name": "python",
   "nbconvert_exporter": "python",
   "pygments_lexer": "ipython3",
   "version": "3.10.12"
  }
 },
 "nbformat": 4,
 "nbformat_minor": 5
}
