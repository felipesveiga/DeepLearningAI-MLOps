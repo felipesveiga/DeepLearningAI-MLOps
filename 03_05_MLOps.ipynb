{
 "cells": [
  {
   "cell_type": "markdown",
   "id": "18252e19-0fc8-4f6b-a90c-1e785f7d3bd9",
   "metadata": {},
   "source": [
    "<div>\n",
    "    <h1 style='font-size:40px'>  Explainable AI</h1>\n",
    "</div>"
   ]
  },
  {
   "cell_type": "markdown",
   "id": "074c03f1-e6e5-44c1-a317-23d94df8b7fd",
   "metadata": {},
   "source": [
    "<h2 style='font-size:30px'> Explainable AI</h2>\n",
    "<div> \n",
    "    <ul style='font-size:20px'> \n",
    "        <li>\n",
    "            Explainable AI é uma atividade, dentro do campo de AI, que busca pelo desenvolvimento de modelos mais interpretáveis por humanos.\n",
    "        </li>\n",
    "        <li>\n",
    "            As principais intenções dessa atividade são criar arquiteturas mais fáceis de serem debugadas, e também previsões que possa ser de alguma forma justificadas a clientes ou, até mesmo, intimações legais. \n",
    "        </li>\n",
    "    </ul>\n",
    " </div>"
   ]
  },
  {
   "cell_type": "markdown",
   "id": "d211fb3c-0417-4747-b226-2f9cccbdf522",
   "metadata": {},
   "source": [
    "<div>\n",
    "    <hr>\n",
    "    <h1 style='font-size:40px'>  Interpretability</h1>\n",
    "</div>"
   ]
  },
  {
   "cell_type": "markdown",
   "id": "0882d82c-e466-401d-b3bf-cb85ca397197",
   "metadata": {},
   "source": [
    "<h2 style='font-size:30px'> Model Interpretation Methods</h2>\n",
    "<div> \n",
    "    <ul style='font-size:20px'> \n",
    "        <li>\n",
    "            Exploraremos nas próximas aulas maneiras de entendermos as previsões de nossos modelos.\n",
    "        </li>\n",
    "        <li>\n",
    "            Saber como seu modelo se comporta de acordo com os inputs pode ser algo importante para se justificar uma determinada previsão (para uma área de negócio, ou, até, legalmente). \n",
    "        </li>\n",
    "        <li>\n",
    "            Além disso, pode nos facilitar com possíveis debugs, em caso de comportamentos inesperados.\n",
    "        </li>\n",
    "    </ul>\n",
    " </div>"
   ]
  },
  {
   "cell_type": "markdown",
   "id": "d9157373-8323-4853-a5a0-8439e807e1f9",
   "metadata": {},
   "source": [
    "<div>\n",
    "    <hr>\n",
    "    <h1 style='font-size:40px'>  Understanding Model Predictions</h1>\n",
    "</div>"
   ]
  },
  {
   "cell_type": "markdown",
   "id": "8f99f179-a358-43cc-9e90-8b166761a0a5",
   "metadata": {},
   "source": [
    "<h2 style='font-size:30px'> Model Agnostic Methods</h2>\n",
    "<div> \n",
    "    <ul style='font-size:20px'> \n",
    "        <li>\n",
    "            Os métodos de interpretabilidade agnósticos a modelos não podem levar em consideração a arquitetura do algoritmo sob avaliação.\n",
    "        </li>\n",
    "        <li>\n",
    "            Exploraremos alguns deles nesta seção.\n",
    "        </li>\n",
    "    </ul>\n",
    " </div>"
   ]
  },
  {
   "cell_type": "markdown",
   "id": "5507bb4b-56bf-427b-8bc5-036a4fa786f4",
   "metadata": {},
   "source": [
    "<h2 style='font-size:30px'> Partial Dependence Plots</h2>\n",
    "<div> \n",
    "    <ul style='font-size:20px'> \n",
    "        <li>\n",
    "            Partial Dependence Plots são gráficos que denunciam o efeito de ajustarmos uma dada feature sobre as previsões da IA. \n",
    "        </li>\n",
    "        <li>\n",
    "            É um método limitado, porque pode ser usado com até 2 features. Além disso, não leva em conta colinearidade.\n",
    "        </li>\n",
    "    </ul>\n",
    " </div>"
   ]
  },
  {
   "cell_type": "markdown",
   "id": "5225b0b8-a002-46f8-b15d-f66e184cdc65",
   "metadata": {},
   "source": [
    "<center style='margin-top:20px'> \n",
    "        <figure>\n",
    "            <img src='img/03_05_pdp_reg.png'>\n",
    "            <figcaption>PDP de um modelo de regressão</figcaption>\n",
    "        </figure>\n",
    "    </center>"
   ]
  },
  {
   "cell_type": "markdown",
   "id": "a029fc04-1030-4cbc-a734-ac33d35fe5aa",
   "metadata": {},
   "source": [
    "<center style='margin-top:20px'> \n",
    "        <figure>\n",
    "            <img src='img/03_05_pdp_clas.png'>\n",
    "            <figcaption>PDP de um modelo de classificação</figcaption>\n",
    "        </figure>\n",
    "    </center>"
   ]
  },
  {
   "cell_type": "markdown",
   "id": "90ccc983-5098-4b71-9961-9eced6af555a",
   "metadata": {},
   "source": [
    "<h2 style='font-size:30px'> Permutation Feature Importance</h2>\n",
    "<div> \n",
    "    <ul style='font-size:20px'> \n",
    "        <li>\n",
    "            Permutation Feature Importance consiste em avaliar a performance do modelo, quando substituímos o valor de uma feature por um número aleatório.\n",
    "        </li>\n",
    "        <li>\n",
    "            As features mais impactantes são aquelas cuja distorção causa a maior piora do algoritmo.\n",
    "        </li>\n",
    "        <li>\n",
    "            No entanto, esse método também tem a limitação de considerar as features independentes.\n",
    "        </li>\n",
    "    </ul>\n",
    " </div>"
   ]
  },
  {
   "cell_type": "markdown",
   "id": "2ef6a34b-943c-4994-8d30-93e59a71336b",
   "metadata": {},
   "source": [
    "<h2 style='font-size:30px'> Shapley Values</h2>\n",
    "<div> \n",
    "    <ul style='font-size:20px'> \n",
    "        <li>\n",
    "            O Shapley Value é uma estimativa do impacto de cada feature sobre a previsão final do modelo.\n",
    "        </li>\n",
    "        <li>\n",
    "            Seu procedimento é comparar a previsão de uma instância com o valor médio estimado pelo modelo no batch.\n",
    "        </li>\n",
    "    </ul>\n",
    " </div>"
   ]
  },
  {
   "cell_type": "markdown",
   "id": "1af198bb-d760-451e-8345-05e3b01eceae",
   "metadata": {},
   "source": [
    " <center style='margin-top:20px'>\n",
    "                <img src='img/03_05_shapley_table.png'>\n",
    "            </center>"
   ]
  },
  {
   "cell_type": "markdown",
   "id": "fe4a297c-6baa-43e0-b2bb-b46496c3f22b",
   "metadata": {},
   "source": [
    "<h2 style='font-size:30px'> SHapley Additive exPlanations (SHAP)</h2>\n",
    "<div> \n",
    "    <ul style='font-size:20px'> \n",
    "        <li>\n",
    "            A SHapley Additive exPlanations (SHAP) é uma biblioteca que oferece diversos algoritmos de avaliação de modelos, baseados no Shapley Value. \n",
    "        </li>\n",
    "        <li>\n",
    "            As features são entendidas como forças, que atraem a previsão $\\hat{y}$ do modelo para valores maiores ou menores do que a média das estimativas $\\overline{y}$.\n",
    "        </li>\n",
    "    </ul>\n",
    " </div>"
   ]
  },
  {
   "cell_type": "markdown",
   "id": "5308c541-907f-4999-a8a3-1d0df73da1f7",
   "metadata": {},
   "source": [
    "<h2 style='font-size:30px'> AI Explanations</h2>\n",
    "<div> \n",
    "    <ul style='font-size:20px'> \n",
    "        <li>\n",
    "            AI Explanations é um serviço do Google Cloud com métodos de interpretação de previsões de nossos modelos.\n",
    "        </li>\n",
    "        <li>\n",
    "            As técnicas disponíveis são todas baseadas em Shapley Values.\n",
    "        </li>\n",
    "    </ul>\n",
    " </div>"
   ]
  },
  {
   "cell_type": "markdown",
   "id": "22713682-4d6e-4f8f-a2e0-973fd35e19cb",
   "metadata": {},
   "source": [
    "<h2 style='font-size:30px;color:red'> Recapitulação</h2>\n",
    "<div> \n",
    "    <ul style='font-size:20px'> \n",
    "        <li>\n",
    "            Seria interessante estudar mais sobre Shapley Values no futuro, a fim de entender melhor os algoritmos apresentados \n",
    "        </li>\n",
    "        <li>\n",
    "            Ver o módulo `sklearn.introspection`, que contém algumas metodologias de interpretação de IA's.\n",
    "        </li>\n",
    "    </ul>\n",
    " </div>"
   ]
  }
 ],
 "metadata": {
  "kernelspec": {
   "display_name": "Python 3 (ipykernel)",
   "language": "python",
   "name": "python3"
  },
  "language_info": {
   "codemirror_mode": {
    "name": "ipython",
    "version": 3
   },
   "file_extension": ".py",
   "mimetype": "text/x-python",
   "name": "python",
   "nbconvert_exporter": "python",
   "pygments_lexer": "ipython3",
   "version": "3.10.12"
  }
 },
 "nbformat": 4,
 "nbformat_minor": 5
}
