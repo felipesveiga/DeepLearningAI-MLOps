{
 "cells": [
  {
   "cell_type": "markdown",
   "id": "18252e19-0fc8-4f6b-a90c-1e785f7d3bd9",
   "metadata": {},
   "source": [
    "<div>\n",
    "    <h1 style='font-size:40px'>  Explainable AI</h1>\n",
    "</div>"
   ]
  },
  {
   "cell_type": "markdown",
   "id": "074c03f1-e6e5-44c1-a317-23d94df8b7fd",
   "metadata": {},
   "source": [
    "<h2 style='font-size:30px'> Explainable AI</h2>\n",
    "<div> \n",
    "    <ul style='font-size:20px'> \n",
    "        <li>\n",
    "            Explainable AI é uma atividade, dentro do campo de AI, que busca pelo desenvolvimento de modelos mais interpretáveis por humanos.\n",
    "        </li>\n",
    "        <li>\n",
    "            As principais intenções dessa atividade são criar arquiteturas mais fáceis de serem debugadas, e também previsões que possa ser de alguma forma justificadas a clientes ou, até mesmo, intimações legais. \n",
    "        </li>\n",
    "    </ul>\n",
    " </div>"
   ]
  },
  {
   "cell_type": "markdown",
   "id": "d211fb3c-0417-4747-b226-2f9cccbdf522",
   "metadata": {},
   "source": [
    "<div>\n",
    "    <hr>\n",
    "    <h1 style='font-size:40px'>  Interpretability</h1>\n",
    "</div>"
   ]
  },
  {
   "cell_type": "markdown",
   "id": "0882d82c-e466-401d-b3bf-cb85ca397197",
   "metadata": {},
   "source": [
    "<h2 style='font-size:30px'> Model Interpretation Methods</h2>\n",
    "<div> \n",
    "    <ul style='font-size:20px'> \n",
    "        <li>\n",
    "        </li>\n",
    "    </ul>\n",
    " </div>"
   ]
  },
  {
   "cell_type": "code",
   "execution_count": 1,
   "id": "5b8a4c75-197e-4e86-9366-9abfd53ed920",
   "metadata": {},
   "outputs": [
    {
     "name": "stdout",
     "output_type": "stream",
     "text": [
      "[master 8ce8552] Explicar o conceito e necessidade da Explainable AI\n",
      " 4 files changed, 89 insertions(+), 43 deletions(-)\n",
      " create mode 100644 03_05_MLOps.ipynb\n",
      " create mode 100644 resources/concept-drift-detection-unlabeled-data.pdf\n",
      " create mode 100644 resources/concept-drift-detection-unlabeled-data.pdf:Zone.Identifier\n",
      "Enumerating objects: 9, done.\n",
      "Counting objects: 100% (9/9), done.\n",
      "Delta compression using up to 24 threads\n",
      "Compressing objects: 100% (6/6), done.\n",
      "Writing objects: 100% (6/6), 2.49 MiB | 4.68 MiB/s, done.\n",
      "Total 6 (delta 3), reused 0 (delta 0), pack-reused 0\n",
      "remote: Resolving deltas: 100% (3/3), completed with 3 local objects.\u001b[K\n",
      "To https://github.com/felipesveiga/DeepLearningAI-MLOps.git\n",
      "   654af46..8ce8552  master -> master\n"
     ]
    }
   ],
   "source": [
    "! git add .\n",
    "! git commit -am 'Explicar o conceito e necessidade da Explainable AI'\n",
    "! git push"
   ]
  },
  {
   "cell_type": "markdown",
   "id": "a4eea98a-8167-450d-9401-a155b940e5ae",
   "metadata": {},
   "source": [
    "<p style='color:red'> Terminei semana 4; Explicar o conceito e necessidade da Explainable AI\n",
    "</p>"
   ]
  }
 ],
 "metadata": {
  "kernelspec": {
   "display_name": "Python 3 (ipykernel)",
   "language": "python",
   "name": "python3"
  },
  "language_info": {
   "codemirror_mode": {
    "name": "ipython",
    "version": 3
   },
   "file_extension": ".py",
   "mimetype": "text/x-python",
   "name": "python",
   "nbconvert_exporter": "python",
   "pygments_lexer": "ipython3",
   "version": "3.10.12"
  }
 },
 "nbformat": 4,
 "nbformat_minor": 5
}
