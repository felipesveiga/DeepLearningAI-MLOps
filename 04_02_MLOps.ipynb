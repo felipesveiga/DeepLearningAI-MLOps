{
 "cells": [
  {
   "cell_type": "markdown",
   "id": "b6ae262d-a438-4327-a01f-73353d3aff60",
   "metadata": {
    "jp-MarkdownHeadingCollapsed": true
   },
   "source": [
    "<div>\n",
    "    <h1 style='font-size:40px'> Model Serving Architecture</h1>\n",
    "</div>"
   ]
  },
  {
   "cell_type": "markdown",
   "id": "2c9383c9-5948-453f-b5e3-50faf25e6ced",
   "metadata": {},
   "source": [
    "<h2 style='font-size:30px'> Model Serving Architecture</h2>\n",
    "<div> \n",
    "    <ul style='font-size:20px'> \n",
    "        <li>\n",
    "            De maneira geral, um Model Server hospedará o arquivo do modelo, assim como a API consumida pelo cliente.\n",
    "        </li>\n",
    "        <li>\n",
    "            As Big Techs desenvolvem softwares para serem utilizados em Model Servers.\n",
    "            <center style='margin-top:20px'>\n",
    "                <img src='img/04_02_server_providers.png'>\n",
    "            </center>\n",
    "        </li>\n",
    "    </ul>\n",
    " </div>"
   ]
  },
  {
   "cell_type": "markdown",
   "id": "ccf90d4d-577c-4763-893d-39ec33d7356c",
   "metadata": {},
   "source": [
    "<div>\n",
    "    <h1 style='font-size:40px'> Scaling Infrastructure</h1>\n",
    "</div>"
   ]
  },
  {
   "cell_type": "markdown",
   "id": "986e963b-795a-43d6-a9cf-be03d98199c4",
   "metadata": {},
   "source": [
    "<h2 style='font-size:30px'> Scaling Infrastructure</h2>\n",
    "<div> \n",
    "    <ul style='font-size:20px'> \n",
    "        <li>\n",
    "            Escalonamento é uma técnica bastante comum no mundo de T.I, e não poderia ser diferente no de ML.\n",
    "        </li>\n",
    "        <li>\n",
    "            É recomendável haver algum mecanismo de escalonamento no ambiente de produção (preferencialmente horizontal), a fim de conseguirmos lidar com diferentes volumes de demanda, sem precisarmos indisponibilizar o nosso serviço.\n",
    "        </li>\n",
    "    </ul>\n",
    " </div>"
   ]
  },
  {
   "cell_type": "markdown",
   "id": "43b26caa-425c-49df-8c47-95761fd9f9f3",
   "metadata": {},
   "source": [
    "<h3 style='font-size:30px;font-style:italic'> Ferramentas de Escalabilidade</h3>\n",
    "<div> \n",
    "    <ul style='font-size:20px'> \n",
    "        <li> \n",
    "            Dada a enorme popularidade das ferramentas de containers, softwares como o Kubernetes e o Docker Swarm são bastante recorridas na criação de mecanismos de escalabilidade.\n",
    "        </li>\n",
    "        <li>\n",
    "            Com eles, o usuário poderá facilmente gerenciar o ciclo de vida de seus containers, assim como criar regras para a ativação/desligamento deles.\n",
    "        </li>\n",
    "        <li>\n",
    "            A equipe do Kubernetes desenvolveu o KubeFlow, software de MLOps para ser utilizado dentro de engines Kubernetes.\n",
    "        </li>\n",
    "    </ul>\n",
    " </div>"
   ]
  },
  {
   "cell_type": "markdown",
   "id": "538ba02b-dc74-4d29-bc85-d217d696cb23",
   "metadata": {},
   "source": [
    "<div>\n",
    "    <h1 style='font-size:40px'> Online Inference</h1>\n",
    "</div>"
   ]
  },
  {
   "cell_type": "markdown",
   "id": "77cf0f11-f439-4cf4-baf7-e9173106e579",
   "metadata": {},
   "source": [
    "<h2 style='font-size:30px'> Online Inference</h2>\n",
    "<div> \n",
    "    <ul style='font-size:20px'> \n",
    "        <li>\n",
    "            Tratando-se de inferências em tempo real, os três eixos de latência, throughput e custo deverão ser considerados para a arquitetação da infraestrutura de previsão.\n",
    "        </li>\n",
    "    </ul>\n",
    " </div>"
   ]
  },
  {
   "cell_type": "code",
   "execution_count": 1,
   "id": "339d7695-4a1f-41c9-af0a-e043f30cff78",
   "metadata": {
    "scrolled": true
   },
   "outputs": [
    {
     "name": "stdout",
     "output_type": "stream",
     "text": [
      "[master bbc3681] Ver Scaling Infrastructure (3:40)\n",
      " 4 files changed, 877 insertions(+), 63 deletions(-)\n",
      " create mode 100644 04_02_MLOps.ipynb\n",
      " create mode 100644 assignments/04_01/C4_W1_Lab_2_TF_Serving.ipynb\n",
      " create mode 100644 img/04_02_server_providers.png\n",
      "Enumerating objects: 13, done.\n",
      "Counting objects: 100% (13/13), done.\n",
      "Delta compression using up to 24 threads\n",
      "Compressing objects: 100% (9/9), done.\n",
      "Writing objects: 100% (9/9), 48.84 KiB | 48.84 MiB/s, done.\n",
      "Total 9 (delta 4), reused 0 (delta 0), pack-reused 0\n",
      "remote: Resolving deltas: 100% (4/4), completed with 4 local objects.\u001b[K\n",
      "To https://github.com/felipesveiga/DeepLearningAI-MLOps.git\n",
      "   a7e4c12..bbc3681  master -> master\n"
     ]
    }
   ],
   "source": [
    "! git add .\n",
    "! git commit -am 'Online Inference (3:00)'\n",
    "! git push"
   ]
  },
  {
   "cell_type": "markdown",
   "id": "01d2328b-a1b0-40cd-9840-857e865403f2",
   "metadata": {},
   "source": [
    "<p style='color:red'> Vi Scaling Infrastructure; Iniciei Online Inference; Online Inference (3:00)\n",
    "</p>"
   ]
  }
 ],
 "metadata": {
  "kernelspec": {
   "display_name": "Python 3 (ipykernel)",
   "language": "python",
   "name": "python3"
  },
  "language_info": {
   "codemirror_mode": {
    "name": "ipython",
    "version": 3
   },
   "file_extension": ".py",
   "mimetype": "text/x-python",
   "name": "python",
   "nbconvert_exporter": "python",
   "pygments_lexer": "ipython3",
   "version": "3.10.12"
  }
 },
 "nbformat": 4,
 "nbformat_minor": 5
}
