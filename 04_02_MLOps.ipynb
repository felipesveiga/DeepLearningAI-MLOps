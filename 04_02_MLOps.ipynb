{
 "cells": [
  {
   "cell_type": "markdown",
   "id": "b6ae262d-a438-4327-a01f-73353d3aff60",
   "metadata": {},
   "source": [
    "<div>\n",
    "    <h1 style='font-size:40px'> Model Serving Architecture</h1>\n",
    "</div>"
   ]
  },
  {
   "cell_type": "markdown",
   "id": "2c9383c9-5948-453f-b5e3-50faf25e6ced",
   "metadata": {},
   "source": [
    "<h2 style='font-size:30px'> Model Serving Architecture</h2>\n",
    "<div> \n",
    "    <ul style='font-size:20px'> \n",
    "        <li>\n",
    "            De maneira geral, um Model Server hospedará o arquivo do modelo, assim como a API consumida pelo cliente.\n",
    "        </li>\n",
    "        <li>\n",
    "            As Big Techs desenvolvem softwares para serem utilizados em Model Servers.\n",
    "            <center style='margin-top:20px'>\n",
    "                <img src='img/04_02_server_providers.png'>\n",
    "            </center>\n",
    "        </li>\n",
    "    </ul>\n",
    " </div>"
   ]
  },
  {
   "cell_type": "markdown",
   "id": "ccf90d4d-577c-4763-893d-39ec33d7356c",
   "metadata": {},
   "source": [
    "<div>\n",
    "    <h1 style='font-size:40px'> Scaling Infrastructure</h1>\n",
    "</div>"
   ]
  },
  {
   "cell_type": "markdown",
   "id": "986e963b-795a-43d6-a9cf-be03d98199c4",
   "metadata": {},
   "source": [
    "<h2 style='font-size:30px'> Scaling Infrastructure</h2>\n",
    "<div> \n",
    "    <ul style='font-size:20px'> \n",
    "        <li>\n",
    "            Escalonamento é uma técnica bastante comum no mundo de T.I, e não poderia ser diferente no de ML.\n",
    "        </li>\n",
    "        <li>\n",
    "            É recomendável haver algum mecanismo de escalonamento no ambiente de produção (preferencialmente horizontal)l, a fim de conseguirmos lidar com diferentes volumes de demanda, sem precisarmos indisponibilizar o nosso serviço.\n",
    "        </li>\n",
    "    </ul>\n",
    " </div>"
   ]
  },
  {
   "cell_type": "code",
   "execution_count": 4,
   "id": "339d7695-4a1f-41c9-af0a-e043f30cff78",
   "metadata": {
    "scrolled": true
   },
   "outputs": [
    {
     "name": "stdout",
     "output_type": "stream",
     "text": [
      "[master a7e4c12] Ver Installing TensorFlow Serving\n",
      " 1 file changed, 35 insertions(+), 7 deletions(-)\n",
      "Enumerating objects: 5, done.\n",
      "Counting objects: 100% (5/5), done.\n",
      "Delta compression using up to 24 threads\n",
      "Compressing objects: 100% (3/3), done.\n",
      "Writing objects: 100% (3/3), 876 bytes | 876.00 KiB/s, done.\n",
      "Total 3 (delta 2), reused 0 (delta 0), pack-reused 0\n",
      "remote: Resolving deltas: 100% (2/2), completed with 2 local objects.\u001b[K\n",
      "To https://github.com/felipesveiga/DeepLearningAI-MLOps.git\n",
      "   ff1953b..a7e4c12  master -> master\n"
     ]
    }
   ],
   "source": [
    "! git add .\n",
    "! git commit -am 'Ver Scaling Infrastructure (3:40)'\n",
    "! git push"
   ]
  },
  {
   "cell_type": "markdown",
   "id": "01d2328b-a1b0-40cd-9840-857e865403f2",
   "metadata": {},
   "source": [
    "<p style='color:red'> Vi de Installing TensorFlow Serving (semana 1) e iniciei semana 2; Ver Scaling Infrastructure (3:40)\n",
    "</p>"
   ]
  }
 ],
 "metadata": {
  "kernelspec": {
   "display_name": "Python 3 (ipykernel)",
   "language": "python",
   "name": "python3"
  },
  "language_info": {
   "codemirror_mode": {
    "name": "ipython",
    "version": 3
   },
   "file_extension": ".py",
   "mimetype": "text/x-python",
   "name": "python",
   "nbconvert_exporter": "python",
   "pygments_lexer": "ipython3",
   "version": "3.10.12"
  }
 },
 "nbformat": 4,
 "nbformat_minor": 5
}
