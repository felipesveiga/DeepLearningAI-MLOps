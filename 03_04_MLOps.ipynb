{
 "cells": [
  {
   "cell_type": "markdown",
   "id": "a84f0a1b-454b-496f-a465-c9c02a0122e5",
   "metadata": {},
   "source": [
    "<div>\n",
    "    <h1 style='font-size:40px'> Model Analysis Overview</h1>\n",
    "</div>"
   ]
  },
  {
   "cell_type": "markdown",
   "id": "e97b55f2-fad8-41d4-99dd-dddcc9ee4ff9",
   "metadata": {},
   "source": [
    "<h2 style='font-size:30px'>  Model Performance Analysis</h2>\n",
    "<div> \n",
    "    <ul style='font-size:20px'> \n",
    "        <li>\n",
    "            Podemos analisar o desempenho de nosso modelo de duas maneiras. A primeira, mais recorrente, seria verificando as suas métricas qualitativas - black box. A outra, mais detalhista, seria com o monitoramento das computações - model intropection.\n",
    "        </li>\n",
    "        <li>\n",
    "            No monitoramento black box, seria interessante estudar o desempenho do modelo sobre vários segmentos de seu dataset, a fim de garantir sua fairness.\n",
    "        </li>\n",
    "        <li>\n",
    "            Um exemplo de model introspection seria a análise da magnitude dos coeficientes de um mecanismo de atenção.  \n",
    "            <center style='margin-top:20px'>\n",
    "                <img src='img/03_04_attention.png'>\n",
    "            </center>\n",
    "        </li>\n",
    "    </ul>\n",
    " </div>"
   ]
  },
  {
   "cell_type": "markdown",
   "id": "9324b77c-dd61-4153-a36f-8e7d2b780ab9",
   "metadata": {},
   "source": [
    "<div>\n",
    "    <hr>\n",
    "    <h1 style='font-size:40px'> Advanced Model Analysis and Debugging</h1>\n",
    "</div>"
   ]
  },
  {
   "cell_type": "markdown",
   "id": "415f3c0e-fac5-4f21-9f09-d71b2c3345cc",
   "metadata": {},
   "source": [
    "<h2 style='font-size:30px'> Introduction to TensorFlow Model Analysis</h2>\n",
    "<div> \n",
    "    <ul style='font-size:20px'> \n",
    "        <li>\n",
    "            O TensorFlow Model Analysis (TFMA) é uma ferramenta voltada a análises black-box de uma rede neural TF.\n",
    "        </li>\n",
    "        <li>\n",
    "            A lib consegue, automaticamente, validar o seu modelo treinado sobre diferentes seções de seu dataset, buscando por anomalias.\n",
    "        </li>\n",
    "    </ul>\n",
    " </div>"
   ]
  },
  {
   "cell_type": "code",
   "execution_count": 1,
   "id": "7e4a0ce6-d662-42ea-88df-5802d9d574f3",
   "metadata": {},
   "outputs": [
    {
     "name": "stdout",
     "output_type": "stream",
     "text": [
      "[master 44fba83] Semana 4\n",
      " 5 files changed, 721 insertions(+), 43 deletions(-)\n",
      " create mode 100644 03_04_MLOps.ipynb\n",
      " create mode 100644 assignments/03_03/C3_W3_Lab_2_Knowledge_Distillation.ipynb\n",
      " create mode 100644 resources/knowledge_distillation.pdf\n",
      " create mode 100644 resources/knowledge_distillation.pdf:Zone.Identifier\n",
      "Enumerating objects: 14, done.\n",
      "Counting objects: 100% (14/14), done.\n",
      "Delta compression using up to 24 threads\n",
      "Compressing objects: 100% (9/9), done.\n",
      "Writing objects: 100% (9/9), 93.73 KiB | 31.24 MiB/s, done.\n",
      "Total 9 (delta 4), reused 0 (delta 0), pack-reused 0\n",
      "remote: Resolving deltas: 100% (4/4), completed with 4 local objects.\u001b[K\n",
      "To https://github.com/felipesveiga/DeepLearningAI-MLOps.git\n",
      "   916184d..44fba83  master -> master\n"
     ]
    }
   ],
   "source": [
    "! git add .\n",
    "! git commit -am 'Introduction to TensorFlow Model Analysis'\n",
    "! git push"
   ]
  },
  {
   "cell_type": "markdown",
   "id": "7a631493-8ddd-4423-ada1-3da46e510939",
   "metadata": {},
   "source": [
    "<p style='color:red'> Vi Introduction to TensorFlow Model Analysis até o segundo ungrade lab; Ver Model Debugging Overview\n",
    "</p>"
   ]
  }
 ],
 "metadata": {
  "kernelspec": {
   "display_name": "Python 3 (ipykernel)",
   "language": "python",
   "name": "python3"
  },
  "language_info": {
   "codemirror_mode": {
    "name": "ipython",
    "version": 3
   },
   "file_extension": ".py",
   "mimetype": "text/x-python",
   "name": "python",
   "nbconvert_exporter": "python",
   "pygments_lexer": "ipython3",
   "version": "3.10.12"
  }
 },
 "nbformat": 4,
 "nbformat_minor": 5
}
