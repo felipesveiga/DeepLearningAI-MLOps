{
 "cells": [
  {
   "cell_type": "markdown",
   "id": "53717114-ccf3-4e0c-8e6e-35650f1d908d",
   "metadata": {},
   "source": [
    "<h1 style='font-size:40px'> Data Journey and Data Storage </h1>"
   ]
  },
  {
   "cell_type": "markdown",
   "id": "f3de59dc-aa83-4f47-9d65-b823c6490c88",
   "metadata": {},
   "source": [
    "<h2 style='font-size:30px'> Data Journey</h2>\n",
    "<div> \n",
    "    <ul style='font-size:20px'> \n",
    "        <li>   \n",
    "            Como já sabemos, os dados que abastecem um modelo de ML passam por um encadeamento de transformações. Chamamos os dados/objetos lançados por cada componente da pipeline de artifact.\n",
    "        </li>\n",
    "        <li>\n",
    "            A sequência de manipulações realizadas na criação de um artefato específico é chamada de data provenance/lineage. É essencial documentarmos a provenance dos nossos datasets, principalmente para facilitar debugging.\n",
    "        </li>\n",
    "    </ul>\n",
    " </div>"
   ]
  },
  {
   "cell_type": "markdown",
   "id": "2d6a3147-e483-4d6b-a35d-f560cf02c1ac",
   "metadata": {},
   "source": [
    "<h3 style='font-size:30px;font-style:italic'> Data Versioning</h3>\n",
    "<div> \n",
    "    <ul style='font-size:20px'> \n",
    "        <li> \n",
    "            Assim como fazemos com códigos, é muito importante salvarmos as diferentes versões da nossa Pipeline, juntamente com seus artefatos gerados. Isso garante reproducibilidade de testes.\n",
    "        </li>\n",
    "        <li>\n",
    "            Ferramentas como o Git-LFS podem nos ajudar nessa tarefa.\n",
    "        </li>\n",
    "    </ul>\n",
    " </div>"
   ]
  },
  {
   "cell_type": "markdown",
   "id": "31c15a21-cc74-4388-8a21-1a4140ccb35d",
   "metadata": {},
   "source": [
    "<h2 style='font-size:30px'> Introduction to ML Metadata</h2>\n",
    "<div> \n",
    "    <ul style='font-size:20px'> \n",
    "        <li>   \n",
    "            Robert Crowe nos propõe uma arquitetura de componentes transformadores, visando aprimorar a rastreabilidade das manipulações sobre os nossos dados. \n",
    "        </li>\n",
    "        <li>\n",
    "            Devemos armazenar todos os artefatos da nossa pipeline em um repositório. Quando um componente for acionado, usaremos um elemento \"driver\" que resgatará o artefato do componente anterior. Uma vez concluída a transformação, invocaremos o agente \"publisher\" que encaminhará o novo artefato ao repositório.\n",
    "             <center style='margin-top:20px'> \n",
    "                <img src='img/02_03_component_architecture.png'>\n",
    "            </center>\n",
    "        </li>\n",
    "    </ul>\n",
    " </div>"
   ]
  },
  {
   "cell_type": "markdown",
   "id": "61ad315e-9de5-4e92-9234-d5bd4aa5fc5b",
   "metadata": {},
   "source": [
    "<h3 style='font-size:30px;font-style:italic'> ML Metadata</h3>\n",
    "<div> \n",
    "    <ul style='font-size:20px'> \n",
    "        <li> \n",
    "            Nós usaremos o ML Metadata (MLMD) como nosso gerenciador de metadados da nossa pipeline. Essa lib contém 3 componentes principais:\n",
    "            <ul style='font-size:20px'> \n",
    "                <li> \n",
    "                    <i> Artifact:</i> É o dado relativo a alguma etapa da pipeline, seja ele input ou output.\n",
    "                </li>\n",
    "                <li> \n",
    "                    <i> Execution:</i> Sinaliza a execução de algum componente da pipeline.\n",
    "                </li>\n",
    "                <li> \n",
    "                    <i> Context:</i> Indica a associação de um artefato com uma determinada execução.\n",
    "                </li>\n",
    "            </ul>\n",
    "        </li>\n",
    "        <li>\n",
    "            Os metadados de uma determinada execução da pipeline serão armazenados como um objeto metadata.\n",
    "            <center style='margin-top:20px'> \n",
    "                <img src='img/02_03_metadata_store.png'>\n",
    "            </center>\n",
    "        </li>\n",
    "    </ul>\n",
    " </div>"
   ]
  },
  {
   "cell_type": "markdown",
   "id": "d25174f0-954c-4a87-866e-f7dc5ba15a38",
   "metadata": {},
   "source": [
    "<h2 style='font-size:30px'> ML Metadata in Action</h2>\n",
    "<div> \n",
    "    <ul style='font-size:20px'> \n",
    "        <li>   \n",
    "            Aula com uma breve introdução ao MLMD.\n",
    "        </li>\n",
    "        <li>\n",
    "            O pacote permite que utilizemos tanto o MySQL, quanto o SQLite como repositórios dos metadados. Você também pode utilizar um diretório, caso queira.\n",
    "        </li>\n",
    "    </ul>\n",
    " </div>"
   ]
  },
  {
   "cell_type": "markdown",
   "id": "22302c39-5e31-47d6-ba37-390d4d8156ef",
   "metadata": {},
   "source": [
    "<p style='color:red'> Terminei o lab da seção; Fazer o quiz</p>"
   ]
  }
 ],
 "metadata": {
  "kernelspec": {
   "display_name": "Python 3 (ipykernel)",
   "language": "python",
   "name": "python3"
  },
  "language_info": {
   "codemirror_mode": {
    "name": "ipython",
    "version": 3
   },
   "file_extension": ".py",
   "mimetype": "text/x-python",
   "name": "python",
   "nbconvert_exporter": "python",
   "pygments_lexer": "ipython3",
   "version": "3.11.7"
  }
 },
 "nbformat": 4,
 "nbformat_minor": 5
}
