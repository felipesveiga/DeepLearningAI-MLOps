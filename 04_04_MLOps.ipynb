{
 "cells": [
  {
   "cell_type": "markdown",
   "id": "d0c7512c-7e0e-4dfe-97b2-6a52cf41402c",
   "metadata": {},
   "source": [
    "<div>\n",
    "    <h1 style='font-size:40px'> Model Monitoring and Logging</h1>\n",
    "</div>"
   ]
  },
  {
   "cell_type": "markdown",
   "id": "5c125f18-07c7-49a8-9f95-8249c8421f5d",
   "metadata": {},
   "source": [
    "<h2 style='font-size:30px'> Why Monitoring Matters</h2>\n",
    "<div> \n",
    "    <ul style='font-size:20px'> \n",
    "        <li>\n",
    "            Existem dois tipos de monitoração em MLOps. A primeira, <i> functional monitoring</i>, é aquela feita sobre o modelo, enquanto que a <i> non-functional monitoring</i> sobre a infra que o hospeda.\n",
    "        </li>\n",
    "        <li>\n",
    "            As informações providas pela monitoração possibilitam a rápida remediação de problemas, assim como insumo para a próxima criação de modelo.\n",
    "        </li>\n",
    "    </ul>\n",
    " </div>"
   ]
  },
  {
   "cell_type": "code",
   "execution_count": 5,
   "id": "e0e21262-0a05-481a-98c0-b83ca95b9833",
   "metadata": {},
   "outputs": [
    {
     "name": "stdout",
     "output_type": "stream",
     "text": [
      "[master 97a271f] Iniciar Semana 4\n",
      " 2 files changed, 106 insertions(+), 39 deletions(-)\n",
      " create mode 100644 04_04_MLOps.ipynb\n",
      "Enumerating objects: 6, done.\n",
      "Counting objects: 100% (6/6), done.\n",
      "Delta compression using up to 24 threads\n",
      "Compressing objects: 100% (4/4), done.\n",
      "Writing objects: 100% (4/4), 1.33 KiB | 1.33 MiB/s, done.\n",
      "Total 4 (delta 2), reused 0 (delta 0), pack-reused 0\n",
      "remote: Resolving deltas: 100% (2/2), completed with 2 local objects.\u001b[K\n",
      "To https://github.com/felipesveiga/DeepLearningAI-MLOps.git\n",
      "   44c4a32..97a271f  master -> master\n"
     ]
    }
   ],
   "source": [
    "! git add .\n",
    "! git commit -am 'Ver Tracing ML Systems' \n",
    "! git push"
   ]
  },
  {
   "cell_type": "markdown",
   "id": "92c19ce7-89ed-46e8-bf00-ae3eb0fd6b27",
   "metadata": {},
   "source": [
    "<p style='color:red'> Iniciei Semana 4; Ver Tracing ML Systems\n",
    "</p>"
   ]
  }
 ],
 "metadata": {
  "kernelspec": {
   "display_name": "texts-same-article",
   "language": "python",
   "name": "texts-same-article"
  },
  "language_info": {
   "codemirror_mode": {
    "name": "ipython",
    "version": 3
   },
   "file_extension": ".py",
   "mimetype": "text/x-python",
   "name": "python",
   "nbconvert_exporter": "python",
   "pygments_lexer": "ipython3",
   "version": "3.10.12"
  }
 },
 "nbformat": 4,
 "nbformat_minor": 5
}
