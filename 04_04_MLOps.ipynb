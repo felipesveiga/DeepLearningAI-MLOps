{
 "cells": [
  {
   "cell_type": "markdown",
   "id": "d0c7512c-7e0e-4dfe-97b2-6a52cf41402c",
   "metadata": {},
   "source": [
    "<div>\n",
    "    <h1 style='font-size:40px'> Model Monitoring and Logging</h1>\n",
    "</div>"
   ]
  },
  {
   "cell_type": "markdown",
   "id": "5c125f18-07c7-49a8-9f95-8249c8421f5d",
   "metadata": {},
   "source": [
    "<h2 style='font-size:30px'> Why Monitoring Matters</h2>\n",
    "<div> \n",
    "    <ul style='font-size:20px'> \n",
    "        <li>\n",
    "            Existem dois tipos de monitoração em MLOps. A primeira, <i> functional monitoring</i>, é aquela feita sobre o modelo, enquanto que a <i> non-functional monitoring</i> sobre a infra que o hospeda.\n",
    "        </li>\n",
    "        <li>\n",
    "            As informações providas pela monitoração possibilitam a rápida remediação de problemas, assim como insumo para a próxima criação de modelo.\n",
    "        </li>\n",
    "    </ul>\n",
    " </div>"
   ]
  },
  {
   "cell_type": "markdown",
   "id": "bb6c605f-9786-4e93-9216-22bfbfe2a89c",
   "metadata": {},
   "source": [
    "<h2 style='font-size:30px'> Tracing for ML Systems</h2>\n",
    "<div> \n",
    "    <ul style='font-size:20px'> \n",
    "        <li>\n",
    "            Em sistemas mais complexos, uma requsição pode ser passada por diversos serviços, até que a resposta final seja retornada.\n",
    "        </li>\n",
    "        <li>\n",
    "            Nessa situação, é interessante recorrermos a ferramentas de tracing. Com elas, podemos avaliar a latência de cada componente do sistema e averiguar bugs.\n",
    "        </li>\n",
    "    </ul>\n",
    " </div>"
   ]
  },
  {
   "cell_type": "markdown",
   "id": "f4228257-439d-4c79-8840-d97e99c21040",
   "metadata": {},
   "source": [
    "<div>\n",
    "    <h1 style='font-size:40px'> Model Decay</h1>\n",
    "</div>"
   ]
  },
  {
   "cell_type": "markdown",
   "id": "d2857a35-600c-4707-b82c-e3a40c018a91",
   "metadata": {},
   "source": [
    "<h2 style='font-size:30px'> What is Model Decay?</h2>\n",
    "<div> \n",
    "    <ul style='font-size:20px'> \n",
    "        <li>\n",
    "            Model Decay consiste na degradação da performance do modelo ao longo do tempo. Isso pode acontecer tanto por data quanto concept drifts.\n",
    "        </li>\n",
    "    </ul>\n",
    " </div>"
   ]
  },
  {
   "cell_type": "code",
   "execution_count": 1,
   "id": "e0e21262-0a05-481a-98c0-b83ca95b9833",
   "metadata": {},
   "outputs": [
    {
     "name": "stdout",
     "output_type": "stream",
     "text": [
      "[master f8c10cb] Ver Tracing ML Systems\n",
      " 2 files changed, 20 insertions(+), 33 deletions(-)\n",
      "Enumerating objects: 7, done.\n",
      "Counting objects: 100% (7/7), done.\n",
      "Delta compression using up to 24 threads\n",
      "Compressing objects: 100% (4/4), done.\n",
      "Writing objects: 100% (4/4), 915 bytes | 915.00 KiB/s, done.\n",
      "Total 4 (delta 3), reused 0 (delta 0), pack-reused 0\n",
      "remote: Resolving deltas: 100% (3/3), completed with 3 local objects.\u001b[K\n",
      "To https://github.com/felipesveiga/DeepLearningAI-MLOps.git\n",
      "   97a271f..f8c10cb  master -> master\n"
     ]
    }
   ],
   "source": [
    "! git add .\n",
    "! git commit -am 'Iniciei seção de Model Decay' \n",
    "! git push"
   ]
  },
  {
   "cell_type": "markdown",
   "id": "92c19ce7-89ed-46e8-bf00-ae3eb0fd6b27",
   "metadata": {},
   "source": [
    "<p style='color:red'> Vi Tracing ML Systems; Fiz Assignment; Iniciei seção de Model Decay\n",
    "</p>"
   ]
  }
 ],
 "metadata": {
  "kernelspec": {
   "display_name": "texts-same-article",
   "language": "python",
   "name": "texts-same-article"
  },
  "language_info": {
   "codemirror_mode": {
    "name": "ipython",
    "version": 3
   },
   "file_extension": ".py",
   "mimetype": "text/x-python",
   "name": "python",
   "nbconvert_exporter": "python",
   "pygments_lexer": "ipython3",
   "version": "3.10.12"
  }
 },
 "nbformat": 4,
 "nbformat_minor": 5
}
