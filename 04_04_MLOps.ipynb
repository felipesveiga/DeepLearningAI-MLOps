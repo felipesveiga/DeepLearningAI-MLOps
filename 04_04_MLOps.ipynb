{
 "cells": [
  {
   "cell_type": "markdown",
   "id": "d0c7512c-7e0e-4dfe-97b2-6a52cf41402c",
   "metadata": {},
   "source": [
    "<div>\n",
    "    <h1 style='font-size:40px'> Model Monitoring and Logging</h1>\n",
    "</div>"
   ]
  },
  {
   "cell_type": "markdown",
   "id": "5c125f18-07c7-49a8-9f95-8249c8421f5d",
   "metadata": {},
   "source": [
    "<h2 style='font-size:30px'> Why Monitoring Matters</h2>\n",
    "<div> \n",
    "    <ul style='font-size:20px'> \n",
    "        <li>\n",
    "        </li>\n",
    "    </ul>\n",
    " </div>"
   ]
  },
  {
   "cell_type": "code",
   "execution_count": 4,
   "id": "886f0c64-9854-49ad-a4ac-25587e1fc6c7",
   "metadata": {},
   "outputs": [
    {
     "name": "stdout",
     "output_type": "stream",
     "text": [
      "1\n"
     ]
    }
   ],
   "source": [
    "print(1)"
   ]
  },
  {
   "cell_type": "code",
   "execution_count": 3,
   "id": "e0e21262-0a05-481a-98c0-b83ca95b9833",
   "metadata": {},
   "outputs": [
    {
     "name": "stdout",
     "output_type": "stream",
     "text": [
      "[master 44c4a32] Fazer último lab da seção\n",
      " 1 file changed, 29 insertions(+), 13 deletions(-)\n",
      "Enumerating objects: 5, done.\n",
      "Counting objects: 100% (5/5), done.\n",
      "Delta compression using up to 24 threads\n",
      "Compressing objects: 100% (3/3), done.\n",
      "Writing objects: 100% (3/3), 795 bytes | 795.00 KiB/s, done.\n",
      "Total 3 (delta 2), reused 0 (delta 0), pack-reused 0\n",
      "remote: Resolving deltas: 100% (2/2), completed with 2 local objects.\u001b[K\n",
      "To https://github.com/felipesveiga/DeepLearningAI-MLOps.git\n",
      "   63f0d04..44c4a32  master -> master\n"
     ]
    }
   ],
   "source": [
    "! git add .\n",
    "! git commit -am 'Iniciar Semana 4' \n",
    "! git push"
   ]
  },
  {
   "cell_type": "markdown",
   "id": "92c19ce7-89ed-46e8-bf00-ae3eb0fd6b27",
   "metadata": {},
   "source": [
    "<p style='color:red'> Fiz último lab da semana 3; Iniciar Semana 4\n",
    "</p>"
   ]
  }
 ],
 "metadata": {
  "kernelspec": {
   "display_name": "Python 3 (ipykernel)",
   "language": "python",
   "name": "python3"
  },
  "language_info": {
   "codemirror_mode": {
    "name": "ipython",
    "version": 3
   },
   "file_extension": ".py",
   "mimetype": "text/x-python",
   "name": "python",
   "nbconvert_exporter": "python",
   "pygments_lexer": "ipython3",
   "version": "3.10.12"
  }
 },
 "nbformat": 4,
 "nbformat_minor": 5
}
