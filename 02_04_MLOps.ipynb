{
 "cells": [
  {
   "cell_type": "markdown",
   "id": "2792fe27-9b02-4232-ba59-828e6db742b8",
   "metadata": {},
   "source": [
    "<div>\n",
    "    <h1 style='font-size:40px'> Advanced Labeling </h1>\n",
    "</div>\n",
    "<div> \n",
    "    <ul style='font-size:20px'> \n",
    "        <li>   \n",
    "            A rotulagem de nossos dados é um trabalho maçante e caro. Considerando issso, foram concebidas formas um pouco mais sagazes de criarmos as targets de uma massa de instâncias.\n",
    "        </li>\n",
    "    </ul>\n",
    " </div>"
   ]
  },
  {
   "cell_type": "markdown",
   "id": "ee93ece4-24f7-423c-8e09-699fc9935d96",
   "metadata": {},
   "source": [
    "<h2 style='font-size:30px'> Semi-supervised Learning</h2>\n",
    "<div> \n",
    "    <ul style='font-size:20px'> \n",
    "        <li>   \n",
    "            O Aprendizado Semi-Supervisionado ocorre quando rotulamos uma massa de dados sem target, com base em uma pequena amostra de instâncias com targets.\n",
    "        </li>\n",
    "        <li>\n",
    "            Nessa situação, espera-se que as targets sejam distinguíveis entre si no espaço. Designamos os dados sem rótulo à classe de características mais similares (KNN, por exemplo).\n",
    "        </li>\n",
    "    </ul>\n",
    " </div>"
   ]
  },
  {
   "cell_type": "markdown",
   "id": "1be9cc5f-f185-4697-b404-5b56492966ed",
   "metadata": {},
   "source": [
    "<h2 style='font-size:30px'> Active Learning</h2>\n",
    "<div> \n",
    "    <ul style='font-size:20px'> \n",
    "        <li>   \n",
    "            O Active Learning é utilizado quando desejamos escolher inteligentemente dados sem target para serem rotulados por um humano.\n",
    "        </li>\n",
    "        <li>\n",
    "            Essa metodologia propõe baratear os custos de rotulagem, com a escolha metódica de quais instâncias apresentar para o rotulador. Veremos, a seguir, uma técnica de Active Learning.\n",
    "        </li>\n",
    "    </ul>\n",
    " </div>"
   ]
  },
  {
   "cell_type": "markdown",
   "id": "03ea8732-0a1c-495e-b4a3-02bd106bda52",
   "metadata": {},
   "source": [
    "<h3 style='font-size:30px;font-style:italic'> Margin Sampling</h3>\n",
    "<div> \n",
    "    <ul style='font-size:20px'> \n",
    "        <li> \n",
    "            Tendo uma pequena amostra de dados rotulados, traçamos uma SVM, e analisamos o ponto sem target mais próximo da linha tracejada.\n",
    "        </li>\n",
    "        <li>\n",
    "            Essa instância será rotulada e passada ao set de dados com target para uma nova avaliação. Repetimos esse processo até nossos resultados convergirem. \n",
    "        </li>\n",
    "    </ul>\n",
    " </div>"
   ]
  },
  {
   "cell_type": "markdown",
   "id": "d29f502c-b936-4630-8e24-a102ac3ff1ab",
   "metadata": {},
   "source": [
    "<div>\n",
    "    <hr>\n",
    "    <h1 style='font-size:40px'> Data Augmentation </h1>\n",
    "</div>"
   ]
  },
  {
   "cell_type": "markdown",
   "id": "4e9dc3cf-cb1d-47d2-9435-bc6f69001985",
   "metadata": {},
   "source": [
    "<h2 style='font-size:30px'> Data Augmentation</h2>\n",
    "<div> \n",
    "    <ul style='font-size:20px'> \n",
    "        <li>   \n",
    "            Data Augmentation consiste em criar instâncias sintéticas com base nas já presentes em nosso dataset. \n",
    "        </li>\n",
    "        <li>\n",
    "            Essa técnica é bastante popular, principalmente em Computer Vision (rotação, espelhamento, recortes aleatórios).\n",
    "        </li>\n",
    "    </ul>\n",
    " </div>"
   ]
  },
  {
   "cell_type": "markdown",
   "id": "0c59a52e-d49f-4436-8582-5a4bce544e7c",
   "metadata": {},
   "source": [
    "<h3 style='font-size:30px;font-style:italic'> Outras Técnicas de Data Augmentation</h3>\n",
    "<div> \n",
    "    <ul style='font-size:20px'> \n",
    "        <li> \n",
    "            UDA\n",
    "        </li>\n",
    "        <li>\n",
    "            Aprendizado semi-supervisionado com GAN's\n",
    "        </li>\n",
    "        <li>\n",
    "            AutoAugment\n",
    "        </li>\n",
    "    </ul>\n",
    " </div>"
   ]
  },
  {
   "cell_type": "markdown",
   "id": "44f1dd3c-8782-4e2a-905d-9cfd5b68dbae",
   "metadata": {},
   "source": [
    "<div>\n",
    "    <hr>\n",
    "    <h1 style='font-size:40px'>  Preprocessing Different Data Types</h1>\n",
    "</div>"
   ]
  }
 ],
 "metadata": {
  "kernelspec": {
   "display_name": "Python 3 (ipykernel)",
   "language": "python",
   "name": "python3"
  },
  "language_info": {
   "codemirror_mode": {
    "name": "ipython",
    "version": 3
   },
   "file_extension": ".py",
   "mimetype": "text/x-python",
   "name": "python",
   "nbconvert_exporter": "python",
   "pygments_lexer": "ipython3",
   "version": "3.12.3"
  }
 },
 "nbformat": 4,
 "nbformat_minor": 5
}
