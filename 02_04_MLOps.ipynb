{
 "cells": [
  {
   "cell_type": "markdown",
   "id": "2792fe27-9b02-4232-ba59-828e6db742b8",
   "metadata": {},
   "source": [
    "<div>\n",
    "    <h1 style='font-size:40px'> Advanced Labeling </h1>\n",
    "</div>\n",
    "<div> \n",
    "    <ul style='font-size:20px'> \n",
    "        <li>   \n",
    "            A rotulagem de nossos dados é um trabalho maçante e caro. Considerando issso, foram concebidas formas um pouco mais sagazes de criarmos as targets de uma massa de instâncias.\n",
    "        </li>\n",
    "    </ul>\n",
    " </div>"
   ]
  },
  {
   "cell_type": "markdown",
   "id": "ee93ece4-24f7-423c-8e09-699fc9935d96",
   "metadata": {},
   "source": [
    "<h2 style='font-size:30px'> Semi-supervised Learning</h2>\n",
    "<div> \n",
    "    <ul style='font-size:20px'> \n",
    "        <li>   \n",
    "        </li>\n",
    "    </ul>\n",
    " </div>"
   ]
  },
  {
   "cell_type": "markdown",
   "id": "48463f6b-5e58-4ebd-91a3-f3e1a17a0954",
   "metadata": {},
   "source": [
    "<p style='color:red'> Terminei Assignment da Semana 3; Semi-supervised Learning</p>"
   ]
  }
 ],
 "metadata": {
  "kernelspec": {
   "display_name": "Python 3 (ipykernel)",
   "language": "python",
   "name": "python3"
  },
  "language_info": {
   "codemirror_mode": {
    "name": "ipython",
    "version": 3
   },
   "file_extension": ".py",
   "mimetype": "text/x-python",
   "name": "python",
   "nbconvert_exporter": "python",
   "pygments_lexer": "ipython3",
   "version": "3.11.7"
  }
 },
 "nbformat": 4,
 "nbformat_minor": 5
}
