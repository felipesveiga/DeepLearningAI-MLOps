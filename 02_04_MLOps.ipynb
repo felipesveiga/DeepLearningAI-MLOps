{
 "cells": [
  {
   "cell_type": "markdown",
   "id": "2792fe27-9b02-4232-ba59-828e6db742b8",
   "metadata": {},
   "source": [
    "<div>\n",
    "    <h1 style='font-size:40px'> Advanced Labeling </h1>\n",
    "</div>\n",
    "<div> \n",
    "    <ul style='font-size:20px'> \n",
    "        <li>   \n",
    "            A rotulagem de nossos dados é um trabalho maçante e caro. Considerando issso, foram concebidas formas um pouco mais sagazes de criarmos as targets de uma massa de instâncias.\n",
    "        </li>\n",
    "    </ul>\n",
    " </div>"
   ]
  },
  {
   "cell_type": "markdown",
   "id": "ee93ece4-24f7-423c-8e09-699fc9935d96",
   "metadata": {},
   "source": [
    "<h2 style='font-size:30px'> Semi-supervised Learning</h2>\n",
    "<div> \n",
    "    <ul style='font-size:20px'> \n",
    "        <li>   \n",
    "            O Aprendizado Semi-Supervisionado ocorre quando rotulamos uma massa de dados sem target, com base em uma pequena amostra de instâncias com targets.\n",
    "        </li>\n",
    "        <li>\n",
    "            Nessa situação, espera-se que as targets sejam distinguíveis entre si no espaço. Designamos os dados sem rótulo à classe de características mais similares (KNN, por exemplo).\n",
    "        </li>\n",
    "    </ul>\n",
    " </div>"
   ]
  },
  {
   "cell_type": "markdown",
   "id": "1be9cc5f-f185-4697-b404-5b56492966ed",
   "metadata": {},
   "source": [
    "<h2 style='font-size:30px'> Active Learning</h2>\n",
    "<div> \n",
    "    <ul style='font-size:20px'> \n",
    "        <li>   \n",
    "            O Active Learning é utilizado quando desejamos escolher inteligentemente dados sem target para serem rotulados por um humano.\n",
    "        </li>\n",
    "        <li>\n",
    "            Essa metodologia propõe baratear os custos de rotulagem, com a escolha metódica de quais instâncias apresentar para o rotulador. Veremos, a seguir, uma técnica de Active Learning.\n",
    "        </li>\n",
    "    </ul>\n",
    " </div>"
   ]
  },
  {
   "cell_type": "markdown",
   "id": "03ea8732-0a1c-495e-b4a3-02bd106bda52",
   "metadata": {},
   "source": [
    "<h3 style='font-size:30px;font-style:italic'> Margin Sampling</h3>\n",
    "<div> \n",
    "    <ul style='font-size:20px'> \n",
    "        <li> \n",
    "            Tendo uma pequena amostra de dados rotulados, traçamos uma SVM, e analisamos o ponto sem target mais próximo da linha tracejada.\n",
    "        </li>\n",
    "        <li>\n",
    "            Essa instância será rotulada e passada ao set de dados com target para uma nova avaliação. Repetimos esse processo até nossos resultados convergirem. \n",
    "        </li>\n",
    "    </ul>\n",
    " </div>"
   ]
  },
  {
   "cell_type": "markdown",
   "id": "48463f6b-5e58-4ebd-91a3-f3e1a17a0954",
   "metadata": {},
   "source": [
    "<p style='color:red'> Vi Semi-supervised Learning e Active Learning; Não entendi Weak Supervision, ler esse <a href='https://ai.stanford.edu/blog/weak-supervision/'> documento</a> aqui</p>"
   ]
  }
 ],
 "metadata": {
  "kernelspec": {
   "display_name": "Python 3 (ipykernel)",
   "language": "python",
   "name": "python3"
  },
  "language_info": {
   "codemirror_mode": {
    "name": "ipython",
    "version": 3
   },
   "file_extension": ".py",
   "mimetype": "text/x-python",
   "name": "python",
   "nbconvert_exporter": "python",
   "pygments_lexer": "ipython3",
   "version": "3.11.7"
  }
 },
 "nbformat": 4,
 "nbformat_minor": 5
}
