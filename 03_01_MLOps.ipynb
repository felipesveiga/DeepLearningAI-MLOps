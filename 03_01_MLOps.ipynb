{
 "cells": [
  {
   "cell_type": "markdown",
   "id": "4dc75ab3-8120-4f16-84a1-19c026cd0e0e",
   "metadata": {},
   "source": [
    "<div>\n",
    "    <h1 style='font-size:40px'> Hyperparameter tuning: searching for the best architecture</h1>\n",
    "</div>\n",
    "<div> \n",
    "    <ul style='font-size:20px'>\n",
    "        <li> \n",
    "            A tunagem de hiperparâmetros não depende dos processos de otimização dos modelos, sendo um processo muito mais de tentativa e erro.   \n",
    "        </li>\n",
    "        <li>\n",
    "            A fim de acelerar o encontro dos melhores hiperparâmetros, foram criadas diversas metodologias, cada uma com seu racional.\n",
    "        </li>\n",
    "        <li>\n",
    "            No curso, desenvolveremos as tunagens com o Keras Tuner!\n",
    "        </li>\n",
    "    </ul>\n",
    "</div>"
   ]
  },
  {
   "cell_type": "markdown",
   "id": "47e81445-d742-454d-a82a-35dfb6095da7",
   "metadata": {},
   "source": [
    "<h2 style='font-size:30px'> Keras Autotuner Demo</h2>\n",
    "<div> \n",
    "    <ul style='font-size:20px'> \n",
    "        <li>\n",
    "            Os hiperparâmetros podem ser tanto as configurações que governam o treinamento de um modelo (learning rate, alpha das regularizações...), quanto as que definem a sua arquitetura final (quantidade de camadas, neurônios...)\n",
    "        </li>\n",
    "    </ul>\n",
    " </div>"
   ]
  },
  {
   "cell_type": "markdown",
   "id": "df3ef42b-5bb0-4c77-8ce2-cd780d7b277e",
   "metadata": {},
   "source": [
    "<div>\n",
    "    <hr>\n",
    "    <h1 style='font-size:40px'> AutoML</h1>\n",
    "</div>"
   ]
  },
  {
   "cell_type": "markdown",
   "id": "13c14584-f5aa-445b-9146-ab2646b6ea3d",
   "metadata": {},
   "source": [
    "<h2 style='font-size:30px'> Intro to AutoML</h2>\n",
    "<div> \n",
    "    <ul style='font-size:20px'> \n",
    "        <li>\n",
    "            AutoML consiste em automatizar todo o fluxo de criação de IA's, desde a ingestão de dados crus e seu tratamento, até a modelagem e validação do algoritmo.\n",
    "        </li>\n",
    "    </ul>\n",
    " </div>"
   ]
  },
  {
   "cell_type": "markdown",
   "id": "acfeef21-8229-42f6-affb-560dd514e66e",
   "metadata": {},
   "source": [
    "<h3 style='font-size:30px;font-style:italic'> Neural Architecture Search (NAS)</h3>\n",
    "<div> \n",
    "    <ul style='font-size:20px'> \n",
    "        <li> \n",
    "            NAS é uma sub-área de Autom-ML voltada à concepção de redes neurais.\n",
    "        </li>\n",
    "        <li>\n",
    "            De maneira geral, definimos um Search Space dentro do qual uma Search Strategy escolherá um conjunto de hiperparâmetros para serem experimentados. A arquitetura proposta será avaliada por uma Performance Estimation Strategy, que retornará se os hiperparâmetros são apropriados, ou não. \n",
    "        </li>\n",
    "    </ul>\n",
    " </div>"
   ]
  },
  {
   "cell_type": "markdown",
   "id": "12ed8cae-819d-4f6c-8122-f8a6cf0ac684",
   "metadata": {},
   "source": [
    "<h2 style='font-size:30px'> Understanding Search Spaces</h2>\n",
    "<div> \n",
    "    <ul style='font-size:20px'> \n",
    "        <li>\n",
    "            Em NAS, existem duas principais abordagens de tunagem de hiperparâmetros.\n",
    "        </li>\n",
    "    </ul>\n",
    " </div>"
   ]
  },
  {
   "cell_type": "markdown",
   "id": "ea212128-7961-4d9a-bf5f-d8f657bb9627",
   "metadata": {},
   "source": [
    "<h3 style='font-size:30px;font-style:italic'> Macro Architecture Search Space</h3>\n",
    "<div> \n",
    "    <ul style='font-size:20px'> \n",
    "        <li>\n",
    "            Consiste em optimizar as configurações e arquitetura de uma única rede neural. Podemos recorrer a ela, seja para montarmos redes sequenciais, seja para fazermos Functional API's (ResNet...).\n",
    "        </li>\n",
    "        <li>\n",
    "            \n",
    "        </li>\n",
    "    </ul>\n",
    " </div>"
   ]
  },
  {
   "cell_type": "markdown",
   "id": "ac19fc60-b6bd-420a-a2bb-43c4d0c6aa9f",
   "metadata": {},
   "source": [
    "<p style='color:red'> Termnei Ungraded Lab; Vi Intro to AutoML ; Continuar Ungraded Lab (Keras Tuner)</p>"
   ]
  }
 ],
 "metadata": {
  "kernelspec": {
   "display_name": "Python 3 (ipykernel)",
   "language": "python",
   "name": "python3"
  },
  "language_info": {
   "codemirror_mode": {
    "name": "ipython",
    "version": 3
   },
   "file_extension": ".py",
   "mimetype": "text/x-python",
   "name": "python",
   "nbconvert_exporter": "python",
   "pygments_lexer": "ipython3",
   "version": "3.12.3"
  }
 },
 "nbformat": 4,
 "nbformat_minor": 5
}
