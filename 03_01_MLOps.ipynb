{
 "cells": [
  {
   "cell_type": "markdown",
   "id": "4dc75ab3-8120-4f16-84a1-19c026cd0e0e",
   "metadata": {},
   "source": [
    "<div>\n",
    "    <hr>\n",
    "    <h1 style='font-size:40px'> Hyperparameter tuning: searching for the best architecture</h1>\n",
    "</div>"
   ]
  },
  {
   "cell_type": "markdown",
   "id": "ac19fc60-b6bd-420a-a2bb-43c4d0c6aa9f",
   "metadata": {},
   "source": [
    "<p style='color:red'> Terminei a última semana do curso 2; Iniciar curso 3</p>"
   ]
  }
 ],
 "metadata": {
  "kernelspec": {
   "display_name": "Python 3 (ipykernel)",
   "language": "python",
   "name": "python3"
  },
  "language_info": {
   "codemirror_mode": {
    "name": "ipython",
    "version": 3
   },
   "file_extension": ".py",
   "mimetype": "text/x-python",
   "name": "python",
   "nbconvert_exporter": "python",
   "pygments_lexer": "ipython3",
   "version": "3.12.3"
  }
 },
 "nbformat": 4,
 "nbformat_minor": 5
}
