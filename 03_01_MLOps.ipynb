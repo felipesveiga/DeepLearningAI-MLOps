{
 "cells": [
  {
   "cell_type": "markdown",
   "id": "4dc75ab3-8120-4f16-84a1-19c026cd0e0e",
   "metadata": {},
   "source": [
    "<div>\n",
    "    <h1 style='font-size:40px'> Hyperparameter tuning: searching for the best architecture</h1>\n",
    "</div>\n",
    "<div> \n",
    "    <ul style='font-size:20px'>\n",
    "        <li> \n",
    "            A tunagem de hiperparâmetros não depende dos processos de otimização dos modelos, sendo um processo muito mais de tentativa e erro.   \n",
    "        </li>\n",
    "        <li>\n",
    "            A fim de acelerar o encontro dos melhores hiperparâmetros, foram criadas diversas metodologias, cada uma com seu racional.\n",
    "        </li>\n",
    "        <li>\n",
    "            No curso, desenvolveremos as tunagens com o Keras Tuner!\n",
    "        </li>\n",
    "    </ul>\n",
    "</div>"
   ]
  },
  {
   "cell_type": "markdown",
   "id": "47e81445-d742-454d-a82a-35dfb6095da7",
   "metadata": {},
   "source": [
    "<h2 style='font-size:30px'> Keras Autotuner Demo</h2>\n",
    "<div> \n",
    "    <ul style='font-size:20px'> \n",
    "        <li>\n",
    "            Os hiperparâmetros podem ser tanto as configurações que governam o treinamento de um modelo (learning rate, alpha das regularizações...), quanto as que definem a sua arquitetura final (quantidade de camadas, neurônios...)\n",
    "        </li>\n",
    "    </ul>\n",
    " </div>"
   ]
  },
  {
   "cell_type": "markdown",
   "id": "df3ef42b-5bb0-4c77-8ce2-cd780d7b277e",
   "metadata": {},
   "source": [
    "<div>\n",
    "    <hr>\n",
    "    <h1 style='font-size:40px'> AutoML</h1>\n",
    "</div>"
   ]
  },
  {
   "cell_type": "markdown",
   "id": "13c14584-f5aa-445b-9146-ab2646b6ea3d",
   "metadata": {},
   "source": [
    "<h2 style='font-size:30px'> Intro to AutoML</h2>\n",
    "<div> \n",
    "    <ul style='font-size:20px'> \n",
    "        <li>\n",
    "            AutoML consiste em automatizar todo o fluxo de criação de IA's, desde a ingestão de dados crus e seu tratamento, até a modelagem e validação do algoritmo.\n",
    "        </li>\n",
    "    </ul>\n",
    " </div>"
   ]
  },
  {
   "cell_type": "markdown",
   "id": "acfeef21-8229-42f6-affb-560dd514e66e",
   "metadata": {},
   "source": [
    "<h3 style='font-size:30px;font-style:italic'> Neural Architecture Search (NAS)</h3>\n",
    "<div> \n",
    "    <ul style='font-size:20px'> \n",
    "        <li> \n",
    "            NAS é uma sub-área de Auto-ML voltada à concepção de redes neurais.\n",
    "        </li>\n",
    "        <li>\n",
    "            De maneira geral, definimos um Search Space dentro do qual uma Search Strategy escolherá um conjunto de hiperparâmetros para serem experimentados. A arquitetura proposta será avaliada por uma Performance Estimation Strategy, que retornará se os hiperparâmetros são apropriados, ou não. \n",
    "        </li>\n",
    "    </ul>\n",
    " </div>"
   ]
  },
  {
   "cell_type": "markdown",
   "id": "12ed8cae-819d-4f6c-8122-f8a6cf0ac684",
   "metadata": {},
   "source": [
    "<h2 style='font-size:30px'> Understanding Search Spaces</h2>\n",
    "<div> \n",
    "    <ul style='font-size:20px'> \n",
    "        <li>\n",
    "            Em NAS, existem duas principais abordagens de tunagem de hiperparâmetros.\n",
    "        </li>\n",
    "    </ul>\n",
    " </div>"
   ]
  },
  {
   "cell_type": "markdown",
   "id": "ea212128-7961-4d9a-bf5f-d8f657bb9627",
   "metadata": {},
   "source": [
    "<h3 style='font-size:30px;font-style:italic'> Macro Architecture Search Space</h3>\n",
    "<div> \n",
    "    <ul style='font-size:20px'> \n",
    "        <li>\n",
    "            Consiste em optimizar as configurações e arquitetura de uma única rede neural. Podemos recorrer a ela, seja para montarmos redes sequenciais, seja para fazermos Functional API's (ResNet...).\n",
    "        </li>\n",
    "    </ul>\n",
    " </div>"
   ]
  },
  {
   "cell_type": "markdown",
   "id": "e83a28a3-d5df-465f-b132-1b6a055f0b39",
   "metadata": {},
   "source": [
    "<h3 style='font-size:30px;font-style:italic'> Micro Architecture Search Space</h3>\n",
    "<div> \n",
    "    <ul style='font-size:20px'> \n",
    "        <li>\n",
    "            Otimização da arquitetura de NN's compostas por outras NN's (como é o caso da Inception, de CV).\n",
    "        </li>\n",
    "    </ul>\n",
    " </div>"
   ]
  },
  {
   "cell_type": "markdown",
   "id": "ae9ea575-09aa-4eb8-9058-be96bcf587fb",
   "metadata": {},
   "source": [
    "<h2 style='font-size:30px'> Search Strategies</h2>\n",
    "<div> \n",
    "    <ul style='font-size:20px'> \n",
    "        <li>\n",
    "            Em situações com um search space pequeno, Grid e Random Search podem conferir bons resultados.\n",
    "        </li>\n",
    "    </ul>\n",
    " </div>"
   ]
  },
  {
   "cell_type": "markdown",
   "id": "485c0cda-cc40-4e2e-8917-78dad6233b38",
   "metadata": {},
   "source": [
    "<h3 style='font-size:30px;font-style:italic'> Bayesian Optimization</h3>\n",
    "<div> \n",
    "    <ul style='font-size:20px'> \n",
    "        <li>\n",
    "            Presume que há uma distribuição de probabilidades, por trás do desempenho do modelo.\n",
    "        </li>\n",
    "        <li>\n",
    "            Busca por configurações em regiões do espaço que culminaram em boas performances.\n",
    "        </li>\n",
    "    </ul>\n",
    " </div>"
   ]
  },
  {
   "cell_type": "markdown",
   "id": "51c1a0d3-3407-4a48-b2a2-273993b9934c",
   "metadata": {},
   "source": [
    "<h3 style='font-size:30px;font-style:italic'> Evolutionary Methods/Genetic Algorithms</h3>\n",
    "<div> \n",
    "    <ul style='font-size:20px'> \n",
    "        <li>   \n",
    "            Processo iterativo, que iniciamos com uma amostra de modelos. As x melhores configurações geram descendentes, que substituem os y piores algoritmos. \n",
    "            <center style='margin-top:20px'> \n",
    "                <img src='img/03_01_evolutionary.png'>\n",
    "            </center>\n",
    "        </li>\n",
    "    </ul>\n",
    " </div>"
   ]
  },
  {
   "cell_type": "markdown",
   "id": "b4882d83-770c-45a1-9522-3bdfe4a09dc0",
   "metadata": {},
   "source": [
    "<h2 style='font-size:30px'> Measuring AutoML Efficacy</h2>\n",
    "<div> \n",
    "    <ul style='font-size:20px'> \n",
    "        <li>\n",
    "            A mera computação da acurácia no set de teste das arquiteturas pode demandar hardware excessivamente. Foi pensando nisso, que foram geradas novas metodologias de avaliação de AutoML's. \n",
    "        </li>\n",
    "    </ul>\n",
    " </div>"
   ]
  },
  {
   "cell_type": "markdown",
   "id": "eefba4a7-a81f-4f3d-9c12-93e67e0a80b2",
   "metadata": {},
   "source": [
    "<h3 style='font-size:30px;font-style:italic'> Lower Fidelity Estimates</h3>\n",
    "<div> \n",
    "    <ul style='font-size:20px'> \n",
    "        <li>\n",
    "            Propõe reduzir o tempo de treinamento dos modelos, seja com datasets modificados - subset, PCA -, seja com arquiteturas menores - menos funções compostas.\n",
    "        </li>\n",
    "        <li>\n",
    "            Presume que o rank de desempenho das arquiteturas em condições plenas seja o mesmo que nas condições limitadas do Lower Fidelity Estimates. \n",
    "        </li>\n",
    "    </ul>\n",
    " </div>"
   ]
  },
  {
   "cell_type": "markdown",
   "id": "a83e5ae7-9391-45b3-9b0b-66a75c016a86",
   "metadata": {},
   "source": [
    "<h3 style='font-size:30px;font-style:italic'> Learning Curve Extrapolation</h3>\n",
    "<div> \n",
    "    <ul style='font-size:20px'> \n",
    "        <li>\n",
    "            Propõe treinar as arquiteturas por poucas iterações, e tentar fazer uma extrapolação da curva de aprendizado para ciclos futuros.\n",
    "        </li>\n",
    "        <li>\n",
    "            Desconsideramos, assim, as configurações menos promissoras.\n",
    "        </li>\n",
    "    </ul>\n",
    " </div>"
   ]
  },
  {
   "cell_type": "markdown",
   "id": "2aeaa866-b07b-4e15-bf65-1497de2f9e52",
   "metadata": {},
   "source": [
    "<h3 style='font-size:30px;font-style:italic'> Weight Inheritance/Network Morphism</h3>\n",
    "<div> \n",
    "    <ul style='font-size:20px'> \n",
    "        <li>\n",
    "            Inicializa os coeficientes das novas arquiteturas, com base nas matrizes dos modelos da iteração anterior - similar a transfer learning. \n",
    "        </li>\n",
    "    </ul>\n",
    " </div>"
   ]
  },
  {
   "cell_type": "markdown",
   "id": "d71185d6-6f57-422f-8546-bab0fa2a9fd3",
   "metadata": {},
   "source": [
    "<h2 style='font-size:30px'> AutoML on the Cloud</h2>\n",
    "<div> \n",
    "    <ul style='font-size:20px'> \n",
    "        <li>\n",
    "            Todos os principais provedores de Cloud Computing oferecem produtos de AutoML. \n",
    "        </li>\n",
    "    </ul>\n",
    " </div>"
   ]
  },
  {
   "cell_type": "markdown",
   "id": "daac2420-d838-4648-beb1-dc9f3e32c5ed",
   "metadata": {
    "jp-MarkdownHeadingCollapsed": true
   },
   "source": [
    "<h3 style='font-size:30px;font-style:italic'> Amazon SageMaker Autopilot</h3>\n",
    "<div> \n",
    "    <ul style='font-size:20px'> \n",
    "        <li>\n",
    "            Automaticamente, captura dados crus de um Bucket, e realiza o treinamento e tunagem de modelos, baseados na target que você definiu.\n",
    "        </li>\n",
    "    </ul>\n",
    " </div>"
   ]
  },
  {
   "cell_type": "markdown",
   "id": "abfc3012-61ae-4f13-8a92-067703cdba29",
   "metadata": {
    "jp-MarkdownHeadingCollapsed": true
   },
   "source": [
    "<h3 style='font-size:30px;font-style:italic'> Microsoft Azure AutoML</h3>\n",
    "<div> \n",
    "    <ul style='font-size:20px'> \n",
    "        <li>\n",
    "            Também realiza as mesmas atividades que o Autopilot, mas possibilita que o usuário interaja tanto por uma GUI, quanto programaticamente.\n",
    "        </li>\n",
    "        <li>\n",
    "            Consegue fazer Feature Engineering e interrupção de treinamento automatizados.\n",
    "        </li>\n",
    "    </ul>\n",
    " </div>"
   ]
  },
  {
   "cell_type": "markdown",
   "id": "c0f52dd0-945b-414b-bbb9-58f2536eaa45",
   "metadata": {},
   "source": [
    "<h3 style='font-size:30px;font-style:italic'> Google Cloud AutoML</h3>\n",
    "<div> \n",
    "    <ul style='font-size:20px'> \n",
    "        <li>\n",
    "            Permite a criação de modelos, também via GUI. Tem serviço de rotulagem e limpeza de dados, caso considere necessário.\n",
    "        </li>\n",
    "        <li>\n",
    "            Diferentemente dos demais provedores, o Google oferece uma série de subprodutos de AutoML, cada um especializado para uma determinada atividade.\n",
    "            <center style='margin-top:20px'> \n",
    "                <img src='img/03_01_google_automl.png'>\n",
    "            </center>\n",
    "        </li>\n",
    "    </ul>\n",
    " </div>"
   ]
  },
  {
   "cell_type": "markdown",
   "id": "f8152dbf-8fff-4aa7-83f9-58b19cc2cbf3",
   "metadata": {},
   "source": [
    "<h2 style='font-size:30px'> Assignment Setup</h2>\n",
    "<div> \n",
    "    <ul style='font-size:20px'> \n",
    "        <li>\n",
    "            Nessa semana do curso, simularemos a construção de um modelo de visão computacional no Google Cloud, com QwikLab.\n",
    "            <center style='margin-top:20px'> \n",
    "                <img src='img/03_01_assignment.png'>\n",
    "            </center>\n",
    "        </li>\n",
    "    </ul>\n",
    " </div>"
   ]
  },
  {
   "cell_type": "markdown",
   "id": "ac19fc60-b6bd-420a-a2bb-43c4d0c6aa9f",
   "metadata": {},
   "source": [
    "<p style='color:red'> Vi AutoML on the Cloud e Assignment Setup; Fazer o Graded Lab da semana</p>"
   ]
  }
 ],
 "metadata": {
  "kernelspec": {
   "display_name": "Python 3 (ipykernel)",
   "language": "python",
   "name": "python3"
  },
  "language_info": {
   "codemirror_mode": {
    "name": "ipython",
    "version": 3
   },
   "file_extension": ".py",
   "mimetype": "text/x-python",
   "name": "python",
   "nbconvert_exporter": "python",
   "pygments_lexer": "ipython3",
   "version": "3.12.3"
  }
 },
 "nbformat": 4,
 "nbformat_minor": 5
}
