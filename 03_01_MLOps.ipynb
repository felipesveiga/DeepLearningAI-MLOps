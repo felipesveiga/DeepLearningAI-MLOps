{
 "cells": [
  {
   "cell_type": "markdown",
   "id": "4dc75ab3-8120-4f16-84a1-19c026cd0e0e",
   "metadata": {},
   "source": [
    "<div>\n",
    "    <h1 style='font-size:40px'> Hyperparameter tuning: searching for the best architecture</h1>\n",
    "</div>\n",
    "<div> \n",
    "    <ul style='font-size:20px'>\n",
    "        <li> \n",
    "            A tunagem de hiperparâmetros não depende dos processos de otimização dos modelos, sendo um processo muito mais de tentativa e erro.   \n",
    "        </li>\n",
    "        <li>\n",
    "            A fim de acelerar o encontro dos melhores hiperparâmetros, foram criadas diversas metodologias, cada uma com seu racional.\n",
    "        </li>\n",
    "        <li>\n",
    "            No curso, desenvolveremos as tunagens com o Keras Tuner!\n",
    "        </li>\n",
    "    </ul>\n",
    "</div>"
   ]
  },
  {
   "cell_type": "markdown",
   "id": "47e81445-d742-454d-a82a-35dfb6095da7",
   "metadata": {},
   "source": [
    "<h2 style='font-size:30px'> Keras Autotuner Demo</h2>\n",
    "<div> \n",
    "    <ul style='font-size:20px'> \n",
    "        <li>\n",
    "            Os hiperparâmetros podem ser tanto as configurações que governam o treinamento de um modelo (learning rate, alpha das regularizações...), quanto as que definem a sua arquitetura final (quantidade de camadas, neurônios...)\n",
    "        </li>\n",
    "    </ul>\n",
    " </div>"
   ]
  },
  {
   "cell_type": "markdown",
   "id": "ac19fc60-b6bd-420a-a2bb-43c4d0c6aa9f",
   "metadata": {},
   "source": [
    "<p style='color:red'> Iniciei a semana 1 e Ungraded Lab; Continuar Ungraded Lab (Keras Tuner)</p>"
   ]
  }
 ],
 "metadata": {
  "kernelspec": {
   "display_name": "Python 3 (ipykernel)",
   "language": "python",
   "name": "python3"
  },
  "language_info": {
   "codemirror_mode": {
    "name": "ipython",
    "version": 3
   },
   "file_extension": ".py",
   "mimetype": "text/x-python",
   "name": "python",
   "nbconvert_exporter": "python",
   "pygments_lexer": "ipython3",
   "version": "3.12.3"
  }
 },
 "nbformat": 4,
 "nbformat_minor": 5
}
